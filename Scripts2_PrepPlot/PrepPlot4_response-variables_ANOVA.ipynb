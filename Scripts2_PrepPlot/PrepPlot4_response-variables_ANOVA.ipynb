{
 "cells": [
  {
   "cell_type": "code",
   "execution_count": null,
   "metadata": {},
   "outputs": [],
   "source": [
    "import os\n",
    "import sys\n",
    "import time as t_util\n",
    "import numpy as np\n",
    "import cftime\n",
    "import xarray as xr\n",
    "import pandas as pd\n",
    "import yaml\n"
   ]
  },
  {
   "cell_type": "code",
   "execution_count": null,
   "metadata": {},
   "outputs": [],
   "source": [
    "#Read main path\n",
    "with open('../path_main.txt', 'r') as file:   path_main  = file.read()\n",
    "\n",
    "dir_data_HSIchg = f'{path_main}Data/Plot_preparation/HSI_changes/'\n",
    "dir_data_ThrExc = f'{path_main}Data/Plot_preparation/Threshold_Exceedance/'\n",
    "dir_data_HWMId  = f'{path_main}Data/Plot_preparation/HWMId/'\n",
    "dir_scripts     = f'{path_main}Scripts/'\n",
    "dir_names       = f'{path_main}Scripts/Model_lists/'\n",
    "dir_out         = f'{path_main}Data/EURO-CORDEX/ANOVA_input/'\n",
    "if not os.path.exists(dir_out): os.mkdir(dir_out)\n",
    "    "
   ]
  },
  {
   "cell_type": "markdown",
   "metadata": {},
   "source": [
    "## Prepare variables and parameters"
   ]
  },
  {
   "cell_type": "code",
   "execution_count": null,
   "metadata": {},
   "outputs": [],
   "source": [
    "#Define cities\n",
    "cities = ['Lisbon', 'Madrid', 'Barcelona', 'Rome', 'Athens', 'Istanbul', 'Sofia', 'Bucharest', 'Belgrade',\n",
    "          'Zagreb', 'Milan', 'Budapest', 'Munich', 'Vienna', 'Prague', 'Paris', 'Brussels', 'Amsterdam',\n",
    "          'London', 'Dublin', 'Hamburg', 'Copenhagen', 'Berlin', 'Warsaw', 'Kharkiv', 'Kyiv', 'Minsk','Vilnius', \n",
    "          'Riga', 'Moscow', 'NizhnyNovgorod', 'Kazan', 'SaintPetersburg', 'Helsinki', 'Stockholm', 'Oslo']\n",
    "\n",
    "cities = np.array(cities)\n",
    "\n",
    "#Define HSIs\n",
    "HSIs = ['TX', 'TN']\n",
    "\n",
    "# Load city coordinates\n",
    "fname_coords = dir_scripts + 'City_coordinates.yml'\n",
    "with open(fname_coords, 'r') as file:\n",
    "    city_coords = yaml.safe_load(file)\n",
    "    \n",
    "#Define scenarios and variables\n",
    "RCP = 'rcp85'\n",
    "\n",
    "#Define models and RCPs which should be used\n",
    "all_models = dict()\n",
    "all_models = []\n",
    "with open(dir_names + 'Models_CORDEX-EUR-11_RCP85.txt', 'r') as filehandle:\n",
    "    for line in filehandle:\n",
    "        all_models.append(eval(line[:-1]))\n",
    "\n",
    "#Define warming levels\n",
    "EMT_change = '3.0K' #'1.0K', '2.0K', \n",
    "\n",
    "N_gridcells = ''\n",
    "# N_gridcells = '_3x3'\n"
   ]
  },
  {
   "cell_type": "markdown",
   "metadata": {},
   "source": [
    "## Get data and save as CSV"
   ]
  },
  {
   "cell_type": "code",
   "execution_count": null,
   "metadata": {
    "scrolled": true
   },
   "outputs": [],
   "source": [
    "#Select methods to show in plot\n",
    "methods     = ['HSI-changes', 'Threshold-Exceedance', 'HWMId']\n",
    "\n",
    "#Select which time method to use for HSI changes ('JJA_mean', 'Q90', 'Ymax')\n",
    "t_method = 'Ymax'\n",
    "quantile = 'Q50'\n",
    "\n",
    "#Define threshold levels\n",
    "THR_levels = dict()\n",
    "THR_levels['TN'] = 2 # 20 °C\n",
    "THR_levels['TX'] = 3 # 30 °C\n",
    "\n",
    "#Loop over HSIs\n",
    "for i6, HSI in enumerate(HSIs):\n",
    "    \n",
    "    THR_level = 'Level' + str(THR_levels[HSI])\n",
    "    \n",
    "    met_out = dict()\n",
    "    met_out['HSI-changes']          = HSI + '_DeltaChange-' + t_method\n",
    "    met_out['Threshold-Exceedance'] = HSI + '_ThrExc-' + THR_level\n",
    "    met_out['HWMId']                = HSI + '_HWMId-' + quantile\n",
    "\n",
    "    #Read data for HSI change\n",
    "    fname_HSIchg = dir_data_HSIchg + 'EURO-CORDEX' + N_gridcells + '/HSIs-changes_rcp85_EMT.nc'\n",
    "    data_HSIchg  = xr.open_dataset(fname_HSIchg)\n",
    "    data_HSIchg  = data_HSIchg.sel(city=cities, EMT_change=EMT_change, t_method=t_method)[HSI]\n",
    "\n",
    "    #Read data for threshold exceedance\n",
    "    fname_ThrExc = dir_data_ThrExc + 'EURO-CORDEX' + N_gridcells + '/HSIs-ThresholdExceedance_rcp85_EMT.nc'\n",
    "    data_ThrExc  = xr.open_dataset(fname_ThrExc)\n",
    "    data_ThrExc  = data_ThrExc.sel(city=cities, EMT_change=EMT_change, THR_level=THR_level, transformation='no_trans')[HSI]\n",
    "\n",
    "    #Read data for HWMId\n",
    "    fname_HWMId = dir_data_HWMId + 'EURO-CORDEX' + N_gridcells + '/HWMId-' + HSI + '_' + RCP + '_EMT.nc'\n",
    "    data_HWMId  = xr.open_dataset(fname_HWMId)\n",
    "    data_HWMId  = data_HWMId.sel(city=cities, EMT_change=EMT_change, quantile=quantile).HWMID\n",
    "\n",
    "    #Save data in dict for plotting\n",
    "    data_coll = dict()\n",
    "    data_coll['HSI-changes']          = data_HSIchg\n",
    "    data_coll['Threshold-Exceedance'] = data_ThrExc\n",
    "    data_coll['HWMId']                = data_HWMId\n",
    "    \n",
    "    #Loop over methods\n",
    "    for i5, method in enumerate(methods):\n",
    "\n",
    "        #Collect in data frame\n",
    "        data_out = pd.DataFrame(data_coll[method].values)\n",
    "\n",
    "        #Name rows and columns\n",
    "        if data_out.shape[1]==67:\n",
    "            data_out.columns = ['_'.join(mod) for mod in all_models]\n",
    "            data_out.index = cities\n",
    "        else:\n",
    "            data_out.columns = cities\n",
    "            data_out.index = ['_'.join(mod) for mod in all_models]\n",
    "        \n",
    "        #Save as CSV\n",
    "        fname_out = dir_out + 'ANOVA' + N_gridcells + '_' + met_out[method] + '_all_models.csv'\n",
    "        data_out.to_csv(fname_out, index=True)    \n",
    "        "
   ]
  },
  {
   "cell_type": "code",
   "execution_count": null,
   "metadata": {},
   "outputs": [],
   "source": []
  }
 ],
 "metadata": {
  "kernelspec": {
   "display_name": "Python 3 (ipykernel)",
   "language": "python",
   "name": "python3"
  },
  "language_info": {
   "codemirror_mode": {
    "name": "ipython",
    "version": 3
   },
   "file_extension": ".py",
   "mimetype": "text/x-python",
   "name": "python",
   "nbconvert_exporter": "python",
   "pygments_lexer": "ipython3",
   "version": "3.8.8"
  }
 },
 "nbformat": 4,
 "nbformat_minor": 2
}

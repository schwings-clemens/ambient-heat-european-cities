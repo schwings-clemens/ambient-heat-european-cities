{
 "cells": [
  {
   "cell_type": "code",
   "execution_count": 1,
   "metadata": {},
   "outputs": [],
   "source": [
    "import os\n",
    "import sys\n",
    "import time as t_util\n",
    "import numpy as np\n",
    "import cftime\n",
    "import xarray as xr\n",
    "import yaml\n",
    "import matplotlib.pyplot as plt\n"
   ]
  },
  {
   "cell_type": "code",
   "execution_count": 2,
   "metadata": {},
   "outputs": [],
   "source": [
    "#Read main paths\n",
    "with open('../path_main.txt', 'r') as file:    path_main  = file.read()\n",
    "with open('../path_grids.txt', 'r') as file:   path_grids = file.read()\n",
    "    \n",
    "dir_data_Ymax  = f'{path_main}Data/CMIP6/Yearmax/'\n",
    "dir_scripts    = f'{path_main}Scripts/'\n",
    "dir_names      = f'{path_main}Scripts/Model_lists/'\n",
    "dir_regrid     = f'{path_grids}Regridding/'\n"
   ]
  },
  {
   "cell_type": "markdown",
   "metadata": {},
   "source": [
    "## Prepare variables and parameters"
   ]
  },
  {
   "cell_type": "code",
   "execution_count": 3,
   "metadata": {},
   "outputs": [],
   "source": [
    "#Define models\n",
    "all_models = []\n",
    "with open(dir_names + 'Models_CMIP6_SSP585.txt', 'r') as filehandle:\n",
    "    for line in filehandle:\n",
    "        all_models.append(line[:-1])    \n",
    "        \n",
    "#Define reference period\n",
    "ref_period = '1981-2010'\n",
    "\n",
    "#Define EMT\n",
    "dEMT_str = 'ESAT-3.0K'    \n",
    "\n",
    "#Define limits for European box\n",
    "lon_limits_EUR = [-10, 35]\n",
    "lat_limits_EUR = [30, 70]\n"
   ]
  },
  {
   "cell_type": "markdown",
   "metadata": {},
   "source": [
    "## Regrid TXx and TNx"
   ]
  },
  {
   "cell_type": "code",
   "execution_count": 7,
   "metadata": {
    "scrolled": true
   },
   "outputs": [
    {
     "name": "stdout",
     "output_type": "stream",
     "text": [
      "24: 0, "
     ]
    },
    {
     "name": "stderr",
     "output_type": "stream",
     "text": [
      "Warning (cdf_set_var): Inconsistent variable definition for lon_bnds!\n",
      "Warning (cdf_set_var): Inconsistent variable definition for lat_bnds!\n",
      "cdo    remapbil: Bilinear weights from lonlat (192x144) to lonlat (360x180) grid\n",
      "cdo    remapbil: Processed 27648 values from 1 variable over 1 timestep [0.03s 188MB].\n"
     ]
    },
    {
     "ename": "NameError",
     "evalue": "name 'dsfasdf' is not defined",
     "output_type": "error",
     "traceback": [
      "\u001b[0;31m---------------------------------------------------------------------------\u001b[0m",
      "\u001b[0;31mNameError\u001b[0m                                 Traceback (most recent call last)",
      "Input \u001b[0;32mIn [7]\u001b[0m, in \u001b[0;36m<cell line: 7>\u001b[0;34m()\u001b[0m\n\u001b[1;32m     45\u001b[0m \u001b[38;5;28;01mif\u001b[39;00m \u001b[38;5;124m'\u001b[39m\u001b[38;5;124mheight\u001b[39m\u001b[38;5;124m'\u001b[39m \u001b[38;5;129;01min\u001b[39;00m data_regr: data_regr \u001b[38;5;241m=\u001b[39m data_regr\u001b[38;5;241m.\u001b[39mdrop(\u001b[38;5;124m'\u001b[39m\u001b[38;5;124mheight\u001b[39m\u001b[38;5;124m'\u001b[39m)\n\u001b[1;32m     47\u001b[0m coll\u001b[38;5;241m.\u001b[39mappend(data_diff\u001b[38;5;241m.\u001b[39mTXx\u001b[38;5;241m.\u001b[39mmean()\u001b[38;5;241m.\u001b[39mitem())\n\u001b[0;32m---> 49\u001b[0m \u001b[43mdsfasdf\u001b[49m\n\u001b[1;32m     51\u001b[0m \u001b[38;5;66;03m#Collect in one array\u001b[39;00m\n\u001b[1;32m     52\u001b[0m \u001b[38;5;28;01mif\u001b[39;00m create\u001b[38;5;241m==\u001b[39m\u001b[38;5;241m1\u001b[39m:\n",
      "\u001b[0;31mNameError\u001b[0m: name 'dsfasdf' is not defined"
     ]
    }
   ],
   "source": [
    "variables = ['TXx']#, 'TNx']\n",
    "\n",
    "data_all = dict()\n",
    "\n",
    "for variab in variables:\n",
    "\n",
    "    dir_data = dir_data_Ymax + variab + '/'\n",
    "\n",
    "    print(len(all_models), end=': ')\n",
    "\n",
    "    #Loop over all models\n",
    "    create = 1\n",
    "    for i, model in enumerate(all_models):        \n",
    "        \n",
    "        print(i, end=', ')\n",
    "\n",
    "        #Get file names\n",
    "        f_ref = [file for file in os.listdir(dir_data) if variab in file and model + '_' in file and ref_period in file]\n",
    "        f_app = [file for file in os.listdir(dir_data) if variab in file and model + '_' in file and dEMT_str in file]\n",
    "        if len(f_ref)!=1:  sys.exit('File is not unique')\n",
    "        if len(f_app)!=1:  sys.exit('File is not unique')\n",
    "\n",
    "        #Read data and calculate difference\n",
    "        data_ref = xr.open_dataset(dir_data + f_ref[0])\n",
    "        data_app = xr.open_dataset(dir_data + f_app[0])\n",
    "        data_diff = data_app.mean('time') - data_ref.mean('time')\n",
    "\n",
    "        #Save in NetCDF\n",
    "        fname_tmp = dir_data_Ymax + model + \"_tmp.nc\"\n",
    "        data_diff.to_netcdf(fname_tmp)\n",
    "\n",
    "        #Regrid to standard grid\n",
    "        fname_grid = dir_regrid + 'grid_xy_1deg'\n",
    "        fname_regrid = dir_data_Ymax + model + \"_regridded.nc\"\n",
    "        os.system(\"cdo remapbil,\" + fname_grid + \" \" + fname_tmp + \" \" + fname_regrid)\n",
    "\n",
    "        #Read regridded dataset\n",
    "        data_regr = xr.open_dataset(fname_regrid)\n",
    "\n",
    "        #Remove unnecessary variables\n",
    "        vars_remove = set(data_regr.data_vars).difference([variab])\n",
    "        data_regr = data_regr.drop(vars_remove)\n",
    "        if 'height' in data_regr: data_regr = data_regr.drop('height')\n",
    "\n",
    "        #Collect in one array\n",
    "        if create==1:\n",
    "            data_coll = data_regr\n",
    "            create = 0\n",
    "        else:\n",
    "            data_coll = xr.concat((data_coll, data_regr), dim='model')\n",
    "\n",
    "        #Remove temporary files\n",
    "        os.remove(fname_tmp)\n",
    "        os.remove(fname_regrid)\n",
    "\n",
    "    #Add model names\n",
    "    data_coll['model'] = all_models        \n",
    "        \n",
    "    #Save in file\n",
    "    fname_out = dir_data_Ymax + variab + '_all_models_yearmax.nc'\n",
    "    if os.path.exists(fname_out): os.remove(fname_out)\n",
    "    data_coll.to_netcdf(fname_out)\n"
   ]
  },
  {
   "cell_type": "code",
   "execution_count": null,
   "metadata": {},
   "outputs": [],
   "source": []
  }
 ],
 "metadata": {
  "kernelspec": {
   "display_name": "Python 3 (ipykernel)",
   "language": "python",
   "name": "python3"
  },
  "language_info": {
   "codemirror_mode": {
    "name": "ipython",
    "version": 3
   },
   "file_extension": ".py",
   "mimetype": "text/x-python",
   "name": "python",
   "nbconvert_exporter": "python",
   "pygments_lexer": "ipython3",
   "version": "3.8.8"
  }
 },
 "nbformat": 4,
 "nbformat_minor": 2
}

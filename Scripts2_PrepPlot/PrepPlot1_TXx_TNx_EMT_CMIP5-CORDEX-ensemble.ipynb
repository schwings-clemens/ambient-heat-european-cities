{
 "cells": [
  {
   "cell_type": "code",
   "execution_count": 1,
   "metadata": {},
   "outputs": [],
   "source": [
    "import os\n",
    "import sys\n",
    "import time as t_util\n",
    "import numpy as np\n",
    "import cftime\n",
    "import xarray as xr\n",
    "import yaml\n",
    "import matplotlib.pyplot as plt\n"
   ]
  },
  {
   "cell_type": "code",
   "execution_count": 2,
   "metadata": {},
   "outputs": [],
   "source": [
    "#Read main paths\n",
    "with open('../path_main.txt', 'r') as file:    path_main  = file.read()\n",
    "with open('../path_grids.txt', 'r') as file:   path_grids = file.read()\n",
    "    \n",
    "dir_data_Ymax = f'{path_main}Data/CMIP5/Yearmax/'\n",
    "dir_scripts   = f'{path_main}Scripts/'\n",
    "dir_names     = f'{path_main}Scripts/Model_lists/'\n",
    "dir_regrid    = f'{path_grids}Regridding/'\n"
   ]
  },
  {
   "cell_type": "markdown",
   "metadata": {},
   "source": [
    "## Prepare variables and parameters"
   ]
  },
  {
   "cell_type": "code",
   "execution_count": 3,
   "metadata": {},
   "outputs": [],
   "source": [
    "#Define models\n",
    "all_models = []\n",
    "with open(dir_names + 'Models_CORDEX-EUR-11_RCP85.txt', 'r') as filehandle:\n",
    "    for line in filehandle:\n",
    "        all_models.append(eval(line[:-1]))\n",
    "\n",
    "#Define reference period\n",
    "ref_period = '1981-2010'\n",
    "\n",
    "#Define EMT\n",
    "dEMT_str = 'ESAT-3.0K'\n",
    "\n",
    "#Define limits for European box\n",
    "lon_limits_EUR = [-10, 35]\n",
    "lat_limits_EUR = [30, 70]\n"
   ]
  },
  {
   "cell_type": "markdown",
   "metadata": {},
   "source": [
    "## Regrid TXx and TNx"
   ]
  },
  {
   "cell_type": "code",
   "execution_count": 8,
   "metadata": {
    "scrolled": true
   },
   "outputs": [
    {
     "name": "stdout",
     "output_type": "stream",
     "text": [
      "72: 0, 1, 2, "
     ]
    },
    {
     "name": "stderr",
     "output_type": "stream",
     "text": [
      "Warning (cdf_set_var): Inconsistent variable definition for lon_bnds!\n",
      "Warning (cdf_set_var): Inconsistent variable definition for lat_bnds!\n",
      "cdo    remapbil: Bilinear weights from gaussian (128x64) to lonlat (360x180) grid\n",
      "cdo    remapbil: Processed 8192 values from 1 variable over 1 timestep [0.03s 202MB].\n",
      "Warning (cdf_set_var): Inconsistent variable definition for lon_bnds!\n",
      "Warning (cdf_set_var): Inconsistent variable definition for lat_bnds!\n",
      "cdo    remapbil: Bilinear weights from gaussian (128x64) to lonlat (360x180) grid\n",
      "cdo    remapbil: Processed 8192 values from 1 variable over 1 timestep [0.03s 202MB].\n",
      "Warning (cdf_set_var): Inconsistent variable definition for lon_bnds!\n",
      "Warning (cdf_set_var): Inconsistent variable definition for lat_bnds!\n",
      "cdo    remapbil: Bilinear weights from gaussian (256x128) to lonlat (360x180) grid\n",
      "cdo    remapbil: Processed 32768 values from 1 variable over 1 timestep [0.04s 202MB].\n",
      "Warning (cdf_set_var): Inconsistent variable definition for lon_bnds!\n",
      "Warning (cdf_set_var): Inconsistent variable definition for lat_bnds!\n",
      "cdo    remapbil: Bilinear weights from gaussian (256x128) to lonlat (360x180) grid\n",
      "cdo    remapbil: Processed 32768 values from 1 variable over 1 timestep [0.04s 202MB].\n",
      "Warning (cdf_set_var): Inconsistent variable definition for lon_bnds!\n",
      "Warning (cdf_set_var): Inconsistent variable definition for lat_bnds!\n",
      "cdo    remapbil: Bilinear weights from gaussian (256x128) to lonlat (360x180) grid\n",
      "cdo    remapbil: Processed 32768 values from 1 variable over 1 timestep [0.04s 202MB].\n"
     ]
    },
    {
     "name": "stdout",
     "output_type": "stream",
     "text": [
      "3, 4, 5, "
     ]
    },
    {
     "name": "stderr",
     "output_type": "stream",
     "text": [
      "Warning (cdf_set_var): Inconsistent variable definition for lon_bnds!\n",
      "Warning (cdf_set_var): Inconsistent variable definition for lat_bnds!\n",
      "cdo    remapbil: Bilinear weights from gaussian (256x128) to lonlat (360x180) grid\n",
      "cdo    remapbil: Processed 32768 values from 1 variable over 1 timestep [0.04s 202MB].\n",
      "Warning (cdf_set_var): Inconsistent variable definition for lon_bnds!\n",
      "Warning (cdf_set_var): Inconsistent variable definition for lat_bnds!\n",
      "cdo    remapbil: Bilinear weights from gaussian (256x128) to lonlat (360x180) grid\n",
      "cdo    remapbil: Processed 32768 values from 1 variable over 1 timestep [0.04s 202MB].\n",
      "Warning (cdf_set_var): Inconsistent variable definition for lon_bnds!\n",
      "Warning (cdf_set_var): Inconsistent variable definition for lat_bnds!\n",
      "cdo    remapbil: Bilinear weights from gaussian (256x128) to lonlat (360x180) grid\n"
     ]
    },
    {
     "name": "stdout",
     "output_type": "stream",
     "text": [
      "6, 7, 8, "
     ]
    },
    {
     "name": "stderr",
     "output_type": "stream",
     "text": [
      "cdo    remapbil: Processed 32768 values from 1 variable over 1 timestep [0.04s 202MB].\n",
      "Warning (cdf_set_var): Inconsistent variable definition for lon_bnds!\n",
      "Warning (cdf_set_var): Inconsistent variable definition for lat_bnds!\n",
      "cdo    remapbil: Bilinear weights from gaussian (256x128) to lonlat (360x180) grid\n",
      "cdo    remapbil: Processed 32768 values from 1 variable over 1 timestep [0.04s 202MB].\n",
      "Warning (cdf_set_var): Inconsistent variable definition for lon_bnds!\n",
      "Warning (cdf_set_var): Inconsistent variable definition for lat_bnds!\n",
      "cdo    remapbil: Bilinear weights from gaussian (256x128) to lonlat (360x180) grid\n",
      "cdo    remapbil: Processed 32768 values from 1 variable over 1 timestep [0.04s 202MB].\n"
     ]
    },
    {
     "name": "stdout",
     "output_type": "stream",
     "text": [
      "9, 10, 11, "
     ]
    },
    {
     "name": "stderr",
     "output_type": "stream",
     "text": [
      "Warning (cdf_set_var): Inconsistent variable definition for lon_bnds!\n",
      "Warning (cdf_set_var): Inconsistent variable definition for lat_bnds!\n",
      "cdo    remapbil: Bilinear weights from gaussian (256x128) to lonlat (360x180) grid\n",
      "cdo    remapbil: Processed 32768 values from 1 variable over 1 timestep [0.03s 202MB].\n",
      "Warning (cdf_set_var): Inconsistent variable definition for lon_bnds!\n",
      "Warning (cdf_set_var): Inconsistent variable definition for lat_bnds!\n",
      "cdo    remapbil: Bilinear weights from gaussian (256x128) to lonlat (360x180) grid\n",
      "cdo    remapbil: Processed 32768 values from 1 variable over 1 timestep [0.04s 202MB].\n",
      "Warning (cdf_set_var): Inconsistent variable definition for lon_bnds!\n",
      "Warning (cdf_set_var): Inconsistent variable definition for lat_bnds!\n",
      "cdo    remapbil: Bilinear weights from gaussian (256x128) to lonlat (360x180) grid\n"
     ]
    },
    {
     "name": "stdout",
     "output_type": "stream",
     "text": [
      "12, 13, "
     ]
    },
    {
     "name": "stderr",
     "output_type": "stream",
     "text": [
      "cdo    remapbil: Processed 32768 values from 1 variable over 1 timestep [0.04s 203MB].\n",
      "cdo    remapbil: Bilinear weights from gaussian (320x160) to lonlat (360x180) grid\n",
      "cdo    remapbil: Processed 51200 values from 1 variable over 1 timestep [0.04s 212MB].\n"
     ]
    },
    {
     "name": "stdout",
     "output_type": "stream",
     "text": [
      "14, 15, 16, "
     ]
    },
    {
     "name": "stderr",
     "output_type": "stream",
     "text": [
      "cdo    remapbil: Bilinear weights from gaussian (320x160) to lonlat (360x180) grid\n",
      "cdo    remapbil: Processed 51200 values from 1 variable over 1 timestep [0.04s 218MB].\n",
      "cdo    remapbil: Bilinear weights from gaussian (320x160) to lonlat (360x180) grid\n",
      "cdo    remapbil: Processed 51200 values from 1 variable over 1 timestep [0.04s 218MB].\n",
      "cdo    remapbil: Bilinear weights from gaussian (320x160) to lonlat (360x180) grid\n",
      "cdo    remapbil: Processed 51200 values from 1 variable over 1 timestep [0.04s 218MB].\n",
      "cdo    remapbil: Bilinear weights from gaussian (320x160) to lonlat (360x180) grid\n",
      "cdo    remapbil: Processed 51200 values from 1 variable over 1 timestep [0.04s 218MB].\n",
      "cdo    remapbil: Bilinear weights from gaussian (320x160) to lonlat (360x180) grid\n",
      "cdo    remapbil: Processed 51200 values from 1 variable over 1 timestep [0.04s 218MB].\n"
     ]
    },
    {
     "name": "stdout",
     "output_type": "stream",
     "text": [
      "17, 18, 19, "
     ]
    },
    {
     "name": "stderr",
     "output_type": "stream",
     "text": [
      "cdo    remapbil: Bilinear weights from gaussian (320x160) to lonlat (360x180) grid\n",
      "cdo    remapbil: Processed 51200 values from 1 variable over 1 timestep [0.04s 218MB].\n",
      "cdo    remapbil: Bilinear weights from gaussian (320x160) to lonlat (360x180) grid\n",
      "cdo    remapbil: Processed 51200 values from 1 variable over 1 timestep [0.04s 218MB].\n",
      "cdo    remapbil: Bilinear weights from gaussian (320x160) to lonlat (360x180) grid\n"
     ]
    },
    {
     "name": "stdout",
     "output_type": "stream",
     "text": [
      "20, 21, 22, "
     ]
    },
    {
     "name": "stderr",
     "output_type": "stream",
     "text": [
      "cdo    remapbil: Processed 51200 values from 1 variable over 1 timestep [0.04s 220MB].\n",
      "cdo    remapbil: Bilinear weights from gaussian (320x160) to lonlat (360x180) grid\n",
      "cdo    remapbil: Processed 51200 values from 1 variable over 1 timestep [0.04s 220MB].\n",
      "cdo    remapbil: Bilinear weights from gaussian (320x160) to lonlat (360x180) grid\n",
      "cdo    remapbil: Processed 51200 values from 1 variable over 1 timestep [0.04s 220MB].\n"
     ]
    },
    {
     "name": "stdout",
     "output_type": "stream",
     "text": [
      "23, 24, 25, "
     ]
    },
    {
     "name": "stderr",
     "output_type": "stream",
     "text": [
      "cdo    remapbil: Bilinear weights from gaussian (320x160) to lonlat (360x180) grid\n",
      "cdo    remapbil: Processed 51200 values from 1 variable over 1 timestep [0.04s 226MB].\n",
      "cdo    remapbil: Bilinear weights from gaussian (320x160) to lonlat (360x180) grid\n",
      "cdo    remapbil: Processed 51200 values from 1 variable over 1 timestep [0.04s 226MB].\n",
      "cdo    remapbil: Bilinear weights from gaussian (320x160) to lonlat (360x180) grid\n"
     ]
    },
    {
     "name": "stdout",
     "output_type": "stream",
     "text": [
      "26, 27, 28, "
     ]
    },
    {
     "name": "stderr",
     "output_type": "stream",
     "text": [
      "cdo    remapbil: Processed 51200 values from 1 variable over 1 timestep [0.04s 226MB].\n",
      "cdo    remapbil: Bilinear weights from gaussian (320x160) to lonlat (360x180) grid\n",
      "cdo    remapbil: Processed 51200 values from 1 variable over 1 timestep [0.04s 226MB].\n",
      "cdo    remapbil: Bilinear weights from gaussian (320x160) to lonlat (360x180) grid\n",
      "cdo    remapbil: Processed 51200 values from 1 variable over 1 timestep [0.04s 226MB].\n"
     ]
    },
    {
     "name": "stdout",
     "output_type": "stream",
     "text": [
      "29, 30, 31, "
     ]
    },
    {
     "name": "stderr",
     "output_type": "stream",
     "text": [
      "cdo    remapbil: Bilinear weights from gaussian (320x160) to lonlat (360x180) grid\n",
      "cdo    remapbil: Processed 51200 values from 1 variable over 1 timestep [0.04s 226MB].\n",
      "Warning (cdf_set_var): Inconsistent variable definition for lon_bnds!\n",
      "Warning (cdf_set_var): Inconsistent variable definition for lat_bnds!\n",
      "cdo    remapbil: Bilinear weights from lonlat (144x143) to lonlat (360x180) grid\n",
      "cdo    remapbil: Processed 20592 values from 1 variable over 1 timestep [0.02s 226MB].\n",
      "Warning (cdf_set_var): Inconsistent variable definition for lon_bnds!\n",
      "Warning (cdf_set_var): Inconsistent variable definition for lat_bnds!\n",
      "cdo    remapbil: Bilinear weights from lonlat (144x143) to lonlat (360x180) grid\n",
      "cdo    remapbil: Processed 20592 values from 1 variable over 1 timestep [0.02s 226MB].\n"
     ]
    },
    {
     "name": "stdout",
     "output_type": "stream",
     "text": [
      "32, 33, 34, "
     ]
    },
    {
     "name": "stderr",
     "output_type": "stream",
     "text": [
      "Warning (cdf_set_var): Inconsistent variable definition for lon_bnds!\n",
      "Warning (cdf_set_var): Inconsistent variable definition for lat_bnds!\n",
      "cdo    remapbil: Bilinear weights from lonlat (144x143) to lonlat (360x180) grid\n",
      "cdo    remapbil: Processed 20592 values from 1 variable over 1 timestep [0.02s 226MB].\n",
      "Warning (cdf_set_var): Inconsistent variable definition for lon_bnds!\n",
      "Warning (cdf_set_var): Inconsistent variable definition for lat_bnds!\n",
      "cdo    remapbil: Bilinear weights from lonlat (144x143) to lonlat (360x180) grid\n",
      "cdo    remapbil: Processed 20592 values from 1 variable over 1 timestep [0.02s 226MB].\n",
      "Warning (cdf_set_var): Inconsistent variable definition for lon_bnds!\n",
      "Warning (cdf_set_var): Inconsistent variable definition for lat_bnds!\n",
      "cdo    remapbil: Bilinear weights from lonlat (144x143) to lonlat (360x180) grid\n",
      "cdo    remapbil: Processed 20592 values from 1 variable over 1 timestep [0.02s 226MB].\n"
     ]
    },
    {
     "name": "stdout",
     "output_type": "stream",
     "text": [
      "35, 36, 37, "
     ]
    },
    {
     "name": "stderr",
     "output_type": "stream",
     "text": [
      "Warning (cdf_set_var): Inconsistent variable definition for lon_bnds!\n",
      "Warning (cdf_set_var): Inconsistent variable definition for lat_bnds!\n",
      "cdo    remapbil: Bilinear weights from gaussian (256x128) to lonlat (360x180) grid\n",
      "cdo    remapbil: Processed 32768 values from 1 variable over 1 timestep [0.04s 226MB].\n",
      "Warning (cdf_set_var): Inconsistent variable definition for lon_bnds!\n",
      "Warning (cdf_set_var): Inconsistent variable definition for lat_bnds!\n",
      "cdo    remapbil: Bilinear weights from gaussian (256x128) to lonlat (360x180) grid\n",
      "cdo    remapbil: Processed 32768 values from 1 variable over 1 timestep [0.04s 226MB].\n",
      "Warning (cdf_set_var): Inconsistent variable definition for lon_bnds!\n",
      "Warning (cdf_set_var): Inconsistent variable definition for lat_bnds!\n",
      "cdo    remapbil: Bilinear weights from lonlat (192x145) to lonlat (360x180) grid\n",
      "cdo    remapbil: Processed 27840 values from 1 variable over 1 timestep [0.02s 226MB].\n",
      "Warning (cdf_set_var): Inconsistent variable definition for lon_bnds!\n",
      "Warning (cdf_set_var): Inconsistent variable definition for lat_bnds!\n",
      "cdo    remapbil: Bilinear weights from lonlat (192x145) to lonlat (360x180) grid\n",
      "cdo    remapbil: Processed 27840 values from 1 variable over 1 timestep [0.03s 226MB].\n",
      "Warning (cdf_set_var): Inconsistent variable definition for lon_bnds!\n",
      "Warning (cdf_set_var): Inconsistent variable definition for lat_bnds!\n",
      "cdo    remapbil: Bilinear weights from lonlat (192x145) to lonlat (360x180) grid\n",
      "cdo    remapbil: Processed 27840 values from 1 variable over 1 timestep [0.02s 226MB].\n"
     ]
    },
    {
     "name": "stdout",
     "output_type": "stream",
     "text": [
      "38, 39, 40, "
     ]
    },
    {
     "name": "stderr",
     "output_type": "stream",
     "text": [
      "Warning (cdf_set_var): Inconsistent variable definition for lon_bnds!\n",
      "Warning (cdf_set_var): Inconsistent variable definition for lat_bnds!\n",
      "cdo    remapbil: Bilinear weights from lonlat (192x145) to lonlat (360x180) grid\n",
      "cdo    remapbil: Processed 27840 values from 1 variable over 1 timestep [0.02s 226MB].\n",
      "Warning (cdf_set_var): Inconsistent variable definition for lon_bnds!\n",
      "Warning (cdf_set_var): Inconsistent variable definition for lat_bnds!\n",
      "cdo    remapbil: Bilinear weights from lonlat (192x145) to lonlat (360x180) grid\n",
      "cdo    remapbil: Processed 27840 values from 1 variable over 1 timestep [0.02s 226MB].\n",
      "Warning (cdf_set_var): Inconsistent variable definition for lon_bnds!\n",
      "Warning (cdf_set_var): Inconsistent variable definition for lat_bnds!\n",
      "cdo    remapbil: Bilinear weights from lonlat (192x145) to lonlat (360x180) grid\n",
      "cdo    remapbil: Processed 27840 values from 1 variable over 1 timestep [0.02s 226MB].\n"
     ]
    },
    {
     "name": "stdout",
     "output_type": "stream",
     "text": [
      "41, 42, 43, "
     ]
    },
    {
     "name": "stderr",
     "output_type": "stream",
     "text": [
      "Warning (cdf_set_var): Inconsistent variable definition for lon_bnds!\n",
      "Warning (cdf_set_var): Inconsistent variable definition for lat_bnds!\n",
      "cdo    remapbil: Bilinear weights from lonlat (192x145) to lonlat (360x180) grid\n",
      "cdo    remapbil: Processed 27840 values from 1 variable over 1 timestep [0.02s 226MB].\n",
      "Warning (cdf_set_var): Inconsistent variable definition for lon_bnds!\n",
      "Warning (cdf_set_var): Inconsistent variable definition for lat_bnds!\n",
      "cdo    remapbil: Bilinear weights from lonlat (192x145) to lonlat (360x180) grid\n",
      "cdo    remapbil: Processed 27840 values from 1 variable over 1 timestep [0.02s 226MB].\n",
      "Warning (cdf_set_var): Inconsistent variable definition for lon_bnds!\n",
      "Warning (cdf_set_var): Inconsistent variable definition for lat_bnds!\n",
      "cdo    remapbil: Bilinear weights from lonlat (192x145) to lonlat (360x180) grid\n",
      "cdo    remapbil: Processed 27840 values from 1 variable over 1 timestep [0.02s 226MB].\n"
     ]
    },
    {
     "name": "stdout",
     "output_type": "stream",
     "text": [
      "44, 45, 46, "
     ]
    },
    {
     "name": "stderr",
     "output_type": "stream",
     "text": [
      "Warning (cdf_set_var): Inconsistent variable definition for lon_bnds!\n",
      "Warning (cdf_set_var): Inconsistent variable definition for lat_bnds!\n",
      "cdo    remapbil: Bilinear weights from lonlat (192x145) to lonlat (360x180) grid\n",
      "cdo    remapbil: Processed 27840 values from 1 variable over 1 timestep [0.02s 226MB].\n",
      "Warning (cdf_set_var): Inconsistent variable definition for lon_bnds!\n",
      "Warning (cdf_set_var): Inconsistent variable definition for lat_bnds!\n",
      "cdo    remapbil: Bilinear weights from gaussian (192x96) to lonlat (360x180) grid\n",
      "cdo    remapbil: Processed 18432 values from 1 variable over 1 timestep [0.03s 226MB].\n",
      "Warning (cdf_set_var): Inconsistent variable definition for lon_bnds!\n",
      "Warning (cdf_set_var): Inconsistent variable definition for lat_bnds!\n",
      "cdo    remapbil: Bilinear weights from gaussian (192x96) to lonlat (360x180) grid\n",
      "cdo    remapbil: Processed 18432 values from 1 variable over 1 timestep [0.03s 226MB].\n"
     ]
    },
    {
     "name": "stdout",
     "output_type": "stream",
     "text": [
      "47, 48, 49, "
     ]
    },
    {
     "name": "stderr",
     "output_type": "stream",
     "text": [
      "Warning (cdf_set_var): Inconsistent variable definition for lon_bnds!\n",
      "Warning (cdf_set_var): Inconsistent variable definition for lat_bnds!\n",
      "cdo    remapbil: Bilinear weights from gaussian (192x96) to lonlat (360x180) grid\n",
      "cdo    remapbil: Processed 18432 values from 1 variable over 1 timestep [0.03s 235MB].\n",
      "Warning (cdf_set_var): Inconsistent variable definition for lon_bnds!\n",
      "Warning (cdf_set_var): Inconsistent variable definition for lat_bnds!\n",
      "cdo    remapbil: Bilinear weights from gaussian (192x96) to lonlat (360x180) grid\n",
      "cdo    remapbil: Processed 18432 values from 1 variable over 1 timestep [0.03s 235MB].\n",
      "Warning (cdf_set_var): Inconsistent variable definition for lon_bnds!\n",
      "Warning (cdf_set_var): Inconsistent variable definition for lat_bnds!\n",
      "cdo    remapbil: Bilinear weights from gaussian (192x96) to lonlat (360x180) grid\n"
     ]
    },
    {
     "name": "stdout",
     "output_type": "stream",
     "text": [
      "50, 51, 52, "
     ]
    },
    {
     "name": "stderr",
     "output_type": "stream",
     "text": [
      "cdo    remapbil: Processed 18432 values from 1 variable over 1 timestep [0.03s 236MB].\n",
      "Warning (cdf_set_var): Inconsistent variable definition for lon_bnds!\n",
      "Warning (cdf_set_var): Inconsistent variable definition for lat_bnds!\n",
      "cdo    remapbil: Bilinear weights from gaussian (192x96) to lonlat (360x180) grid\n",
      "cdo    remapbil: Processed 18432 values from 1 variable over 1 timestep [0.03s 236MB].\n",
      "Warning (cdf_set_var): Inconsistent variable definition for lon_bnds!\n",
      "Warning (cdf_set_var): Inconsistent variable definition for lat_bnds!\n",
      "cdo    remapbil: Bilinear weights from gaussian (192x96) to lonlat (360x180) grid\n",
      "cdo    remapbil: Processed 18432 values from 1 variable over 1 timestep [0.03s 237MB].\n"
     ]
    },
    {
     "name": "stdout",
     "output_type": "stream",
     "text": [
      "53, 54, 55, "
     ]
    },
    {
     "name": "stderr",
     "output_type": "stream",
     "text": [
      "Warning (cdf_set_var): Inconsistent variable definition for lon_bnds!\n",
      "Warning (cdf_set_var): Inconsistent variable definition for lat_bnds!\n",
      "cdo    remapbil: Bilinear weights from gaussian (192x96) to lonlat (360x180) grid\n",
      "cdo    remapbil: Processed 18432 values from 1 variable over 1 timestep [0.03s 237MB].\n",
      "Warning (cdf_set_var): Inconsistent variable definition for lon_bnds!\n",
      "Warning (cdf_set_var): Inconsistent variable definition for lat_bnds!\n",
      "cdo    remapbil: Bilinear weights from gaussian (192x96) to lonlat (360x180) grid\n",
      "cdo    remapbil: Processed 18432 values from 1 variable over 1 timestep [0.03s 238MB].\n",
      "Warning (cdf_set_var): Inconsistent variable definition for lon_bnds!\n",
      "Warning (cdf_set_var): Inconsistent variable definition for lat_bnds!\n",
      "cdo    remapbil: Bilinear weights from gaussian (192x96) to lonlat (360x180) grid\n",
      "cdo    remapbil: Processed 18432 values from 1 variable over 1 timestep [0.03s 238MB].\n"
     ]
    },
    {
     "name": "stdout",
     "output_type": "stream",
     "text": [
      "56, 57, 58, "
     ]
    },
    {
     "name": "stderr",
     "output_type": "stream",
     "text": [
      "Warning (cdf_set_var): Inconsistent variable definition for lon_bnds!\n",
      "Warning (cdf_set_var): Inconsistent variable definition for lat_bnds!\n",
      "cdo    remapbil: Bilinear weights from gaussian (192x96) to lonlat (360x180) grid\n",
      "cdo    remapbil: Processed 18432 values from 1 variable over 1 timestep [0.03s 239MB].\n",
      "Warning (cdf_set_var): Inconsistent variable definition for lon_bnds!\n",
      "Warning (cdf_set_var): Inconsistent variable definition for lat_bnds!\n",
      "cdo    remapbil: Bilinear weights from gaussian (192x96) to lonlat (360x180) grid\n",
      "cdo    remapbil: Processed 18432 values from 1 variable over 1 timestep [0.03s 239MB].\n",
      "Warning (cdf_set_var): Inconsistent variable definition for lon_bnds!\n",
      "Warning (cdf_set_var): Inconsistent variable definition for lat_bnds!\n",
      "cdo    remapbil: Bilinear weights from gaussian (192x96) to lonlat (360x180) grid\n"
     ]
    },
    {
     "name": "stdout",
     "output_type": "stream",
     "text": [
      "59, 60, 61, "
     ]
    },
    {
     "name": "stderr",
     "output_type": "stream",
     "text": [
      "cdo    remapbil: Processed 18432 values from 1 variable over 1 timestep [0.03s 240MB].\n",
      "Warning (cdf_set_var): Inconsistent variable definition for lon_bnds!\n",
      "Warning (cdf_set_var): Inconsistent variable definition for lat_bnds!\n",
      "cdo    remapbil: Bilinear weights from gaussian (192x96) to lonlat (360x180) grid\n",
      "cdo    remapbil: Processed 18432 values from 1 variable over 1 timestep [0.03s 240MB].\n",
      "Warning (cdf_set_var): Inconsistent variable definition for lon_bnds!\n",
      "Warning (cdf_set_var): Inconsistent variable definition for lat_bnds!\n",
      "cdo    remapbil: Bilinear weights from gaussian (192x96) to lonlat (360x180) grid\n",
      "cdo    remapbil: Processed 18432 values from 1 variable over 1 timestep [0.03s 241MB].\n"
     ]
    },
    {
     "name": "stdout",
     "output_type": "stream",
     "text": [
      "62, 63, 64, "
     ]
    },
    {
     "name": "stderr",
     "output_type": "stream",
     "text": [
      "Warning (cdf_set_var): Inconsistent variable definition for lon_bnds!\n",
      "Warning (cdf_set_var): Inconsistent variable definition for lat_bnds!\n",
      "cdo    remapbil: Bilinear weights from gaussian (192x96) to lonlat (360x180) grid\n",
      "cdo    remapbil: Processed 18432 values from 1 variable over 1 timestep [0.03s 241MB].\n",
      "Warning (cdf_set_var): Inconsistent variable definition for lon_bnds!\n",
      "Warning (cdf_set_var): Inconsistent variable definition for lat_bnds!\n",
      "cdo    remapbil: Bilinear weights from lonlat (144x96) to lonlat (360x180) grid\n",
      "cdo    remapbil: Processed 13824 values from 1 variable over 1 timestep [0.02s 242MB].\n",
      "Warning (cdf_set_var): Inconsistent variable definition for lon_bnds!\n",
      "Warning (cdf_set_var): Inconsistent variable definition for lat_bnds!\n",
      "cdo    remapbil: Bilinear weights from lonlat (144x96) to lonlat (360x180) grid\n",
      "cdo    remapbil: Processed 13824 values from 1 variable over 1 timestep [0.02s 242MB].\n"
     ]
    },
    {
     "name": "stdout",
     "output_type": "stream",
     "text": [
      "65, 66, 67, "
     ]
    },
    {
     "name": "stderr",
     "output_type": "stream",
     "text": [
      "Warning (cdf_set_var): Inconsistent variable definition for lon_bnds!\n",
      "Warning (cdf_set_var): Inconsistent variable definition for lat_bnds!\n",
      "cdo    remapbil: Bilinear weights from lonlat (144x96) to lonlat (360x180) grid\n",
      "cdo    remapbil: Processed 13824 values from 1 variable over 1 timestep [0.02s 243MB].\n",
      "Warning (cdf_set_var): Inconsistent variable definition for lon_bnds!\n",
      "Warning (cdf_set_var): Inconsistent variable definition for lat_bnds!\n",
      "cdo    remapbil: Bilinear weights from lonlat (144x96) to lonlat (360x180) grid\n",
      "cdo    remapbil: Processed 13824 values from 1 variable over 1 timestep [0.02s 243MB].\n",
      "Warning (cdf_set_var): Inconsistent variable definition for lon_bnds!\n",
      "Warning (cdf_set_var): Inconsistent variable definition for lat_bnds!\n",
      "cdo    remapbil: Bilinear weights from lonlat (144x96) to lonlat (360x180) grid\n",
      "cdo    remapbil: Processed 13824 values from 1 variable over 1 timestep [0.02s 244MB].\n"
     ]
    },
    {
     "name": "stdout",
     "output_type": "stream",
     "text": [
      "68, 69, 70, "
     ]
    },
    {
     "name": "stderr",
     "output_type": "stream",
     "text": [
      "Warning (cdf_set_var): Inconsistent variable definition for lon_bnds!\n",
      "Warning (cdf_set_var): Inconsistent variable definition for lat_bnds!\n",
      "cdo    remapbil: Bilinear weights from lonlat (144x96) to lonlat (360x180) grid\n",
      "cdo    remapbil: Processed 13824 values from 1 variable over 1 timestep [0.02s 244MB].\n",
      "Warning (cdf_set_var): Inconsistent variable definition for lon_bnds!\n",
      "Warning (cdf_set_var): Inconsistent variable definition for lat_bnds!\n",
      "cdo    remapbil: Bilinear weights from lonlat (144x96) to lonlat (360x180) grid\n",
      "cdo    remapbil: Processed 13824 values from 1 variable over 1 timestep [0.02s 245MB].\n",
      "Warning (cdf_set_var): Inconsistent variable definition for lon_bnds!\n",
      "Warning (cdf_set_var): Inconsistent variable definition for lat_bnds!\n",
      "cdo    remapbil: Bilinear weights from lonlat (144x96) to lonlat (360x180) grid\n",
      "cdo    remapbil: Processed 13824 values from 1 variable over 1 timestep [0.02s 245MB].\n"
     ]
    },
    {
     "name": "stdout",
     "output_type": "stream",
     "text": [
      "71, "
     ]
    },
    {
     "name": "stderr",
     "output_type": "stream",
     "text": [
      "Warning (cdf_set_var): Inconsistent variable definition for lon_bnds!\n",
      "Warning (cdf_set_var): Inconsistent variable definition for lat_bnds!\n",
      "cdo    remapbil: Bilinear weights from lonlat (144x96) to lonlat (360x180) grid\n",
      "cdo    remapbil: Processed 13824 values from 1 variable over 1 timestep [0.02s 246MB].\n"
     ]
    }
   ],
   "source": [
    "variables = ['TXx']#, 'TNx']\n",
    "\n",
    "data_all = dict()\n",
    "\n",
    "#Loop over variables\n",
    "for variab in variables:\n",
    "\n",
    "    dir_data = dir_data_Ymax + variab + '/'\n",
    "\n",
    "    print(len(all_models), end=': ')\n",
    "\n",
    "    #Loop over all models\n",
    "    create = 1\n",
    "    for i, model in enumerate(all_models):\n",
    "\n",
    "        print(i, end=', ')\n",
    "\n",
    "        #Get GCM\n",
    "        if model[0] in ['CNRM-CERFACS-CNRM-CM5', 'MPI-M-MPI-ESM-LR']:\n",
    "            GCM = \"-\".join(model[0].split('-')[2::])\n",
    "        else:\n",
    "            GCM = \"-\".join(model[0].split('-')[1::])   \n",
    "            \n",
    "        #Get member\n",
    "        member = model[2]\n",
    "        \n",
    "        #Replace r3i1p1 member of EC-EARTH with a different member, as no data exits for it\n",
    "        if GCM=='EC-EARTH' and member=='r3i1p1':\n",
    "            member = 'r1i1p1'                   \n",
    "        \n",
    "        #Get file names\n",
    "        f_ref = [file for file in os.listdir(dir_data) if variab in file and GCM + '_' in file and member in file and ref_period in file]\n",
    "        f_app = [file for file in os.listdir(dir_data) if variab in file and GCM + '_' in file and member in file and dEMT_str in file]\n",
    "        if len(f_ref)!=1:  sys.exit('File is not unique')\n",
    "        if len(f_app)!=1:  sys.exit('File is not unique')\n",
    "\n",
    "        #Read data and calculate difference\n",
    "        data_ref = xr.open_dataset(dir_data + f_ref[0])\n",
    "        data_app = xr.open_dataset(dir_data + f_app[0])\n",
    "        data_diff = data_app.mean('time') - data_ref.mean('time')\n",
    "        \n",
    "        #Save in NetCDF\n",
    "        fname_tmp = dir_data_Ymax + GCM + \"_CMIP5-CORDEX_tmp.nc\"\n",
    "        data_diff.to_netcdf(fname_tmp)\n",
    "\n",
    "        #Regrid to standard grid\n",
    "        fname_grid = dir_regrid + 'grid_xy_1deg'\n",
    "        fname_regrid = dir_data_Ymax + GCM + \"_CMIP5-CORDEX_regridded.nc\"\n",
    "        os.system(\"cdo remapbil,\" + fname_grid + \" \" + fname_tmp + \" \" + fname_regrid)\n",
    "\n",
    "        #Read regridded dataset\n",
    "        data_regr = xr.open_dataset(fname_regrid)\n",
    "\n",
    "        #Remove unnecessary variables\n",
    "        vars_remove = set(data_regr.data_vars).difference([variab])\n",
    "        data_regr = data_regr.drop(vars_remove)\n",
    "        if 'height' in data_regr: data_regr = data_regr.drop('height')\n",
    "\n",
    "        #Collect in one array\n",
    "        if create==1:\n",
    "            data_coll = data_regr\n",
    "            create = 0\n",
    "        else:\n",
    "            data_coll = xr.concat((data_coll, data_regr), dim='model')\n",
    "\n",
    "        #Remove temporary files\n",
    "        os.remove(fname_tmp)\n",
    "        os.remove(fname_regrid)\n",
    "\n",
    "    #Add model names\n",
    "    data_coll['model'] = [\"_\".join(model) for model in all_models]\n",
    "        \n",
    "    #Save in file\n",
    "    fname_out = dir_data_Ymax + variab + '_CMIP5-CORDEX-ensemble_all_models_yearmax.nc'\n",
    "    if os.path.exists(fname_out): os.remove(fname_out)\n",
    "    data_coll.to_netcdf(fname_out)\n"
   ]
  },
  {
   "cell_type": "code",
   "execution_count": null,
   "metadata": {},
   "outputs": [],
   "source": []
  }
 ],
 "metadata": {
  "kernelspec": {
   "display_name": "Python 3 (ipykernel)",
   "language": "python",
   "name": "python3"
  },
  "language_info": {
   "codemirror_mode": {
    "name": "ipython",
    "version": 3
   },
   "file_extension": ".py",
   "mimetype": "text/x-python",
   "name": "python",
   "nbconvert_exporter": "python",
   "pygments_lexer": "ipython3",
   "version": "3.8.8"
  }
 },
 "nbformat": 4,
 "nbformat_minor": 2
}

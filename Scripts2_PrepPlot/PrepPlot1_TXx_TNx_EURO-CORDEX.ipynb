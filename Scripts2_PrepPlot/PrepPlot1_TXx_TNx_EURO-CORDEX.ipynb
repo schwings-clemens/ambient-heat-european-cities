{
 "cells": [
  {
   "cell_type": "code",
   "execution_count": 1,
   "metadata": {},
   "outputs": [],
   "source": [
    "import os\n",
    "import sys\n",
    "import time as t_util\n",
    "import numpy as np\n",
    "import cftime\n",
    "import xarray as xr\n",
    "import matplotlib.pyplot as plt\n",
    "import matplotlib\n",
    "import mplotutils as mpu\n",
    "import cartopy.crs as ccrs\n",
    "import cartopy.feature as cfeature\n",
    "import yaml\n"
   ]
  },
  {
   "cell_type": "code",
   "execution_count": 2,
   "metadata": {},
   "outputs": [],
   "source": [
    "#Read main paths\n",
    "with open('../path_main.txt', 'r') as file:    path_main  = file.read()\n",
    "with open('../path_grids.txt', 'r') as file:   path_grids = file.read()\n",
    "    \n",
    "dir_data_Ymax = f'{path_main}Data/EURO-CORDEX/Yearmax/'\n",
    "dir_data_EMT  = f'{path_main}Data/EURO-CORDEX/EMT/'\n",
    "dir_scripts   = f'{path_main}Scripts/'\n",
    "dir_names     = f'{path_main}Scripts/Model_lists/'\n",
    "dir_regrid    = f'{path_grids}Regridding/'\n"
   ]
  },
  {
   "cell_type": "markdown",
   "metadata": {},
   "source": [
    "## Prepare variables and parameters"
   ]
  },
  {
   "cell_type": "code",
   "execution_count": 4,
   "metadata": {},
   "outputs": [],
   "source": [
    "#Define models\n",
    "all_models = []\n",
    "with open(dir_names + 'Models_CORDEX-EUR-11_RCP85.txt', 'r') as filehandle:\n",
    "    for line in filehandle:\n",
    "        all_models.append(eval(line[:-1]))\n",
    "\n",
    "#Define reference period\n",
    "ref_period = '1981-2010'\n",
    "\n",
    "#Define EMT\n",
    "dEMT_str = 'ESAT-3.0K'\n",
    "        \n",
    "#Read standard grid\n",
    "fname_grid_stand = dir_regrid + 'Standard_grid_CORDEX-EUR-11_NCC-NorESM1-M_SMHI-RCA4.nc'\n",
    "grid_standard = xr.open_dataset(fname_grid_stand)\n"
   ]
  },
  {
   "cell_type": "markdown",
   "metadata": {},
   "source": [
    "## Calculate change of TXx (fut - ref)"
   ]
  },
  {
   "cell_type": "code",
   "execution_count": 6,
   "metadata": {
    "scrolled": true
   },
   "outputs": [
    {
     "name": "stdout",
     "output_type": "stream",
     "text": [
      "72: 0, "
     ]
    },
    {
     "name": "stderr",
     "output_type": "stream",
     "text": [
      "Warning (cdfScanVarAttr): NetCDF: Variable not found - lon_bnds\n",
      "Warning (cdfScanVarAttr): NetCDF: Variable not found - lat_bnds\n",
      "cdo    remapbil: Bilinear weights from curvilinear (424x412) to curvilinear (424x412) grid\n",
      "cdo    remapbil: Processed 174688 values from 1 variable over 1 timestep [0.58s 328MB].\n"
     ]
    },
    {
     "name": "stdout",
     "output_type": "stream",
     "text": [
      "1, "
     ]
    },
    {
     "name": "stderr",
     "output_type": "stream",
     "text": [
      "Warning (cdfScanVarAttr): NetCDF: Variable not found - lon_bnds\n",
      "Warning (cdfScanVarAttr): NetCDF: Variable not found - lat_bnds\n",
      "cdo    remapbil: Bilinear weights from curvilinear (424x412) to curvilinear (424x412) grid\n",
      "cdo    remapbil: Processed 174688 values from 1 variable over 1 timestep [0.43s 336MB].\n"
     ]
    },
    {
     "name": "stdout",
     "output_type": "stream",
     "text": [
      "2, "
     ]
    },
    {
     "name": "stderr",
     "output_type": "stream",
     "text": [
      "Warning (cdfScanVarAttr): NetCDF: Variable not found - lon_bnds\n",
      "Warning (cdfScanVarAttr): NetCDF: Variable not found - lat_bnds\n",
      "cdo    remapbil: Bilinear weights from curvilinear (424x412) to curvilinear (424x412) grid\n",
      "cdo    remapbil: Processed 174688 values from 1 variable over 1 timestep [0.35s 345MB].\n"
     ]
    },
    {
     "name": "stdout",
     "output_type": "stream",
     "text": [
      "3, "
     ]
    },
    {
     "name": "stderr",
     "output_type": "stream",
     "text": [
      "cdo    remapbil: Bilinear weights from curvilinear (424x412) to curvilinear (424x412) grid\n",
      "cdo    remapbil: Processed 174688 values from 1 variable over 1 timestep [0.37s 345MB].\n"
     ]
    },
    {
     "name": "stdout",
     "output_type": "stream",
     "text": [
      "4, "
     ]
    },
    {
     "name": "stderr",
     "output_type": "stream",
     "text": [
      "cdo    remapbil: Bilinear weights from curvilinear (453x453) to curvilinear (424x412) grid\n",
      "cdo    remapbil: Processed 205209 values from 1 variable over 1 timestep [0.37s 444MB].\n"
     ]
    },
    {
     "name": "stdout",
     "output_type": "stream",
     "text": [
      "5, "
     ]
    },
    {
     "name": "stderr",
     "output_type": "stream",
     "text": [
      "Warning (cdfScanVarAttr): NetCDF: Variable not found - lon_bnds\n",
      "Warning (cdfScanVarAttr): NetCDF: Variable not found - lat_bnds\n",
      "cdo    remapbil: Bilinear weights from curvilinear (453x453) to curvilinear (424x412) grid\n",
      "cdo    remapbil: Processed 205209 values from 1 variable over 1 timestep [0.38s 444MB].\n"
     ]
    },
    {
     "name": "stdout",
     "output_type": "stream",
     "text": [
      "6, "
     ]
    },
    {
     "name": "stderr",
     "output_type": "stream",
     "text": [
      "cdo    remapbil: Bilinear weights from curvilinear (424x412) to curvilinear (424x412) grid\n",
      "cdo    remapbil: Processed 174688 values from 1 variable over 1 timestep [0.37s 444MB].\n"
     ]
    },
    {
     "name": "stdout",
     "output_type": "stream",
     "text": [
      "7, "
     ]
    },
    {
     "name": "stderr",
     "output_type": "stream",
     "text": [
      "Warning (cdfScanVarAttr): NetCDF: Variable not found - lon_bnds\n",
      "Warning (cdfScanVarAttr): NetCDF: Variable not found - lat_bnds\n",
      "cdo    remapbil: Bilinear weights from curvilinear (424x412) to curvilinear (424x412) grid\n",
      "cdo    remapbil: Processed 174688 values from 1 variable over 1 timestep [0.39s 444MB].\n"
     ]
    },
    {
     "name": "stdout",
     "output_type": "stream",
     "text": [
      "8, "
     ]
    },
    {
     "name": "stderr",
     "output_type": "stream",
     "text": [
      "cdo    remapbil: Bilinear weights from curvilinear (527x527) to curvilinear (424x412) grid\n",
      "cdo    remapbil: Processed 277729 values from 1 variable over 1 timestep [0.38s 444MB].\n"
     ]
    },
    {
     "name": "stdout",
     "output_type": "stream",
     "text": [
      "9, "
     ]
    },
    {
     "name": "stderr",
     "output_type": "stream",
     "text": [
      "Warning (cdfScanVarAttr): NetCDF: Variable not found - lon_bnds\n",
      "Warning (cdfScanVarAttr): NetCDF: Variable not found - lat_bnds\n",
      "cdo    remapbil: Bilinear weights from curvilinear (424x412) to curvilinear (424x412) grid\n",
      "cdo    remapbil: Processed 174688 values from 1 variable over 1 timestep [0.35s 444MB].\n"
     ]
    },
    {
     "name": "stdout",
     "output_type": "stream",
     "text": [
      "10, "
     ]
    },
    {
     "name": "stderr",
     "output_type": "stream",
     "text": [
      "cdo    remapbil: Bilinear weights from curvilinear (424x412) to curvilinear (424x412) grid\n",
      "cdo    remapbil: Processed 174688 values from 1 variable over 1 timestep [0.35s 444MB].\n"
     ]
    },
    {
     "name": "stdout",
     "output_type": "stream",
     "text": [
      "11, "
     ]
    },
    {
     "name": "stderr",
     "output_type": "stream",
     "text": [
      "Warning (cdfScanVarAttr): NetCDF: Variable not found - longitude_bnds\n",
      "Warning (cdfScanVarAttr): NetCDF: Variable not found - latitude_bnds\n",
      "Warning (cdfScanVarAttr): NetCDF: Variable not found - rlon_bnds\n",
      "Warning (cdfScanVarAttr): NetCDF: Variable not found - rlat_bnds\n",
      "cdo    remapbil: Bilinear weights from curvilinear (424x412) to curvilinear (424x412) grid\n",
      "cdo    remapbil: Processed 174688 values from 1 variable over 1 timestep [0.35s 444MB].\n"
     ]
    },
    {
     "name": "stdout",
     "output_type": "stream",
     "text": [
      "12, "
     ]
    },
    {
     "name": "stderr",
     "output_type": "stream",
     "text": [
      "cdo    remapbil: Bilinear weights from curvilinear (424x412) to curvilinear (424x412) grid\n",
      "cdo    remapbil: Processed 174688 values from 1 variable over 1 timestep [0.34s 444MB].\n"
     ]
    },
    {
     "name": "stdout",
     "output_type": "stream",
     "text": [
      "13, "
     ]
    },
    {
     "name": "stderr",
     "output_type": "stream",
     "text": [
      "Warning (cdfScanVarAttr): NetCDF: Variable not found - lon_bnds\n",
      "Warning (cdfScanVarAttr): NetCDF: Variable not found - lat_bnds\n",
      "cdo    remapbil: Bilinear weights from curvilinear (424x412) to curvilinear (424x412) grid\n",
      "cdo    remapbil: Processed 174688 values from 1 variable over 1 timestep [0.35s 444MB].\n"
     ]
    },
    {
     "name": "stdout",
     "output_type": "stream",
     "text": [
      "14, "
     ]
    },
    {
     "name": "stderr",
     "output_type": "stream",
     "text": [
      "cdo    remapbil: Bilinear weights from curvilinear (424x412) to curvilinear (424x412) grid\n",
      "cdo    remapbil: Processed 174688 values from 1 variable over 1 timestep [0.35s 444MB].\n"
     ]
    },
    {
     "name": "stdout",
     "output_type": "stream",
     "text": [
      "15, "
     ]
    },
    {
     "name": "stderr",
     "output_type": "stream",
     "text": [
      "cdo    remapbil: Bilinear weights from curvilinear (424x412) to curvilinear (424x412) grid\n",
      "cdo    remapbil: Processed 174688 values from 1 variable over 1 timestep [0.35s 444MB].\n"
     ]
    },
    {
     "name": "stdout",
     "output_type": "stream",
     "text": [
      "16, "
     ]
    },
    {
     "name": "stderr",
     "output_type": "stream",
     "text": [
      "cdo    remapbil: Bilinear weights from curvilinear (424x412) to curvilinear (424x412) grid\n",
      "cdo    remapbil: Processed 174688 values from 1 variable over 1 timestep [0.37s 444MB].\n"
     ]
    },
    {
     "name": "stdout",
     "output_type": "stream",
     "text": [
      "17, "
     ]
    },
    {
     "name": "stderr",
     "output_type": "stream",
     "text": [
      "cdo    remapbil: Bilinear weights from curvilinear (424x412) to curvilinear (424x412) grid\n",
      "cdo    remapbil: Processed 174688 values from 1 variable over 1 timestep [0.35s 444MB].\n"
     ]
    },
    {
     "name": "stdout",
     "output_type": "stream",
     "text": [
      "18, "
     ]
    },
    {
     "name": "stderr",
     "output_type": "stream",
     "text": [
      "cdo    remapbil: Bilinear weights from curvilinear (424x412) to curvilinear (424x412) grid\n",
      "cdo    remapbil: Processed 174688 values from 1 variable over 1 timestep [0.35s 444MB].\n"
     ]
    },
    {
     "name": "stdout",
     "output_type": "stream",
     "text": [
      "19, "
     ]
    },
    {
     "name": "stderr",
     "output_type": "stream",
     "text": [
      "cdo    remapbil: Bilinear weights from curvilinear (424x412) to curvilinear (424x412) grid\n",
      "cdo    remapbil: Processed 174688 values from 1 variable over 1 timestep [0.37s 444MB].\n"
     ]
    },
    {
     "name": "stdout",
     "output_type": "stream",
     "text": [
      "20, "
     ]
    },
    {
     "name": "stderr",
     "output_type": "stream",
     "text": [
      "Warning (cdfScanVarAttr): NetCDF: Variable not found - lon_bnds\n",
      "Warning (cdfScanVarAttr): NetCDF: Variable not found - lat_bnds\n",
      "cdo    remapbil: Bilinear weights from curvilinear (424x412) to curvilinear (424x412) grid\n",
      "cdo    remapbil: Processed 174688 values from 1 variable over 1 timestep [0.35s 444MB].\n"
     ]
    },
    {
     "name": "stdout",
     "output_type": "stream",
     "text": [
      "21, "
     ]
    },
    {
     "name": "stderr",
     "output_type": "stream",
     "text": [
      "cdo    remapbil: Bilinear weights from curvilinear (527x527) to curvilinear (424x412) grid\n",
      "cdo    remapbil: Processed 277729 values from 1 variable over 1 timestep [0.38s 444MB].\n"
     ]
    },
    {
     "name": "stdout",
     "output_type": "stream",
     "text": [
      "22, "
     ]
    },
    {
     "name": "stderr",
     "output_type": "stream",
     "text": [
      "Warning (cdfScanVarAttr): NetCDF: Variable not found - lon_bnds\n",
      "Warning (cdfScanVarAttr): NetCDF: Variable not found - lat_bnds\n",
      "cdo    remapbil: Bilinear weights from curvilinear (424x412) to curvilinear (424x412) grid\n",
      "cdo    remapbil: Processed 174688 values from 1 variable over 1 timestep [0.35s 444MB].\n"
     ]
    },
    {
     "name": "stdout",
     "output_type": "stream",
     "text": [
      "23, "
     ]
    },
    {
     "name": "stderr",
     "output_type": "stream",
     "text": [
      "cdo    remapbil: Bilinear weights from curvilinear (424x412) to curvilinear (424x412) grid\n",
      "cdo    remapbil: Processed 174688 values from 1 variable over 1 timestep [0.35s 444MB].\n"
     ]
    },
    {
     "name": "stdout",
     "output_type": "stream",
     "text": [
      "24, "
     ]
    },
    {
     "name": "stderr",
     "output_type": "stream",
     "text": [
      "cdo    remapbil: Bilinear weights from curvilinear (424x412) to curvilinear (424x412) grid\n",
      "cdo    remapbil: Processed 174688 values from 1 variable over 1 timestep [0.35s 444MB].\n"
     ]
    },
    {
     "name": "stdout",
     "output_type": "stream",
     "text": [
      "25, "
     ]
    },
    {
     "name": "stderr",
     "output_type": "stream",
     "text": [
      "cdo    remapbil: Bilinear weights from curvilinear (424x412) to curvilinear (424x412) grid\n",
      "cdo    remapbil: Processed 174688 values from 1 variable over 1 timestep [0.35s 444MB].\n"
     ]
    },
    {
     "name": "stdout",
     "output_type": "stream",
     "text": [
      "26, "
     ]
    },
    {
     "name": "stderr",
     "output_type": "stream",
     "text": [
      "Warning (cdfScanVarAttr): NetCDF: Variable not found - longitude_bnds\n",
      "Warning (cdfScanVarAttr): NetCDF: Variable not found - latitude_bnds\n",
      "Warning (cdfScanVarAttr): NetCDF: Variable not found - rlon_bnds\n",
      "Warning (cdfScanVarAttr): NetCDF: Variable not found - rlat_bnds\n",
      "cdo    remapbil: Bilinear weights from curvilinear (424x412) to curvilinear (424x412) grid\n",
      "cdo    remapbil: Processed 174688 values from 1 variable over 1 timestep [0.35s 444MB].\n"
     ]
    },
    {
     "name": "stdout",
     "output_type": "stream",
     "text": [
      "27, "
     ]
    },
    {
     "name": "stderr",
     "output_type": "stream",
     "text": [
      "cdo    remapbil: Bilinear weights from curvilinear (424x412) to curvilinear (424x412) grid\n",
      "cdo    remapbil: Processed 174688 values from 1 variable over 1 timestep [0.33s 444MB].\n"
     ]
    },
    {
     "name": "stdout",
     "output_type": "stream",
     "text": [
      "28, "
     ]
    },
    {
     "name": "stderr",
     "output_type": "stream",
     "text": [
      "cdo    remapbil: Bilinear weights from curvilinear (424x412) to curvilinear (424x412) grid\n",
      "cdo    remapbil: Processed 174688 values from 1 variable over 1 timestep [0.34s 444MB].\n"
     ]
    },
    {
     "name": "stdout",
     "output_type": "stream",
     "text": [
      "29, "
     ]
    },
    {
     "name": "stderr",
     "output_type": "stream",
     "text": [
      "cdo    remapbil: Bilinear weights from curvilinear (424x412) to curvilinear (424x412) grid\n",
      "cdo    remapbil: Processed 174688 values from 1 variable over 1 timestep [0.33s 444MB].\n"
     ]
    },
    {
     "name": "stdout",
     "output_type": "stream",
     "text": [
      "30, "
     ]
    },
    {
     "name": "stderr",
     "output_type": "stream",
     "text": [
      "cdo    remapbil: Bilinear weights from curvilinear (424x412) to curvilinear (424x412) grid\n",
      "cdo    remapbil: Processed 174688 values from 1 variable over 1 timestep [0.35s 444MB].\n"
     ]
    },
    {
     "name": "stdout",
     "output_type": "stream",
     "text": [
      "31, "
     ]
    },
    {
     "name": "stderr",
     "output_type": "stream",
     "text": [
      "Warning (cdfScanVarAttr): NetCDF: Variable not found - lon_bnds\n",
      "Warning (cdfScanVarAttr): NetCDF: Variable not found - lat_bnds\n",
      "cdo    remapbil: Bilinear weights from curvilinear (424x412) to curvilinear (424x412) grid\n",
      "cdo    remapbil: Processed 174688 values from 1 variable over 1 timestep [0.35s 444MB].\n"
     ]
    },
    {
     "name": "stdout",
     "output_type": "stream",
     "text": [
      "32, "
     ]
    },
    {
     "name": "stderr",
     "output_type": "stream",
     "text": [
      "Warning (cdfScanVarAttr): NetCDF: Variable not found - lon_bnds\n",
      "Warning (cdfScanVarAttr): NetCDF: Variable not found - lat_bnds\n",
      "cdo    remapbil: Bilinear weights from curvilinear (424x412) to curvilinear (424x412) grid\n",
      "cdo    remapbil: Processed 174688 values from 1 variable over 1 timestep [0.35s 444MB].\n"
     ]
    },
    {
     "name": "stdout",
     "output_type": "stream",
     "text": [
      "33, "
     ]
    },
    {
     "name": "stderr",
     "output_type": "stream",
     "text": [
      "cdo    remapbil: Bilinear weights from curvilinear (424x412) to curvilinear (424x412) grid\n",
      "cdo    remapbil: Processed 174688 values from 1 variable over 1 timestep [0.35s 444MB].\n"
     ]
    },
    {
     "name": "stdout",
     "output_type": "stream",
     "text": [
      "34, "
     ]
    },
    {
     "name": "stderr",
     "output_type": "stream",
     "text": [
      "cdo    remapbil: Bilinear weights from curvilinear (424x412) to curvilinear (424x412) grid\n",
      "cdo    remapbil: Processed 174688 values from 1 variable over 1 timestep [0.33s 444MB].\n"
     ]
    },
    {
     "name": "stdout",
     "output_type": "stream",
     "text": [
      "35, "
     ]
    },
    {
     "name": "stderr",
     "output_type": "stream",
     "text": [
      "Warning (cdfScanVarAttr): NetCDF: Variable not found - lon_bnds\n",
      "Warning (cdfScanVarAttr): NetCDF: Variable not found - lat_bnds\n",
      "cdo    remapbil: Bilinear weights from curvilinear (424x412) to curvilinear (424x412) grid\n",
      "cdo    remapbil: Processed 174688 values from 1 variable over 1 timestep [0.35s 444MB].\n"
     ]
    },
    {
     "name": "stdout",
     "output_type": "stream",
     "text": [
      "36, "
     ]
    },
    {
     "name": "stderr",
     "output_type": "stream",
     "text": [
      "Warning (cdfScanVarAttr): NetCDF: Variable not found - lon_bnds\n",
      "Warning (cdfScanVarAttr): NetCDF: Variable not found - lat_bnds\n",
      "cdo    remapbil: Bilinear weights from curvilinear (424x412) to curvilinear (424x412) grid\n",
      "cdo    remapbil: Processed 174688 values from 1 variable over 1 timestep [0.35s 444MB].\n"
     ]
    },
    {
     "name": "stdout",
     "output_type": "stream",
     "text": [
      "37, "
     ]
    },
    {
     "name": "stderr",
     "output_type": "stream",
     "text": [
      "Warning (cdfScanVarAttr): NetCDF: Variable not found - lon_bnds\n",
      "Warning (cdfScanVarAttr): NetCDF: Variable not found - lat_bnds\n",
      "cdo    remapbil: Bilinear weights from curvilinear (424x412) to curvilinear (424x412) grid\n",
      "cdo    remapbil: Processed 174688 values from 1 variable over 1 timestep [0.35s 444MB].\n"
     ]
    },
    {
     "name": "stdout",
     "output_type": "stream",
     "text": [
      "38, "
     ]
    },
    {
     "name": "stderr",
     "output_type": "stream",
     "text": [
      "cdo    remapbil: Bilinear weights from curvilinear (424x412) to curvilinear (424x412) grid\n",
      "cdo    remapbil: Processed 174688 values from 1 variable over 1 timestep [0.35s 444MB].\n"
     ]
    },
    {
     "name": "stdout",
     "output_type": "stream",
     "text": [
      "39, "
     ]
    },
    {
     "name": "stderr",
     "output_type": "stream",
     "text": [
      "Warning (cdfScanVarAttr): NetCDF: Variable not found - lon_bnds\n",
      "Warning (cdfScanVarAttr): NetCDF: Variable not found - lat_bnds\n",
      "cdo    remapbil: Bilinear weights from curvilinear (453x453) to curvilinear (424x412) grid\n",
      "cdo    remapbil: Processed 205209 values from 1 variable over 1 timestep [0.37s 452MB].\n"
     ]
    },
    {
     "name": "stdout",
     "output_type": "stream",
     "text": [
      "40, "
     ]
    },
    {
     "name": "stderr",
     "output_type": "stream",
     "text": [
      "cdo    remapbil: Bilinear weights from curvilinear (424x412) to curvilinear (424x412) grid\n",
      "cdo    remapbil: Processed 174688 values from 1 variable over 1 timestep [0.35s 467MB].\n"
     ]
    },
    {
     "name": "stdout",
     "output_type": "stream",
     "text": [
      "41, "
     ]
    },
    {
     "name": "stderr",
     "output_type": "stream",
     "text": [
      "Warning (cdfScanVarAttr): NetCDF: Variable not found - lon_bnds\n",
      "Warning (cdfScanVarAttr): NetCDF: Variable not found - lat_bnds\n",
      "cdo    remapbil: Bilinear weights from curvilinear (424x412) to curvilinear (424x412) grid\n",
      "cdo    remapbil: Processed 174688 values from 1 variable over 1 timestep [0.35s 467MB].\n"
     ]
    },
    {
     "name": "stdout",
     "output_type": "stream",
     "text": [
      "42, "
     ]
    },
    {
     "name": "stderr",
     "output_type": "stream",
     "text": [
      "cdo    remapbil: Bilinear weights from curvilinear (527x527) to curvilinear (424x412) grid\n",
      "cdo    remapbil: Processed 277729 values from 1 variable over 1 timestep [0.38s 467MB].\n"
     ]
    },
    {
     "name": "stdout",
     "output_type": "stream",
     "text": [
      "43, "
     ]
    },
    {
     "name": "stderr",
     "output_type": "stream",
     "text": [
      "Warning (cdfScanVarAttr): NetCDF: Variable not found - lon_bnds\n",
      "Warning (cdfScanVarAttr): NetCDF: Variable not found - lat_bnds\n",
      "cdo    remapbil: Bilinear weights from curvilinear (424x412) to curvilinear (424x412) grid\n",
      "cdo    remapbil: Processed 174688 values from 1 variable over 1 timestep [0.35s 508MB].\n"
     ]
    },
    {
     "name": "stdout",
     "output_type": "stream",
     "text": [
      "44, "
     ]
    },
    {
     "name": "stderr",
     "output_type": "stream",
     "text": [
      "cdo    remapbil: Bilinear weights from curvilinear (424x412) to curvilinear (424x412) grid\n",
      "cdo    remapbil: Processed 174688 values from 1 variable over 1 timestep [0.35s 508MB].\n"
     ]
    },
    {
     "name": "stdout",
     "output_type": "stream",
     "text": [
      "45, "
     ]
    },
    {
     "name": "stderr",
     "output_type": "stream",
     "text": [
      "Warning (cdfScanVarAttr): NetCDF: Variable not found - longitude_bnds\n",
      "Warning (cdfScanVarAttr): NetCDF: Variable not found - latitude_bnds\n",
      "Warning (cdfScanVarAttr): NetCDF: Variable not found - rlon_bnds\n",
      "Warning (cdfScanVarAttr): NetCDF: Variable not found - rlat_bnds\n",
      "cdo    remapbil: Bilinear weights from curvilinear (424x412) to curvilinear (424x412) grid\n",
      "cdo    remapbil: Processed 174688 values from 1 variable over 1 timestep [0.35s 508MB].\n"
     ]
    },
    {
     "name": "stdout",
     "output_type": "stream",
     "text": [
      "46, "
     ]
    },
    {
     "name": "stderr",
     "output_type": "stream",
     "text": [
      "cdo    remapbil: Bilinear weights from curvilinear (424x412) to curvilinear (424x412) grid\n",
      "cdo    remapbil: Processed 174688 values from 1 variable over 1 timestep [0.34s 508MB].\n"
     ]
    },
    {
     "name": "stdout",
     "output_type": "stream",
     "text": [
      "47, "
     ]
    },
    {
     "name": "stderr",
     "output_type": "stream",
     "text": [
      "Warning (cdfScanVarAttr): NetCDF: Variable not found - lon_bnds\n",
      "Warning (cdfScanVarAttr): NetCDF: Variable not found - lat_bnds\n",
      "cdo    remapbil: Bilinear weights from curvilinear (424x412) to curvilinear (424x412) grid\n",
      "cdo    remapbil: Processed 174688 values from 1 variable over 1 timestep [0.35s 508MB].\n"
     ]
    },
    {
     "name": "stdout",
     "output_type": "stream",
     "text": [
      "48, "
     ]
    },
    {
     "name": "stderr",
     "output_type": "stream",
     "text": [
      "cdo    remapbil: Bilinear weights from curvilinear (424x412) to curvilinear (424x412) grid\n",
      "cdo    remapbil: Processed 174688 values from 1 variable over 1 timestep [0.35s 508MB].\n"
     ]
    },
    {
     "name": "stdout",
     "output_type": "stream",
     "text": [
      "49, "
     ]
    },
    {
     "name": "stderr",
     "output_type": "stream",
     "text": [
      "cdo    remapbil: Bilinear weights from curvilinear (424x412) to curvilinear (424x412) grid\n",
      "cdo    remapbil: Processed 174688 values from 1 variable over 1 timestep [0.35s 508MB].\n"
     ]
    },
    {
     "name": "stdout",
     "output_type": "stream",
     "text": [
      "50, "
     ]
    },
    {
     "name": "stderr",
     "output_type": "stream",
     "text": [
      "cdo    remapbil: Bilinear weights from curvilinear (424x412) to curvilinear (424x412) grid\n",
      "cdo    remapbil: Processed 174688 values from 1 variable over 1 timestep [0.35s 508MB].\n"
     ]
    },
    {
     "name": "stdout",
     "output_type": "stream",
     "text": [
      "51, "
     ]
    },
    {
     "name": "stderr",
     "output_type": "stream",
     "text": [
      "Warning (cdfScanVarAttr): NetCDF: Variable not found - lon_bnds\n",
      "Warning (cdfScanVarAttr): NetCDF: Variable not found - lat_bnds\n",
      "cdo    remapbil: Bilinear weights from curvilinear (453x453) to curvilinear (424x412) grid\n",
      "cdo    remapbil: Processed 205209 values from 1 variable over 1 timestep [0.37s 508MB].\n"
     ]
    },
    {
     "name": "stdout",
     "output_type": "stream",
     "text": [
      "52, "
     ]
    },
    {
     "name": "stderr",
     "output_type": "stream",
     "text": [
      "cdo    remapbil: Bilinear weights from curvilinear (424x412) to curvilinear (424x412) grid\n",
      "cdo    remapbil: Processed 174688 values from 1 variable over 1 timestep [0.35s 508MB].\n"
     ]
    },
    {
     "name": "stdout",
     "output_type": "stream",
     "text": [
      "53, "
     ]
    },
    {
     "name": "stderr",
     "output_type": "stream",
     "text": [
      "Warning (cdfScanVarAttr): NetCDF: Variable not found - lon_bnds\n",
      "Warning (cdfScanVarAttr): NetCDF: Variable not found - lat_bnds\n",
      "cdo    remapbil: Bilinear weights from curvilinear (424x412) to curvilinear (424x412) grid\n",
      "cdo    remapbil: Processed 174688 values from 1 variable over 1 timestep [0.35s 508MB].\n"
     ]
    },
    {
     "name": "stdout",
     "output_type": "stream",
     "text": [
      "54, "
     ]
    },
    {
     "name": "stderr",
     "output_type": "stream",
     "text": [
      "cdo    remapbil: Bilinear weights from curvilinear (527x527) to curvilinear (424x412) grid\n",
      "cdo    remapbil: Processed 277729 values from 1 variable over 1 timestep [0.38s 508MB].\n"
     ]
    },
    {
     "name": "stdout",
     "output_type": "stream",
     "text": [
      "55, "
     ]
    },
    {
     "name": "stderr",
     "output_type": "stream",
     "text": [
      "Warning (cdfScanVarAttr): NetCDF: Variable not found - lon_bnds\n",
      "Warning (cdfScanVarAttr): NetCDF: Variable not found - lat_bnds\n",
      "cdo    remapbil: Bilinear weights from curvilinear (424x412) to curvilinear (424x412) grid\n",
      "cdo    remapbil: Processed 174688 values from 1 variable over 1 timestep [0.35s 540MB].\n"
     ]
    },
    {
     "name": "stdout",
     "output_type": "stream",
     "text": [
      "56, "
     ]
    },
    {
     "name": "stderr",
     "output_type": "stream",
     "text": [
      "cdo    remapbil: Bilinear weights from curvilinear (424x412) to curvilinear (424x412) grid\n",
      "cdo    remapbil: Processed 174688 values from 1 variable over 1 timestep [0.35s 540MB].\n"
     ]
    },
    {
     "name": "stdout",
     "output_type": "stream",
     "text": [
      "57, "
     ]
    },
    {
     "name": "stderr",
     "output_type": "stream",
     "text": [
      "Warning (cdfScanVarAttr): NetCDF: Variable not found - longitude_bnds\n",
      "Warning (cdfScanVarAttr): NetCDF: Variable not found - latitude_bnds\n",
      "Warning (cdfScanVarAttr): NetCDF: Variable not found - rlon_bnds\n",
      "Warning (cdfScanVarAttr): NetCDF: Variable not found - rlat_bnds\n",
      "cdo    remapbil: Bilinear weights from curvilinear (424x412) to curvilinear (424x412) grid\n",
      "cdo    remapbil: Processed 174688 values from 1 variable over 1 timestep [0.36s 540MB].\n"
     ]
    },
    {
     "name": "stdout",
     "output_type": "stream",
     "text": [
      "58, "
     ]
    },
    {
     "name": "stderr",
     "output_type": "stream",
     "text": [
      "Warning (cdfScanVarAttr): NetCDF: Variable not found - lon_bnds\n",
      "Warning (cdfScanVarAttr): NetCDF: Variable not found - lat_bnds\n",
      "cdo    remapbil: Bilinear weights from curvilinear (424x412) to curvilinear (424x412) grid\n",
      "cdo    remapbil: Processed 174688 values from 1 variable over 1 timestep [0.37s 540MB].\n"
     ]
    },
    {
     "name": "stdout",
     "output_type": "stream",
     "text": [
      "59, "
     ]
    },
    {
     "name": "stderr",
     "output_type": "stream",
     "text": [
      "Warning (cdfScanVarAttr): NetCDF: Variable not found - lon_bnds\n",
      "Warning (cdfScanVarAttr): NetCDF: Variable not found - lat_bnds\n",
      "cdo    remapbil: Bilinear weights from curvilinear (424x412) to curvilinear (424x412) grid\n",
      "cdo    remapbil: Processed 174688 values from 1 variable over 1 timestep [0.40s 540MB].\n"
     ]
    },
    {
     "name": "stdout",
     "output_type": "stream",
     "text": [
      "60, "
     ]
    },
    {
     "name": "stderr",
     "output_type": "stream",
     "text": [
      "cdo    remapbil: Bilinear weights from curvilinear (424x412) to curvilinear (424x412) grid\n",
      "cdo    remapbil: Processed 174688 values from 1 variable over 1 timestep [0.34s 540MB].\n"
     ]
    },
    {
     "name": "stdout",
     "output_type": "stream",
     "text": [
      "61, "
     ]
    },
    {
     "name": "stderr",
     "output_type": "stream",
     "text": [
      "cdo    remapbil: Bilinear weights from curvilinear (424x412) to curvilinear (424x412) grid\n",
      "cdo    remapbil: Processed 174688 values from 1 variable over 1 timestep [0.33s 540MB].\n"
     ]
    },
    {
     "name": "stdout",
     "output_type": "stream",
     "text": [
      "62, "
     ]
    },
    {
     "name": "stderr",
     "output_type": "stream",
     "text": [
      "cdo    remapbil: Bilinear weights from curvilinear (424x412) to curvilinear (424x412) grid\n",
      "cdo    remapbil: Processed 174688 values from 1 variable over 1 timestep [0.34s 540MB].\n"
     ]
    },
    {
     "name": "stdout",
     "output_type": "stream",
     "text": [
      "63, "
     ]
    },
    {
     "name": "stderr",
     "output_type": "stream",
     "text": [
      "cdo    remapbil: Bilinear weights from curvilinear (424x412) to curvilinear (424x412) grid\n",
      "cdo    remapbil: Processed 174688 values from 1 variable over 1 timestep [0.35s 540MB].\n"
     ]
    },
    {
     "name": "stdout",
     "output_type": "stream",
     "text": [
      "64, "
     ]
    },
    {
     "name": "stderr",
     "output_type": "stream",
     "text": [
      "Warning (cdfScanVarAttr): NetCDF: Variable not found - lon_bnds\n",
      "Warning (cdfScanVarAttr): NetCDF: Variable not found - lat_bnds\n",
      "cdo    remapbil: Bilinear weights from curvilinear (453x453) to curvilinear (424x412) grid\n",
      "cdo    remapbil: Processed 205209 values from 1 variable over 1 timestep [0.37s 540MB].\n"
     ]
    },
    {
     "name": "stdout",
     "output_type": "stream",
     "text": [
      "65, "
     ]
    },
    {
     "name": "stderr",
     "output_type": "stream",
     "text": [
      "cdo    remapbil: Bilinear weights from curvilinear (424x412) to curvilinear (424x412) grid\n",
      "cdo    remapbil: Processed 174688 values from 1 variable over 1 timestep [0.35s 540MB].\n"
     ]
    },
    {
     "name": "stdout",
     "output_type": "stream",
     "text": [
      "66, "
     ]
    },
    {
     "name": "stderr",
     "output_type": "stream",
     "text": [
      "Warning (cdfScanVarAttr): NetCDF: Variable not found - lon_bnds\n",
      "Warning (cdfScanVarAttr): NetCDF: Variable not found - lat_bnds\n",
      "cdo    remapbil: Bilinear weights from curvilinear (424x412) to curvilinear (424x412) grid\n",
      "cdo    remapbil: Processed 174688 values from 1 variable over 1 timestep [0.35s 540MB].\n"
     ]
    },
    {
     "name": "stdout",
     "output_type": "stream",
     "text": [
      "67, "
     ]
    },
    {
     "name": "stderr",
     "output_type": "stream",
     "text": [
      "cdo    remapbil: Bilinear weights from curvilinear (527x527) to curvilinear (424x412) grid\n",
      "cdo    remapbil: Processed 277729 values from 1 variable over 1 timestep [0.38s 540MB].\n"
     ]
    },
    {
     "name": "stdout",
     "output_type": "stream",
     "text": [
      "68, "
     ]
    },
    {
     "name": "stderr",
     "output_type": "stream",
     "text": [
      "Warning (cdfScanVarAttr): NetCDF: Variable not found - lon_bnds\n",
      "Warning (cdfScanVarAttr): NetCDF: Variable not found - lat_bnds\n",
      "cdo    remapbil: Bilinear weights from curvilinear (424x412) to curvilinear (424x412) grid\n",
      "cdo    remapbil: Processed 174688 values from 1 variable over 1 timestep [0.35s 575MB].\n"
     ]
    },
    {
     "name": "stdout",
     "output_type": "stream",
     "text": [
      "69, "
     ]
    },
    {
     "name": "stderr",
     "output_type": "stream",
     "text": [
      "cdo    remapbil: Bilinear weights from curvilinear (424x412) to curvilinear (424x412) grid\n",
      "cdo    remapbil: Processed 174688 values from 1 variable over 1 timestep [0.35s 575MB].\n"
     ]
    },
    {
     "name": "stdout",
     "output_type": "stream",
     "text": [
      "70, "
     ]
    },
    {
     "name": "stderr",
     "output_type": "stream",
     "text": [
      "Warning (cdfScanVarAttr): NetCDF: Variable not found - longitude_bnds\n",
      "Warning (cdfScanVarAttr): NetCDF: Variable not found - latitude_bnds\n",
      "Warning (cdfScanVarAttr): NetCDF: Variable not found - rlon_bnds\n",
      "Warning (cdfScanVarAttr): NetCDF: Variable not found - rlat_bnds\n",
      "cdo    remapbil: Bilinear weights from curvilinear (424x412) to curvilinear (424x412) grid\n",
      "cdo    remapbil: Processed 174688 values from 1 variable over 1 timestep [0.35s 575MB].\n"
     ]
    },
    {
     "name": "stdout",
     "output_type": "stream",
     "text": [
      "71, "
     ]
    },
    {
     "name": "stderr",
     "output_type": "stream",
     "text": [
      "cdo    remapbil: Bilinear weights from curvilinear (424x412) to curvilinear (424x412) grid\n",
      "cdo    remapbil: Processed 174688 values from 1 variable over 1 timestep [0.34s 575MB].\n"
     ]
    },
    {
     "name": "stdout",
     "output_type": "stream",
     "text": [
      "72: 0, "
     ]
    },
    {
     "name": "stderr",
     "output_type": "stream",
     "text": [
      "Warning (cdfScanVarAttr): NetCDF: Variable not found - lon_bnds\n",
      "Warning (cdfScanVarAttr): NetCDF: Variable not found - lat_bnds\n",
      "cdo    remapbil: Bilinear weights from curvilinear (424x412) to curvilinear (424x412) grid\n",
      "cdo    remapbil: Processed 174688 values from 1 variable over 1 timestep [0.35s 575MB].\n"
     ]
    },
    {
     "name": "stdout",
     "output_type": "stream",
     "text": [
      "1, "
     ]
    },
    {
     "name": "stderr",
     "output_type": "stream",
     "text": [
      "Warning (cdfScanVarAttr): NetCDF: Variable not found - lon_bnds\n",
      "Warning (cdfScanVarAttr): NetCDF: Variable not found - lat_bnds\n",
      "cdo    remapbil: Bilinear weights from curvilinear (424x412) to curvilinear (424x412) grid\n",
      "cdo    remapbil: Processed 174688 values from 1 variable over 1 timestep [0.35s 575MB].\n"
     ]
    },
    {
     "name": "stdout",
     "output_type": "stream",
     "text": [
      "2, "
     ]
    },
    {
     "name": "stderr",
     "output_type": "stream",
     "text": [
      "Warning (cdfScanVarAttr): NetCDF: Variable not found - lon_bnds\n",
      "Warning (cdfScanVarAttr): NetCDF: Variable not found - lat_bnds\n",
      "cdo    remapbil: Bilinear weights from curvilinear (424x412) to curvilinear (424x412) grid\n",
      "cdo    remapbil: Processed 174688 values from 1 variable over 1 timestep [0.35s 575MB].\n"
     ]
    },
    {
     "name": "stdout",
     "output_type": "stream",
     "text": [
      "3, "
     ]
    },
    {
     "name": "stderr",
     "output_type": "stream",
     "text": [
      "cdo    remapbil: Bilinear weights from curvilinear (424x412) to curvilinear (424x412) grid\n",
      "cdo    remapbil: Processed 174688 values from 1 variable over 1 timestep [0.35s 575MB].\n"
     ]
    },
    {
     "name": "stdout",
     "output_type": "stream",
     "text": [
      "4, "
     ]
    },
    {
     "name": "stderr",
     "output_type": "stream",
     "text": [
      "cdo    remapbil: Bilinear weights from curvilinear (453x453) to curvilinear (424x412) grid\n",
      "cdo    remapbil: Processed 205209 values from 1 variable over 1 timestep [0.38s 575MB].\n"
     ]
    },
    {
     "name": "stdout",
     "output_type": "stream",
     "text": [
      "5, "
     ]
    },
    {
     "name": "stderr",
     "output_type": "stream",
     "text": [
      "Warning (cdfScanVarAttr): NetCDF: Variable not found - lon_bnds\n",
      "Warning (cdfScanVarAttr): NetCDF: Variable not found - lat_bnds\n",
      "cdo    remapbil: Bilinear weights from curvilinear (453x453) to curvilinear (424x412) grid\n",
      "cdo    remapbil: Processed 205209 values from 1 variable over 1 timestep [0.39s 575MB].\n"
     ]
    },
    {
     "name": "stdout",
     "output_type": "stream",
     "text": [
      "6, "
     ]
    },
    {
     "name": "stderr",
     "output_type": "stream",
     "text": [
      "cdo    remapbil: Bilinear weights from curvilinear (424x412) to curvilinear (424x412) grid\n",
      "cdo    remapbil: Processed 174688 values from 1 variable over 1 timestep [0.35s 575MB].\n"
     ]
    },
    {
     "name": "stdout",
     "output_type": "stream",
     "text": [
      "7, "
     ]
    },
    {
     "name": "stderr",
     "output_type": "stream",
     "text": [
      "Warning (cdfScanVarAttr): NetCDF: Variable not found - lon_bnds\n",
      "Warning (cdfScanVarAttr): NetCDF: Variable not found - lat_bnds\n",
      "cdo    remapbil: Bilinear weights from curvilinear (424x412) to curvilinear (424x412) grid\n",
      "cdo    remapbil: Processed 174688 values from 1 variable over 1 timestep [0.35s 575MB].\n"
     ]
    },
    {
     "name": "stdout",
     "output_type": "stream",
     "text": [
      "8, "
     ]
    },
    {
     "name": "stderr",
     "output_type": "stream",
     "text": [
      "cdo    remapbil: Bilinear weights from curvilinear (527x527) to curvilinear (424x412) grid\n",
      "cdo    remapbil: Processed 277729 values from 1 variable over 1 timestep [0.38s 575MB].\n"
     ]
    },
    {
     "name": "stdout",
     "output_type": "stream",
     "text": [
      "9, "
     ]
    },
    {
     "name": "stderr",
     "output_type": "stream",
     "text": [
      "Warning (cdfScanVarAttr): NetCDF: Variable not found - lon_bnds\n",
      "Warning (cdfScanVarAttr): NetCDF: Variable not found - lat_bnds\n",
      "cdo    remapbil: Bilinear weights from curvilinear (424x412) to curvilinear (424x412) grid\n",
      "cdo    remapbil: Processed 174688 values from 1 variable over 1 timestep [0.35s 575MB].\n"
     ]
    },
    {
     "name": "stdout",
     "output_type": "stream",
     "text": [
      "10, "
     ]
    },
    {
     "name": "stderr",
     "output_type": "stream",
     "text": [
      "cdo    remapbil: Bilinear weights from curvilinear (424x412) to curvilinear (424x412) grid\n",
      "cdo    remapbil: Processed 174688 values from 1 variable over 1 timestep [0.35s 575MB].\n"
     ]
    },
    {
     "name": "stdout",
     "output_type": "stream",
     "text": [
      "11, "
     ]
    },
    {
     "name": "stderr",
     "output_type": "stream",
     "text": [
      "Warning (cdfScanVarAttr): NetCDF: Variable not found - longitude_bnds\n",
      "Warning (cdfScanVarAttr): NetCDF: Variable not found - latitude_bnds\n",
      "Warning (cdfScanVarAttr): NetCDF: Variable not found - rlon_bnds\n",
      "Warning (cdfScanVarAttr): NetCDF: Variable not found - rlat_bnds\n",
      "cdo    remapbil: Bilinear weights from curvilinear (424x412) to curvilinear (424x412) grid\n",
      "cdo    remapbil: Processed 174688 values from 1 variable over 1 timestep [0.35s 575MB].\n"
     ]
    },
    {
     "name": "stdout",
     "output_type": "stream",
     "text": [
      "12, "
     ]
    },
    {
     "name": "stderr",
     "output_type": "stream",
     "text": [
      "cdo    remapbil: Bilinear weights from curvilinear (424x412) to curvilinear (424x412) grid\n",
      "cdo    remapbil: Processed 174688 values from 1 variable over 1 timestep [0.34s 575MB].\n"
     ]
    },
    {
     "name": "stdout",
     "output_type": "stream",
     "text": [
      "13, "
     ]
    },
    {
     "name": "stderr",
     "output_type": "stream",
     "text": [
      "Warning (cdfScanVarAttr): NetCDF: Variable not found - lon_bnds\n",
      "Warning (cdfScanVarAttr): NetCDF: Variable not found - lat_bnds\n",
      "cdo    remapbil: Bilinear weights from curvilinear (424x412) to curvilinear (424x412) grid\n",
      "cdo    remapbil: Processed 174688 values from 1 variable over 1 timestep [0.35s 575MB].\n"
     ]
    },
    {
     "name": "stdout",
     "output_type": "stream",
     "text": [
      "14, "
     ]
    },
    {
     "name": "stderr",
     "output_type": "stream",
     "text": [
      "cdo    remapbil: Bilinear weights from curvilinear (424x412) to curvilinear (424x412) grid\n",
      "cdo    remapbil: Processed 174688 values from 1 variable over 1 timestep [0.35s 575MB].\n"
     ]
    },
    {
     "name": "stdout",
     "output_type": "stream",
     "text": [
      "15, "
     ]
    },
    {
     "name": "stderr",
     "output_type": "stream",
     "text": [
      "cdo    remapbil: Bilinear weights from curvilinear (424x412) to curvilinear (424x412) grid\n",
      "cdo    remapbil: Processed 174688 values from 1 variable over 1 timestep [0.35s 575MB].\n"
     ]
    },
    {
     "name": "stdout",
     "output_type": "stream",
     "text": [
      "16, "
     ]
    },
    {
     "name": "stderr",
     "output_type": "stream",
     "text": [
      "cdo    remapbil: Bilinear weights from curvilinear (424x412) to curvilinear (424x412) grid\n",
      "cdo    remapbil: Processed 174688 values from 1 variable over 1 timestep [0.35s 575MB].\n"
     ]
    },
    {
     "name": "stdout",
     "output_type": "stream",
     "text": [
      "17, "
     ]
    },
    {
     "name": "stderr",
     "output_type": "stream",
     "text": [
      "cdo    remapbil: Bilinear weights from curvilinear (424x412) to curvilinear (424x412) grid\n",
      "cdo    remapbil: Processed 174688 values from 1 variable over 1 timestep [0.35s 575MB].\n"
     ]
    },
    {
     "name": "stdout",
     "output_type": "stream",
     "text": [
      "18, "
     ]
    },
    {
     "name": "stderr",
     "output_type": "stream",
     "text": [
      "cdo    remapbil: Bilinear weights from curvilinear (424x412) to curvilinear (424x412) grid\n",
      "cdo    remapbil: Processed 174688 values from 1 variable over 1 timestep [0.35s 575MB].\n"
     ]
    },
    {
     "name": "stdout",
     "output_type": "stream",
     "text": [
      "19, "
     ]
    },
    {
     "name": "stderr",
     "output_type": "stream",
     "text": [
      "cdo    remapbil: Bilinear weights from curvilinear (424x412) to curvilinear (424x412) grid\n",
      "cdo    remapbil: Processed 174688 values from 1 variable over 1 timestep [0.37s 575MB].\n"
     ]
    },
    {
     "name": "stdout",
     "output_type": "stream",
     "text": [
      "20, "
     ]
    },
    {
     "name": "stderr",
     "output_type": "stream",
     "text": [
      "Warning (cdfScanVarAttr): NetCDF: Variable not found - lon_bnds\n",
      "Warning (cdfScanVarAttr): NetCDF: Variable not found - lat_bnds\n",
      "cdo    remapbil: Bilinear weights from curvilinear (424x412) to curvilinear (424x412) grid\n",
      "cdo    remapbil: Processed 174688 values from 1 variable over 1 timestep [0.35s 575MB].\n"
     ]
    },
    {
     "name": "stdout",
     "output_type": "stream",
     "text": [
      "21, "
     ]
    },
    {
     "name": "stderr",
     "output_type": "stream",
     "text": [
      "cdo    remapbil: Bilinear weights from curvilinear (527x527) to curvilinear (424x412) grid\n",
      "cdo    remapbil: Processed 277729 values from 1 variable over 1 timestep [0.38s 575MB].\n"
     ]
    },
    {
     "name": "stdout",
     "output_type": "stream",
     "text": [
      "22, "
     ]
    },
    {
     "name": "stderr",
     "output_type": "stream",
     "text": [
      "Warning (cdfScanVarAttr): NetCDF: Variable not found - lon_bnds\n",
      "Warning (cdfScanVarAttr): NetCDF: Variable not found - lat_bnds\n",
      "cdo    remapbil: Bilinear weights from curvilinear (424x412) to curvilinear (424x412) grid\n",
      "cdo    remapbil: Processed 174688 values from 1 variable over 1 timestep [0.35s 575MB].\n"
     ]
    },
    {
     "name": "stdout",
     "output_type": "stream",
     "text": [
      "23, "
     ]
    },
    {
     "name": "stderr",
     "output_type": "stream",
     "text": [
      "cdo    remapbil: Bilinear weights from curvilinear (424x412) to curvilinear (424x412) grid\n",
      "cdo    remapbil: Processed 174688 values from 1 variable over 1 timestep [0.35s 575MB].\n"
     ]
    },
    {
     "name": "stdout",
     "output_type": "stream",
     "text": [
      "24, "
     ]
    },
    {
     "name": "stderr",
     "output_type": "stream",
     "text": [
      "cdo    remapbil: Bilinear weights from curvilinear (424x412) to curvilinear (424x412) grid\n",
      "cdo    remapbil: Processed 174688 values from 1 variable over 1 timestep [0.35s 575MB].\n"
     ]
    },
    {
     "name": "stdout",
     "output_type": "stream",
     "text": [
      "25, "
     ]
    },
    {
     "name": "stderr",
     "output_type": "stream",
     "text": [
      "cdo    remapbil: Bilinear weights from curvilinear (424x412) to curvilinear (424x412) grid\n",
      "cdo    remapbil: Processed 174688 values from 1 variable over 1 timestep [0.35s 575MB].\n"
     ]
    },
    {
     "name": "stdout",
     "output_type": "stream",
     "text": [
      "26, "
     ]
    },
    {
     "name": "stderr",
     "output_type": "stream",
     "text": [
      "Warning (cdfScanVarAttr): NetCDF: Variable not found - longitude_bnds\n",
      "Warning (cdfScanVarAttr): NetCDF: Variable not found - latitude_bnds\n",
      "Warning (cdfScanVarAttr): NetCDF: Variable not found - rlon_bnds\n",
      "Warning (cdfScanVarAttr): NetCDF: Variable not found - rlat_bnds\n",
      "cdo    remapbil: Bilinear weights from curvilinear (424x412) to curvilinear (424x412) grid\n",
      "cdo    remapbil: Processed 174688 values from 1 variable over 1 timestep [0.35s 575MB].\n"
     ]
    },
    {
     "name": "stdout",
     "output_type": "stream",
     "text": [
      "27, "
     ]
    },
    {
     "name": "stderr",
     "output_type": "stream",
     "text": [
      "cdo    remapbil: Bilinear weights from curvilinear (424x412) to curvilinear (424x412) grid\n",
      "cdo    remapbil: Processed 174688 values from 1 variable over 1 timestep [0.34s 575MB].\n"
     ]
    },
    {
     "name": "stdout",
     "output_type": "stream",
     "text": [
      "28, "
     ]
    },
    {
     "name": "stderr",
     "output_type": "stream",
     "text": [
      "cdo    remapbil: Bilinear weights from curvilinear (424x412) to curvilinear (424x412) grid\n",
      "cdo    remapbil: Processed 174688 values from 1 variable over 1 timestep [0.34s 575MB].\n"
     ]
    },
    {
     "name": "stdout",
     "output_type": "stream",
     "text": [
      "29, "
     ]
    },
    {
     "name": "stderr",
     "output_type": "stream",
     "text": [
      "cdo    remapbil: Bilinear weights from curvilinear (424x412) to curvilinear (424x412) grid\n",
      "cdo    remapbil: Processed 174688 values from 1 variable over 1 timestep [0.34s 575MB].\n"
     ]
    },
    {
     "name": "stdout",
     "output_type": "stream",
     "text": [
      "30, "
     ]
    },
    {
     "name": "stderr",
     "output_type": "stream",
     "text": [
      "cdo    remapbil: Bilinear weights from curvilinear (424x412) to curvilinear (424x412) grid\n",
      "cdo    remapbil: Processed 174688 values from 1 variable over 1 timestep [0.35s 575MB].\n"
     ]
    },
    {
     "name": "stdout",
     "output_type": "stream",
     "text": [
      "31, "
     ]
    },
    {
     "name": "stderr",
     "output_type": "stream",
     "text": [
      "Warning (cdfScanVarAttr): NetCDF: Variable not found - lon_bnds\n",
      "Warning (cdfScanVarAttr): NetCDF: Variable not found - lat_bnds\n",
      "cdo    remapbil: Bilinear weights from curvilinear (424x412) to curvilinear (424x412) grid\n",
      "cdo    remapbil: Processed 174688 values from 1 variable over 1 timestep [0.35s 575MB].\n"
     ]
    },
    {
     "name": "stdout",
     "output_type": "stream",
     "text": [
      "32, "
     ]
    },
    {
     "name": "stderr",
     "output_type": "stream",
     "text": [
      "Warning (cdfScanVarAttr): NetCDF: Variable not found - lat_bnds\n",
      "Warning (cdf_read_coordinates): Inconsistent grid structure for variable TXx!\n",
      "cdo    remapbil: Bilinear weights from curvilinear (424x412) to curvilinear (424x412) grid\n",
      "cdo    remapbil: Processed 174688 values from 1 variable over 1 timestep [0.33s 575MB].\n"
     ]
    },
    {
     "name": "stdout",
     "output_type": "stream",
     "text": [
      "33, "
     ]
    },
    {
     "name": "stderr",
     "output_type": "stream",
     "text": [
      "cdo    remapbil: Bilinear weights from curvilinear (424x412) to curvilinear (424x412) grid\n",
      "cdo    remapbil: Processed 174688 values from 1 variable over 1 timestep [0.35s 575MB].\n"
     ]
    },
    {
     "name": "stdout",
     "output_type": "stream",
     "text": [
      "34, "
     ]
    },
    {
     "name": "stderr",
     "output_type": "stream",
     "text": [
      "cdo    remapbil: Bilinear weights from curvilinear (424x412) to curvilinear (424x412) grid\n",
      "cdo    remapbil: Processed 174688 values from 1 variable over 1 timestep [0.33s 575MB].\n"
     ]
    },
    {
     "name": "stdout",
     "output_type": "stream",
     "text": [
      "35, "
     ]
    },
    {
     "name": "stderr",
     "output_type": "stream",
     "text": [
      "Warning (cdfScanVarAttr): NetCDF: Variable not found - lon_bnds\n",
      "Warning (cdfScanVarAttr): NetCDF: Variable not found - lat_bnds\n",
      "cdo    remapbil: Bilinear weights from curvilinear (424x412) to curvilinear (424x412) grid\n",
      "cdo    remapbil: Processed 174688 values from 1 variable over 1 timestep [0.35s 575MB].\n"
     ]
    },
    {
     "name": "stdout",
     "output_type": "stream",
     "text": [
      "36, "
     ]
    },
    {
     "name": "stderr",
     "output_type": "stream",
     "text": [
      "Warning (cdfScanVarAttr): NetCDF: Variable not found - lon_bnds\n",
      "Warning (cdfScanVarAttr): NetCDF: Variable not found - lat_bnds\n",
      "cdo    remapbil: Bilinear weights from curvilinear (424x412) to curvilinear (424x412) grid\n",
      "cdo    remapbil: Processed 174688 values from 1 variable over 1 timestep [0.35s 575MB].\n"
     ]
    },
    {
     "name": "stdout",
     "output_type": "stream",
     "text": [
      "37, "
     ]
    },
    {
     "name": "stderr",
     "output_type": "stream",
     "text": [
      "Warning (cdfScanVarAttr): NetCDF: Variable not found - lon_bnds\n",
      "Warning (cdfScanVarAttr): NetCDF: Variable not found - lat_bnds\n",
      "cdo    remapbil: Bilinear weights from curvilinear (424x412) to curvilinear (424x412) grid\n",
      "cdo    remapbil: Processed 174688 values from 1 variable over 1 timestep [0.35s 575MB].\n"
     ]
    },
    {
     "name": "stdout",
     "output_type": "stream",
     "text": [
      "38, "
     ]
    },
    {
     "name": "stderr",
     "output_type": "stream",
     "text": [
      "cdo    remapbil: Bilinear weights from curvilinear (424x412) to curvilinear (424x412) grid\n",
      "cdo    remapbil: Processed 174688 values from 1 variable over 1 timestep [0.35s 575MB].\n"
     ]
    },
    {
     "name": "stdout",
     "output_type": "stream",
     "text": [
      "39, "
     ]
    },
    {
     "name": "stderr",
     "output_type": "stream",
     "text": [
      "Warning (cdfScanVarAttr): NetCDF: Variable not found - lon_bnds\n",
      "Warning (cdfScanVarAttr): NetCDF: Variable not found - lat_bnds\n",
      "cdo    remapbil: Bilinear weights from curvilinear (453x453) to curvilinear (424x412) grid\n",
      "cdo    remapbil: Processed 205209 values from 1 variable over 1 timestep [0.37s 575MB].\n"
     ]
    },
    {
     "name": "stdout",
     "output_type": "stream",
     "text": [
      "40, "
     ]
    },
    {
     "name": "stderr",
     "output_type": "stream",
     "text": [
      "cdo    remapbil: Bilinear weights from curvilinear (424x412) to curvilinear (424x412) grid\n",
      "cdo    remapbil: Processed 174688 values from 1 variable over 1 timestep [0.35s 575MB].\n"
     ]
    },
    {
     "name": "stdout",
     "output_type": "stream",
     "text": [
      "41, "
     ]
    },
    {
     "name": "stderr",
     "output_type": "stream",
     "text": [
      "Warning (cdfScanVarAttr): NetCDF: Variable not found - lon_bnds\n",
      "Warning (cdfScanVarAttr): NetCDF: Variable not found - lat_bnds\n",
      "cdo    remapbil: Bilinear weights from curvilinear (424x412) to curvilinear (424x412) grid\n",
      "cdo    remapbil: Processed 174688 values from 1 variable over 1 timestep [0.35s 575MB].\n"
     ]
    },
    {
     "name": "stdout",
     "output_type": "stream",
     "text": [
      "42, "
     ]
    },
    {
     "name": "stderr",
     "output_type": "stream",
     "text": [
      "cdo    remapbil: Bilinear weights from curvilinear (527x527) to curvilinear (424x412) grid\n",
      "cdo    remapbil: Processed 277729 values from 1 variable over 1 timestep [0.38s 575MB].\n"
     ]
    },
    {
     "name": "stdout",
     "output_type": "stream",
     "text": [
      "43, "
     ]
    },
    {
     "name": "stderr",
     "output_type": "stream",
     "text": [
      "Warning (cdfScanVarAttr): NetCDF: Variable not found - lon_bnds\n",
      "Warning (cdfScanVarAttr): NetCDF: Variable not found - lat_bnds\n",
      "cdo    remapbil: Bilinear weights from curvilinear (424x412) to curvilinear (424x412) grid\n",
      "cdo    remapbil: Processed 174688 values from 1 variable over 1 timestep [0.36s 575MB].\n"
     ]
    },
    {
     "name": "stdout",
     "output_type": "stream",
     "text": [
      "44, "
     ]
    },
    {
     "name": "stderr",
     "output_type": "stream",
     "text": [
      "cdo    remapbil: Bilinear weights from curvilinear (424x412) to curvilinear (424x412) grid\n",
      "cdo    remapbil: Processed 174688 values from 1 variable over 1 timestep [0.35s 575MB].\n"
     ]
    },
    {
     "name": "stdout",
     "output_type": "stream",
     "text": [
      "45, "
     ]
    },
    {
     "name": "stderr",
     "output_type": "stream",
     "text": [
      "Warning (cdfScanVarAttr): NetCDF: Variable not found - longitude_bnds\n",
      "Warning (cdfScanVarAttr): NetCDF: Variable not found - latitude_bnds\n",
      "Warning (cdfScanVarAttr): NetCDF: Variable not found - rlon_bnds\n",
      "Warning (cdfScanVarAttr): NetCDF: Variable not found - rlat_bnds\n",
      "cdo    remapbil: Bilinear weights from curvilinear (424x412) to curvilinear (424x412) grid\n",
      "cdo    remapbil: Processed 174688 values from 1 variable over 1 timestep [0.35s 575MB].\n"
     ]
    },
    {
     "name": "stdout",
     "output_type": "stream",
     "text": [
      "46, "
     ]
    },
    {
     "name": "stderr",
     "output_type": "stream",
     "text": [
      "cdo    remapbil: Bilinear weights from curvilinear (424x412) to curvilinear (424x412) grid\n",
      "cdo    remapbil: Processed 174688 values from 1 variable over 1 timestep [0.34s 575MB].\n"
     ]
    },
    {
     "name": "stdout",
     "output_type": "stream",
     "text": [
      "47, "
     ]
    },
    {
     "name": "stderr",
     "output_type": "stream",
     "text": [
      "Warning (cdfScanVarAttr): NetCDF: Variable not found - lon_bnds\n",
      "Warning (cdfScanVarAttr): NetCDF: Variable not found - lat_bnds\n",
      "cdo    remapbil: Bilinear weights from curvilinear (424x412) to curvilinear (424x412) grid\n",
      "cdo    remapbil: Processed 174688 values from 1 variable over 1 timestep [0.35s 575MB].\n"
     ]
    },
    {
     "name": "stdout",
     "output_type": "stream",
     "text": [
      "48, "
     ]
    },
    {
     "name": "stderr",
     "output_type": "stream",
     "text": [
      "cdo    remapbil: Bilinear weights from curvilinear (424x412) to curvilinear (424x412) grid\n",
      "cdo    remapbil: Processed 174688 values from 1 variable over 1 timestep [0.36s 575MB].\n"
     ]
    },
    {
     "name": "stdout",
     "output_type": "stream",
     "text": [
      "49, "
     ]
    },
    {
     "name": "stderr",
     "output_type": "stream",
     "text": [
      "cdo    remapbil: Bilinear weights from curvilinear (424x412) to curvilinear (424x412) grid\n",
      "cdo    remapbil: Processed 174688 values from 1 variable over 1 timestep [0.36s 575MB].\n"
     ]
    },
    {
     "name": "stdout",
     "output_type": "stream",
     "text": [
      "50, "
     ]
    },
    {
     "name": "stderr",
     "output_type": "stream",
     "text": [
      "cdo    remapbil: Bilinear weights from curvilinear (424x412) to curvilinear (424x412) grid\n",
      "cdo    remapbil: Processed 174688 values from 1 variable over 1 timestep [0.35s 575MB].\n"
     ]
    },
    {
     "name": "stdout",
     "output_type": "stream",
     "text": [
      "51, "
     ]
    },
    {
     "name": "stderr",
     "output_type": "stream",
     "text": [
      "Warning (cdfScanVarAttr): NetCDF: Variable not found - lon_bnds\n",
      "Warning (cdfScanVarAttr): NetCDF: Variable not found - lat_bnds\n",
      "cdo    remapbil: Bilinear weights from curvilinear (453x453) to curvilinear (424x412) grid\n",
      "cdo    remapbil: Processed 205209 values from 1 variable over 1 timestep [0.37s 575MB].\n"
     ]
    },
    {
     "name": "stdout",
     "output_type": "stream",
     "text": [
      "52, "
     ]
    },
    {
     "name": "stderr",
     "output_type": "stream",
     "text": [
      "cdo    remapbil: Bilinear weights from curvilinear (424x412) to curvilinear (424x412) grid\n",
      "cdo    remapbil: Processed 174688 values from 1 variable over 1 timestep [0.35s 575MB].\n"
     ]
    },
    {
     "name": "stdout",
     "output_type": "stream",
     "text": [
      "53, "
     ]
    },
    {
     "name": "stderr",
     "output_type": "stream",
     "text": [
      "Warning (cdfScanVarAttr): NetCDF: Variable not found - lon_bnds\n",
      "Warning (cdfScanVarAttr): NetCDF: Variable not found - lat_bnds\n",
      "cdo    remapbil: Bilinear weights from curvilinear (424x412) to curvilinear (424x412) grid\n",
      "cdo    remapbil: Processed 174688 values from 1 variable over 1 timestep [0.35s 575MB].\n"
     ]
    },
    {
     "name": "stdout",
     "output_type": "stream",
     "text": [
      "54, "
     ]
    },
    {
     "name": "stderr",
     "output_type": "stream",
     "text": [
      "cdo    remapbil: Bilinear weights from curvilinear (527x527) to curvilinear (424x412) grid\n",
      "cdo    remapbil: Processed 277729 values from 1 variable over 1 timestep [0.39s 575MB].\n"
     ]
    },
    {
     "name": "stdout",
     "output_type": "stream",
     "text": [
      "55, "
     ]
    },
    {
     "name": "stderr",
     "output_type": "stream",
     "text": [
      "Warning (cdfScanVarAttr): NetCDF: Variable not found - lon_bnds\n",
      "Warning (cdfScanVarAttr): NetCDF: Variable not found - lat_bnds\n",
      "cdo    remapbil: Bilinear weights from curvilinear (424x412) to curvilinear (424x412) grid\n",
      "cdo    remapbil: Processed 174688 values from 1 variable over 1 timestep [0.35s 575MB].\n"
     ]
    },
    {
     "name": "stdout",
     "output_type": "stream",
     "text": [
      "56, "
     ]
    },
    {
     "name": "stderr",
     "output_type": "stream",
     "text": [
      "cdo    remapbil: Bilinear weights from curvilinear (424x412) to curvilinear (424x412) grid\n",
      "cdo    remapbil: Processed 174688 values from 1 variable over 1 timestep [0.35s 575MB].\n"
     ]
    },
    {
     "name": "stdout",
     "output_type": "stream",
     "text": [
      "57, "
     ]
    },
    {
     "name": "stderr",
     "output_type": "stream",
     "text": [
      "Warning (cdfScanVarAttr): NetCDF: Variable not found - longitude_bnds\n",
      "Warning (cdfScanVarAttr): NetCDF: Variable not found - latitude_bnds\n",
      "Warning (cdfScanVarAttr): NetCDF: Variable not found - rlon_bnds\n",
      "Warning (cdfScanVarAttr): NetCDF: Variable not found - rlat_bnds\n",
      "cdo    remapbil: Bilinear weights from curvilinear (424x412) to curvilinear (424x412) grid\n",
      "cdo    remapbil: Processed 174688 values from 1 variable over 1 timestep [0.35s 575MB].\n"
     ]
    },
    {
     "name": "stdout",
     "output_type": "stream",
     "text": [
      "58, "
     ]
    },
    {
     "name": "stderr",
     "output_type": "stream",
     "text": [
      "Warning (cdfScanVarAttr): NetCDF: Variable not found - lon_bnds\n",
      "Warning (cdfScanVarAttr): NetCDF: Variable not found - lat_bnds\n",
      "cdo    remapbil: Bilinear weights from curvilinear (424x412) to curvilinear (424x412) grid\n",
      "cdo    remapbil: Processed 174688 values from 1 variable over 1 timestep [0.37s 575MB].\n"
     ]
    },
    {
     "name": "stdout",
     "output_type": "stream",
     "text": [
      "59, "
     ]
    },
    {
     "name": "stderr",
     "output_type": "stream",
     "text": [
      "Warning (cdfScanVarAttr): NetCDF: Variable not found - lon_bnds\n",
      "Warning (cdfScanVarAttr): NetCDF: Variable not found - lat_bnds\n",
      "cdo    remapbil: Bilinear weights from curvilinear (424x412) to curvilinear (424x412) grid\n",
      "cdo    remapbil: Processed 174688 values from 1 variable over 1 timestep [0.37s 575MB].\n"
     ]
    },
    {
     "name": "stdout",
     "output_type": "stream",
     "text": [
      "60, "
     ]
    },
    {
     "name": "stderr",
     "output_type": "stream",
     "text": [
      "cdo    remapbil: Bilinear weights from curvilinear (424x412) to curvilinear (424x412) grid\n",
      "cdo    remapbil: Processed 174688 values from 1 variable over 1 timestep [0.34s 575MB].\n"
     ]
    },
    {
     "name": "stdout",
     "output_type": "stream",
     "text": [
      "61, "
     ]
    },
    {
     "name": "stderr",
     "output_type": "stream",
     "text": [
      "cdo    remapbil: Bilinear weights from curvilinear (424x412) to curvilinear (424x412) grid\n",
      "cdo    remapbil: Processed 174688 values from 1 variable over 1 timestep [0.34s 575MB].\n"
     ]
    },
    {
     "name": "stdout",
     "output_type": "stream",
     "text": [
      "62, "
     ]
    },
    {
     "name": "stderr",
     "output_type": "stream",
     "text": [
      "cdo    remapbil: Bilinear weights from curvilinear (424x412) to curvilinear (424x412) grid\n",
      "cdo    remapbil: Processed 174688 values from 1 variable over 1 timestep [0.34s 575MB].\n"
     ]
    },
    {
     "name": "stdout",
     "output_type": "stream",
     "text": [
      "63, "
     ]
    },
    {
     "name": "stderr",
     "output_type": "stream",
     "text": [
      "cdo    remapbil: Bilinear weights from curvilinear (424x412) to curvilinear (424x412) grid\n",
      "cdo    remapbil: Processed 174688 values from 1 variable over 1 timestep [0.35s 575MB].\n"
     ]
    },
    {
     "name": "stdout",
     "output_type": "stream",
     "text": [
      "64, "
     ]
    },
    {
     "name": "stderr",
     "output_type": "stream",
     "text": [
      "Warning (cdfScanVarAttr): NetCDF: Variable not found - lon_bnds\n",
      "Warning (cdfScanVarAttr): NetCDF: Variable not found - lat_bnds\n",
      "cdo    remapbil: Bilinear weights from curvilinear (453x453) to curvilinear (424x412) grid\n",
      "cdo    remapbil: Processed 205209 values from 1 variable over 1 timestep [0.37s 575MB].\n"
     ]
    },
    {
     "name": "stdout",
     "output_type": "stream",
     "text": [
      "65, "
     ]
    },
    {
     "name": "stderr",
     "output_type": "stream",
     "text": [
      "cdo    remapbil: Bilinear weights from curvilinear (424x412) to curvilinear (424x412) grid\n",
      "cdo    remapbil: Processed 174688 values from 1 variable over 1 timestep [0.35s 575MB].\n"
     ]
    },
    {
     "name": "stdout",
     "output_type": "stream",
     "text": [
      "66, "
     ]
    },
    {
     "name": "stderr",
     "output_type": "stream",
     "text": [
      "Warning (cdfScanVarAttr): NetCDF: Variable not found - lon_bnds\n",
      "Warning (cdfScanVarAttr): NetCDF: Variable not found - lat_bnds\n",
      "cdo    remapbil: Bilinear weights from curvilinear (424x412) to curvilinear (424x412) grid\n",
      "cdo    remapbil: Processed 174688 values from 1 variable over 1 timestep [0.35s 575MB].\n"
     ]
    },
    {
     "name": "stdout",
     "output_type": "stream",
     "text": [
      "67, "
     ]
    },
    {
     "name": "stderr",
     "output_type": "stream",
     "text": [
      "cdo    remapbil: Bilinear weights from curvilinear (527x527) to curvilinear (424x412) grid\n",
      "cdo    remapbil: Processed 277729 values from 1 variable over 1 timestep [0.39s 575MB].\n"
     ]
    },
    {
     "name": "stdout",
     "output_type": "stream",
     "text": [
      "68, "
     ]
    },
    {
     "name": "stderr",
     "output_type": "stream",
     "text": [
      "Warning (cdfScanVarAttr): NetCDF: Variable not found - lon_bnds\n",
      "Warning (cdfScanVarAttr): NetCDF: Variable not found - lat_bnds\n",
      "cdo    remapbil: Bilinear weights from curvilinear (424x412) to curvilinear (424x412) grid\n",
      "cdo    remapbil: Processed 174688 values from 1 variable over 1 timestep [0.35s 575MB].\n"
     ]
    },
    {
     "name": "stdout",
     "output_type": "stream",
     "text": [
      "69, "
     ]
    },
    {
     "name": "stderr",
     "output_type": "stream",
     "text": [
      "cdo    remapbil: Bilinear weights from curvilinear (424x412) to curvilinear (424x412) grid\n",
      "cdo    remapbil: Processed 174688 values from 1 variable over 1 timestep [0.35s 575MB].\n"
     ]
    },
    {
     "name": "stdout",
     "output_type": "stream",
     "text": [
      "70, "
     ]
    },
    {
     "name": "stderr",
     "output_type": "stream",
     "text": [
      "Warning (cdfScanVarAttr): NetCDF: Variable not found - longitude_bnds\n",
      "Warning (cdfScanVarAttr): NetCDF: Variable not found - latitude_bnds\n",
      "Warning (cdfScanVarAttr): NetCDF: Variable not found - rlon_bnds\n",
      "Warning (cdfScanVarAttr): NetCDF: Variable not found - rlat_bnds\n",
      "cdo    remapbil: Bilinear weights from curvilinear (424x412) to curvilinear (424x412) grid\n",
      "cdo    remapbil: Processed 174688 values from 1 variable over 1 timestep [0.35s 575MB].\n"
     ]
    },
    {
     "name": "stdout",
     "output_type": "stream",
     "text": [
      "71, "
     ]
    },
    {
     "name": "stderr",
     "output_type": "stream",
     "text": [
      "cdo    remapbil: Bilinear weights from curvilinear (424x412) to curvilinear (424x412) grid\n",
      "cdo    remapbil: Processed 174688 values from 1 variable over 1 timestep [0.34s 575MB].\n"
     ]
    }
   ],
   "source": [
    "variables = ['tasmin', 'tasmax']\n",
    "\n",
    "vars_out = dict()\n",
    "vars_out['tasmax'] = 'TXx'\n",
    "vars_out['tasmin'] = 'TNx'\n",
    "\n",
    "data_all = dict()\n",
    "\n",
    "for variab in variables:\n",
    "\n",
    "    dir_data = dir_data_Ymax + variab + '/'\n",
    "\n",
    "    print(len(all_models), end=': ')\n",
    "\n",
    "    #Loop over all models\n",
    "    create = 1\n",
    "    for i, model in enumerate(all_models):\n",
    "\n",
    "        print(i, end=', ')\n",
    "\n",
    "        #Get file names\n",
    "        f_ref = [file for file in os.listdir(dir_data) if \"_\".join(model) in file and ref_period in file]\n",
    "        f_app = [file for file in os.listdir(dir_data) if \"_\".join(model) in file and dEMT_str in file]\n",
    "        if len(f_ref)!=1:  sys.exit('File is not unique')\n",
    "        if len(f_app)!=1:  sys.exit('File is not unique')\n",
    "\n",
    "        #Read data and calculate difference and rename\n",
    "        data_ref = xr.open_dataset(dir_data + f_ref[0])\n",
    "        data_app = xr.open_dataset(dir_data + f_app[0])\n",
    "        data_diff = data_app.mean('time') - data_ref.mean('time')\n",
    "        data_diff = data_diff.rename({variab: vars_out[variab]})\n",
    "        \n",
    "        #Save in NetCDF\n",
    "        fname_tmp = dir_data_Ymax + \"_\".join(model) + '_' + variab + \"_tmp.nc\"\n",
    "        data_diff.to_netcdf(fname_tmp)\n",
    "\n",
    "        #Regrid to standard grid\n",
    "        fname_grid = dir_regrid + 'grid_xy_CORDEX-EUR-11_NCC-NorESM1-M_SMHI-RCA4'\n",
    "        fname_regrid = dir_data_Ymax + \"_\".join(model) + variab + \"_regridded.nc\"\n",
    "        os.system(\"cdo remapbil,\" + fname_grid + \" \" + fname_tmp + \" \" + fname_regrid)\n",
    "\n",
    "        #Read regridded dataset\n",
    "        data_regr = xr.open_dataset(fname_regrid)\n",
    "        data_regr = data_regr.reindex({'rlat': grid_standard['rlat'], 'rlon': grid_standard['rlon']}, method='nearest')\n",
    "\n",
    "        #Remove unnecessary variables\n",
    "        vars_remove = set(data_regr.data_vars).difference([vars_out[variab]])\n",
    "        data_regr = data_regr.drop(vars_remove)\n",
    "        if 'height' in data_regr: data_regr = data_regr.drop('height')\n",
    "\n",
    "        #Collect in one array\n",
    "        if create==1:\n",
    "            data_coll = data_regr\n",
    "            create = 0\n",
    "        else:\n",
    "            data_coll = xr.concat((data_coll, data_regr), dim='model')\n",
    "\n",
    "        #Remove temporary files\n",
    "        os.remove(fname_tmp)\n",
    "        os.remove(fname_regrid)\n",
    "\n",
    "    #Add model names\n",
    "    data_coll['model'] = [\"_\".join(model) for model in all_models]\n",
    "    \n",
    "    #Save in file\n",
    "    fname_out = dir_data_Ymax + vars_out[variab] + '_all_models_yearmax.nc'\n",
    "    if os.path.exists(fname_out): os.remove(fname_out)\n",
    "    data_coll.to_netcdf(fname_out)\n",
    "    "
   ]
  },
  {
   "cell_type": "markdown",
   "metadata": {},
   "source": [
    "## Calculate IQR of TXx in reference period (1981-2010)"
   ]
  },
  {
   "cell_type": "code",
   "execution_count": null,
   "metadata": {},
   "outputs": [],
   "source": [
    "variables = ['tasmax']\n",
    "vars_out = dict()\n",
    "vars_out['tasmax'] = 'TXx'\n",
    "vars_out['tasmin'] = 'TNx'\n",
    "\n",
    "data_all = dict()\n",
    "\n",
    "for variab in variables:\n",
    "\n",
    "    dir_data = dir_data_Ymax + variab + '/'\n",
    "\n",
    "    print(len(all_models), end=': ')\n",
    "\n",
    "    #Loop over all models\n",
    "    create = 1\n",
    "    for i, model in enumerate(all_models):\n",
    "\n",
    "        print(i, end=', ')\n",
    "\n",
    "        #Get file names\n",
    "        f_ref = [file for file in os.listdir(dir_data) if \"_\".join(model) in file and ref_period in file]\n",
    "        if len(f_ref)!=1:  sys.exit('File is not unique')\n",
    "\n",
    "        #Read data and calculate IQR\n",
    "        data_read = xr.open_dataset(dir_data + f_ref[0])\n",
    "        data_Q75  = data_read.quantile(0.75, dim='time')\n",
    "        data_Q25  = data_read.quantile(0.25, dim='time')\n",
    "        data_IQR  = data_Q75 - data_Q25\n",
    "        \n",
    "        #Rename variable\n",
    "        data_IQR  = data_IQR.rename({variab: vars_out[variab]})\n",
    "        \n",
    "        #Save in NetCDF\n",
    "        fname_tmp = dir_data_Ymax + \"_\".join(model) + '_' + variab + \"_tmp_IQR_TXx.nc\"\n",
    "        if os.path.exists(fname_tmp): os.remove(fname_tmp)\n",
    "        data_IQR.to_netcdf(fname_tmp)\n",
    "\n",
    "        #Regrid to standard grid\n",
    "        fname_grid = dir_regrid + 'grid_xy_CORDEX-EUR-11_NCC-NorESM1-M_SMHI-RCA4'\n",
    "        fname_regrid = dir_data_Ymax + \"_\".join(model) + variab + \"_regridded_tmp_IQR_TXx.nc\"\n",
    "        if os.path.exists(fname_regrid): os.remove(fname_regrid)\n",
    "        os.system(\"cdo remapbil,\" + fname_grid + \" \" + fname_tmp + \" \" + fname_regrid)\n",
    "\n",
    "        #Read regridded dataset\n",
    "        data_regr = xr.open_dataset(fname_regrid)\n",
    "        data_regr = data_regr.reindex({'rlat': grid_standard['rlat'], 'rlon': grid_standard['rlon']}, method='nearest')\n",
    "\n",
    "        #Remove unnecessary variables\n",
    "        vars_remove = set(data_regr.data_vars).difference([vars_out[variab]])\n",
    "        data_regr = data_regr.drop(vars_remove)\n",
    "        if 'height' in data_regr: data_regr = data_regr.drop('height')\n",
    "\n",
    "        #Collect in one array\n",
    "        if create==1:\n",
    "            data_coll = data_regr\n",
    "            create = 0\n",
    "        else:\n",
    "            data_coll = xr.concat((data_coll, data_regr), dim='model')\n",
    "\n",
    "        #Remove temporary files\n",
    "        os.remove(fname_tmp)\n",
    "        os.remove(fname_regrid)\n",
    "        \n",
    "    #Save in file\n",
    "    fname_save = dir_data_Ymax + vars_out[variab] + '-IQR_all_models.nc'\n",
    "    if os.path.exists(fname_save): os.remove(fname_save)\n",
    "    data_coll.to_netcdf(fname_save)\n"
   ]
  },
  {
   "cell_type": "code",
   "execution_count": null,
   "metadata": {},
   "outputs": [],
   "source": []
  }
 ],
 "metadata": {
  "kernelspec": {
   "display_name": "Python 3 (ipykernel)",
   "language": "python",
   "name": "python3"
  },
  "language_info": {
   "codemirror_mode": {
    "name": "ipython",
    "version": 3
   },
   "file_extension": ".py",
   "mimetype": "text/x-python",
   "name": "python",
   "nbconvert_exporter": "python",
   "pygments_lexer": "ipython3",
   "version": "3.8.8"
  }
 },
 "nbformat": 4,
 "nbformat_minor": 2
}

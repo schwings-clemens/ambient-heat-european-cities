{
 "cells": [
  {
   "cell_type": "code",
   "execution_count": null,
   "id": "turkish-reason",
   "metadata": {},
   "outputs": [],
   "source": [
    "import pandas as pd\n",
    "import numpy as np\n",
    "import matplotlib.pyplot as plt\n",
    "import os\n"
   ]
  },
  {
   "cell_type": "markdown",
   "id": "strange-discrimination",
   "metadata": {},
   "source": [
    "## Define folders"
   ]
  },
  {
   "cell_type": "code",
   "execution_count": null,
   "id": "conservative-closure",
   "metadata": {},
   "outputs": [],
   "source": [
    "#Read main path\n",
    "with open('../path_main.txt', 'r') as file:   path_main = file.read()\n",
    "\n",
    "dir_scripts = f'{path_main}Scripts/'\n",
    "dir_GSOD    = f'{path_main}Data/GSOD/'\n",
    "dir_out     = f'{path_main}Data/GSOD/Stations_all_years/'\n",
    "if not os.path.exists(dir_out): os.mkdir(dir_out)\n"
   ]
  },
  {
   "cell_type": "markdown",
   "id": "sweet-glasgow",
   "metadata": {},
   "source": [
    "## Get list of all stations"
   ]
  },
  {
   "cell_type": "code",
   "execution_count": null,
   "id": "homeless-silver",
   "metadata": {},
   "outputs": [],
   "source": [
    "#Define years\n",
    "years = np.arange(1981, 2021)\n",
    "\n",
    "#Initialize set to collect stations\n",
    "all_stations = set()\n",
    "\n",
    "#Loop over years\n",
    "N = np.empty(len(years)) * np.NaN\n",
    "for i, year in enumerate(years):\n",
    "    \n",
    "    #Get files in folder\n",
    "    dir_files = dir_GSOD + 'stations_' + str(year) + '/'\n",
    "    files     = os.listdir(dir_files)\n",
    "    \n",
    "    #Extract station IDs\n",
    "    STA_IDS = [file.split('.')[0] for file in files]\n",
    "\n",
    "    #Select in set\n",
    "    all_stations = all_stations.union(set(STA_IDS))\n",
    "    N[i] = len(all_stations) \n",
    "\n",
    "#Convert to list\n",
    "all_stations = sorted(list(all_stations))\n",
    "\n",
    "#Plot number of stations\n",
    "plt.plot(N)\n"
   ]
  },
  {
   "cell_type": "markdown",
   "id": "fiscal-florida",
   "metadata": {},
   "source": [
    "## Save data for each station and variable in one file"
   ]
  },
  {
   "cell_type": "code",
   "execution_count": null,
   "id": "educated-psychiatry",
   "metadata": {},
   "outputs": [],
   "source": [
    "#Define variables\n",
    "variables = ['MAX', 'MIN']\n",
    "\n",
    "#Define output names\n",
    "vars_out = dict()\n",
    "vars_out['MAX'] = 'TX'\n",
    "vars_out['MIN'] = 'TN'\n",
    "\n",
    "#Select variable\n",
    "for variable in variables:\n",
    "\n",
    "    #Loop over all stations\n",
    "    N = 0\n",
    "    for station in all_stations:\n",
    "\n",
    "        #Loop over years\n",
    "        create = 1\n",
    "        for year in years:\n",
    "\n",
    "            #Define folder\n",
    "            dir_data = dir_GSOD + 'stations_' + str(year) + '/'\n",
    "\n",
    "            if station + '.csv' in os.listdir(dir_data):\n",
    "\n",
    "                #Read data\n",
    "                data_read = pd.read_csv(dir_data + station + '.csv')\n",
    "                \n",
    "                #Get dates and data and mask missing values\n",
    "                dates = pd.DatetimeIndex(data_read['DATE'])\n",
    "                data  = data_read[variable]\n",
    "                data  = data.where(data<9999)\n",
    "\n",
    "                #Convert °F to °C\n",
    "                if variable in ['MAX', 'MIN']:\n",
    "                    data = (data - 32) * 5/9\n",
    "\n",
    "            else:\n",
    "\n",
    "                #Create array with NaNs if data is not available\n",
    "                dates = pd.date_range(start='1/1/' + str(year), end='31/12/' + str(year))\n",
    "                data  = np.empty(len(dates)) * np.NaN\n",
    "\n",
    "            #Collect in array\n",
    "            if create==1:\n",
    "                dates_coll = dates\n",
    "                data_coll  = data\n",
    "                create = 0\n",
    "            elif create==0:\n",
    "                dates_coll = np.concatenate((dates_coll, dates), axis=0)\n",
    "                data_coll  = np.concatenate((data_coll, data), axis=0)\n",
    "                create = 0        \n",
    "\n",
    "        #Convert to DataFrame\n",
    "        data_out = pd.DataFrame(list(zip(dates_coll, data_coll)))\n",
    "        data_out.columns = ['time', vars_out[variable]]\n",
    "\n",
    "        if np.sum(~np.isnan(data_coll))<10*365:\n",
    "            N = N + 1\n",
    "            continue\n",
    "\n",
    "        #Convert to xarray and add lat and lon\n",
    "        data_out = data_out.set_index('time')\n",
    "        data_out = data_out.to_xarray()\n",
    "        data_out['lat'] = data_read['LATITUDE'][0]\n",
    "        data_out['lon'] = data_read['LONGITUDE'][0]            \n",
    "\n",
    "        #Save in file\n",
    "        file_out = dir_out + vars_out[variable] + '_' + 'STA' + station + '_' + str(years[0]) + '-' + str(years[-1]) + '.nc'\n",
    "        data_out.to_netcdf(file_out)\n",
    "\n",
    "    print('Stations with less than 10 years of data are excluded. Number of excluded stations: ' +\n",
    "          str(N) + ' out of ' + str(len(all_stations)) + ' for ' + variable)\n"
   ]
  },
  {
   "cell_type": "code",
   "execution_count": null,
   "id": "special-politics",
   "metadata": {},
   "outputs": [],
   "source": []
  }
 ],
 "metadata": {
  "kernelspec": {
   "display_name": "Python 3 (ipykernel)",
   "language": "python",
   "name": "python3"
  },
  "language_info": {
   "codemirror_mode": {
    "name": "ipython",
    "version": 3
   },
   "file_extension": ".py",
   "mimetype": "text/x-python",
   "name": "python",
   "nbconvert_exporter": "python",
   "pygments_lexer": "ipython3",
   "version": "3.8.8"
  }
 },
 "nbformat": 4,
 "nbformat_minor": 5
}

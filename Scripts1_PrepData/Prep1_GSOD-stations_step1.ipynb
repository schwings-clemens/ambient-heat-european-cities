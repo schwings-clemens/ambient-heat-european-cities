{
 "cells": [
  {
   "cell_type": "code",
   "execution_count": null,
   "id": "significant-forest",
   "metadata": {},
   "outputs": [],
   "source": [
    "import pandas as pd\n",
    "import numpy as np\n",
    "import yaml\n",
    "import os\n"
   ]
  },
  {
   "cell_type": "markdown",
   "id": "special-norfolk",
   "metadata": {},
   "source": [
    "## Define folders"
   ]
  },
  {
   "cell_type": "code",
   "execution_count": null,
   "id": "unnecessary-round",
   "metadata": {},
   "outputs": [],
   "source": [
    "#Read main path\n",
    "with open('../path_main.txt', 'r') as file:   path_main = file.read()\n",
    "\n",
    "dir_scripts   = f'{path_main}Scripts/'\n",
    "dir_GSOD      = f'{path_main}Data/GSOD/'\n",
    "dir_zipfiles  = f'{path_main}Data/GSOD/zip_files/'\n"
   ]
  },
  {
   "cell_type": "markdown",
   "id": "understanding-jacksonville",
   "metadata": {},
   "source": [
    "## Unzip files"
   ]
  },
  {
   "cell_type": "code",
   "execution_count": null,
   "id": "mobile-shareware",
   "metadata": {},
   "outputs": [],
   "source": [
    "#Get list of files to unzip\n",
    "files_unzip = sorted([file for file in os.listdir(zip_files) if '.tar.gz' in file])\n",
    "\n",
    "#Loop over files\n",
    "for file in files_unzip:\n",
    "    \n",
    "    #Define and create output folder\n",
    "    dir_extract = dir_GSOD + 'unzipped_' + file[0:4] + '/'\n",
    "    if not os.path.exists(dir_extract):  os.mkdir(dir_extract)\n",
    "        \n",
    "    #Unzip to folder\n",
    "    os.system('tar -xvzf ' + zip_files + file + ' -C ' + dir_extract)\n",
    "    "
   ]
  },
  {
   "cell_type": "markdown",
   "id": "broke-ebony",
   "metadata": {},
   "source": [
    "## Select and copy files"
   ]
  },
  {
   "cell_type": "code",
   "execution_count": null,
   "id": "herbal-poison",
   "metadata": {
    "scrolled": true
   },
   "outputs": [],
   "source": [
    "# Load city coordinates\n",
    "fname_coords = dir_scripts + 'City_coordinates.yml'\n",
    "with open(fname_coords, 'r') as file:\n",
    "    city_coords = yaml.safe_load(file)\n",
    "\n",
    "#Get lat and lon of city\n",
    "city_coords = np.array(list(city_coords.values()))\n",
    "lat_city = city_coords[:, 0]\n",
    "lon_city = city_coords[:, 1]\n",
    "\n",
    "#Define years\n",
    "years = np.arange(1981, 2021)\n",
    "\n",
    "#Loop over years\n",
    "for year in years:\n",
    "\n",
    "    print(year)\n",
    "    \n",
    "    #Define folders and create output folder\n",
    "    dir_year   = dir_GSOD + 'unzipped_' + str(year) + '/'\n",
    "    dir_select = dir_GSOD + 'stations_' + str(year) + '/'\n",
    "    if not os.path.exists(dir_select):  os.mkdir(dir_select)\n",
    "    \n",
    "    #Get list of files\n",
    "    files = os.listdir(dir_year)\n",
    "    \n",
    "    #Loop over files\n",
    "    coll_sta = []\n",
    "    for i1, file in enumerate(files):\n",
    "\n",
    "        #Read data and extract lat and lon\n",
    "        data = pd.read_csv(dir_year + file)\n",
    "        lat_sta = data['LATITUDE'][0]\n",
    "        lon_sta = data['LONGITUDE'][0]\n",
    "\n",
    "        #Calculate distance to all cities and get minimum\n",
    "        min_dist = np.sqrt((lat_city - lat_sta)**2 + (lon_city - lon_sta)**2)\n",
    "        min_dist = np.min(min_dist)\n",
    "        \n",
    "        #Copy file if closer than 0.75° to a city\n",
    "        if min_dist<0.75:\n",
    "            os.system('cp ' + dir_year + file + \" \" + dir_select + file)\n",
    "\n",
    "            \n",
    "            "
   ]
  },
  {
   "cell_type": "markdown",
   "id": "judicial-casting",
   "metadata": {},
   "source": [
    "## Remove folders with all unzipped files"
   ]
  },
  {
   "cell_type": "code",
   "execution_count": null,
   "id": "legislative-debate",
   "metadata": {},
   "outputs": [],
   "source": [
    "#Identify folders that should be removed\n",
    "folders_del = [folder for folder in os.listdir(dir_GSOD) if 'unzipped' in folder]\n",
    "\n",
    "#Loop over folders\n",
    "for folder in folders_del:\n",
    "    \n",
    "    #Remove folder\n",
    "    os.system('rm -r ' + dir_GSOD + folder)\n",
    "    "
   ]
  },
  {
   "cell_type": "code",
   "execution_count": null,
   "id": "smart-apparel",
   "metadata": {},
   "outputs": [],
   "source": []
  }
 ],
 "metadata": {
  "kernelspec": {
   "display_name": "Python 3 (ipykernel)",
   "language": "python",
   "name": "python3"
  },
  "language_info": {
   "codemirror_mode": {
    "name": "ipython",
    "version": 3
   },
   "file_extension": ".py",
   "mimetype": "text/x-python",
   "name": "python",
   "nbconvert_exporter": "python",
   "pygments_lexer": "ipython3",
   "version": "3.8.8"
  }
 },
 "nbformat": 4,
 "nbformat_minor": 5
}

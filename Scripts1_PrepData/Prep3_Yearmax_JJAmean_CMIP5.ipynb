{
 "cells": [
  {
   "cell_type": "code",
   "execution_count": null,
   "metadata": {},
   "outputs": [],
   "source": [
    "import os\n",
    "import sys\n",
    "import time as t_util\n",
    "import numpy as np\n",
    "import pandas as pd\n",
    "import yaml\n",
    "import cftime\n",
    "import xarray as xr\n"
   ]
  },
  {
   "cell_type": "markdown",
   "metadata": {},
   "source": [
    "## Define folders"
   ]
  },
  {
   "cell_type": "code",
   "execution_count": null,
   "metadata": {},
   "outputs": [],
   "source": [
    "#Read main paths\n",
    "with open('../path_main.txt', 'r') as file:   path_main = file.read()\n",
    "with open('../path_CMIP5.txt', 'r') as file:  path_cmip5 = file.read()\n",
    "    \n",
    "dir_CMIP5   = path_cmip5\n",
    "dir_scripts = f'{path_main}Scripts/'\n",
    "dir_names   = f'{path_main}Scripts/Model_lists/'\n",
    "dir_JJA     = f'{path_main}Data/CMIP5/JJA/'\n",
    "dir_Yearmax = f'{path_main}Data/CMIP5/Yearmax/'\n",
    "if not os.path.exists(dir_JJA):      os.mkdir(dir_JJA)\n",
    "if not os.path.exists(dir_Yearmax):  os.mkdir(dir_Yearmax)\n"
   ]
  },
  {
   "cell_type": "markdown",
   "metadata": {},
   "source": [
    "## Prepare variables and parameters"
   ]
  },
  {
   "cell_type": "code",
   "execution_count": null,
   "metadata": {},
   "outputs": [],
   "source": [
    "#Define models and RCPs which should be used\n",
    "all_models = dict()\n",
    "all_models['rcp85'] = []\n",
    "with open(dir_names + 'Models_CMIP5_RCP85.txt', 'r') as filehandle:\n",
    "    for line in filehandle:\n",
    "        all_models['rcp85'].append(line[:-1])\n",
    "\n",
    "#Define time periods\n",
    "time_periods = [[1981, 2010], [2070, 2099]]\n",
    "\n",
    "scenarios = ['historical', 'rcp85']\n",
    "\n",
    "variables = ['tasmax']#, 'tasmin']\n",
    "vars_out = dict()\n",
    "vars_out['tasmax'] = 'TXx'\n",
    "vars_out['tasmin'] = 'TNx'\n"
   ]
  },
  {
   "cell_type": "markdown",
   "metadata": {},
   "source": [
    "## Prepare CMIP5 data"
   ]
  },
  {
   "cell_type": "code",
   "execution_count": null,
   "metadata": {
    "scrolled": true
   },
   "outputs": [],
   "source": [
    "#Loop over models\n",
    "for model in all_models['rcp85']:\n",
    "    \n",
    "    print(model)\n",
    "\n",
    "    #Define members\n",
    "    if model=='EC-EARTH':      members = ['r1i1p1', 'r12i1p1']\n",
    "    elif model=='MPI-ESM-LR':  members = ['r1i1p1', 'r2i1p1', 'r3i1p1']\n",
    "    else:                      members = ['r1i1p1']        \n",
    "\n",
    "    #Loop over members\n",
    "    for member in members:  \n",
    "\n",
    "        #Loop over variables\n",
    "        for variab in variables:\n",
    "\n",
    "            print(variab, end=', ')\n",
    "\n",
    "            #Loop over scenarios\n",
    "            fnames_merge = []\n",
    "            for scen in scenarios:\n",
    "\n",
    "                #Get file names\n",
    "                dir_data = dir_CMIP5 + scen + '/'\n",
    "                fnames = [dir_data + file for file in os.listdir(dir_data) if model + '_' in file and member in file and variab in file and scen in file and '_day_' in file]\n",
    "                fnames = sorted(fnames)\n",
    "                if len(fnames)==0: sys.exit('Filename not uniquely defined')\n",
    "\n",
    "                #Add to list for all files for merging\n",
    "                fnames_merge = fnames_merge + fnames\n",
    "\n",
    "            #Merge single files to one large file\n",
    "            file_merge = dir_Yearmax + 'CMIP5_merged_' + variab + '_' + scen + \"_\" + (model) + '_Yearmax_tmp.nc'\n",
    "            if os.path.exists(file_merge): os.remove(file_merge)\n",
    "            os.system('cdo mergetime ' + \" \".join(fnames_merge) + \" \" + file_merge)\n",
    "\n",
    "            #Open data set and rename variable\n",
    "            data = xr.open_dataset(file_merge, use_cftime=True)\n",
    "\n",
    "            #Loop over time periods\n",
    "            for time_per in time_periods:\n",
    "\n",
    "                #Create slice for selecting data\n",
    "                time_sel = slice(str(time_per[0]), str(time_per[1]))\n",
    "\n",
    "                #Select time\n",
    "                data_sel = data.sel(time=time_sel)\n",
    "\n",
    "                #Check units of huss\n",
    "                check1 = data_sel[variab].isel(time=slice(0, 100)).mean()\n",
    "                check2 = data_sel[variab].isel(time=slice(-100, -1)).mean()\n",
    "                if (variab=='huss') and ((check1>0.01) or (check1<0.0001) or (check2>0.01) or (check2<0.0001)):\n",
    "                    sys.exit('Check units of ' + vars_out[variab])\n",
    "\n",
    "                #Select summer\n",
    "                sel_JJA  = (data_sel.time.dt.month>=6) & (data_sel.time.dt.month<=8)\n",
    "                data_JJA = data_sel.isel(time=sel_JJA)\n",
    "\n",
    "                #Calculate summer mean and yearly maximum\n",
    "                data_JJA_mean = data_JJA.mean('time')\n",
    "                data_Yearmax  = data_sel.resample(time='1Y').max()\n",
    "                data_Yearmax  = data_Yearmax.rename({variab: vars_out[variab]})\n",
    "\n",
    "                #Creat output directory\n",
    "                dir_JJA_out  =  dir_JJA + variab + '/'\n",
    "                dir_Ymax_out =  dir_Yearmax + vars_out[variab] + '/'\n",
    "                if not os.path.exists(dir_JJA_out):   os.mkdir(dir_JJA_out)\n",
    "                if not os.path.exists(dir_Ymax_out):  os.mkdir(dir_Ymax_out)      \n",
    "\n",
    "                #Create output file names\n",
    "                output_str = \"_\" + model + '_' + member + '_' + \"-\".join(scenarios) +  \"_\" + time_sel.start + \"-\" + time_sel.stop + \".nc\"\n",
    "                fname_JJA_mean = dir_JJA_out + variab + \"_JJA-mean\" + output_str\n",
    "                fname_Yearmax  = dir_Ymax_out + vars_out[variab] + \"_Yearmax\" + output_str\n",
    "\n",
    "                #Save in file\n",
    "                if os.path.exists(fname_JJA_mean): os.remove(fname_JJA_mean)\n",
    "                if os.path.exists(fname_Yearmax): os.remove(fname_Yearmax)\n",
    "                data_JJA_mean.to_netcdf(fname_JJA_mean)\n",
    "                data_Yearmax.to_netcdf(fname_Yearmax)\n",
    "\n",
    "            #Remove temporarily merged file\n",
    "            os.remove(file_merge)\n"
   ]
  },
  {
   "cell_type": "code",
   "execution_count": null,
   "metadata": {},
   "outputs": [],
   "source": []
  }
 ],
 "metadata": {
  "kernelspec": {
   "display_name": "Python 3 (ipykernel)",
   "language": "python",
   "name": "python3"
  },
  "language_info": {
   "codemirror_mode": {
    "name": "ipython",
    "version": 3
   },
   "file_extension": ".py",
   "mimetype": "text/x-python",
   "name": "python",
   "nbconvert_exporter": "python",
   "pygments_lexer": "ipython3",
   "version": "3.8.8"
  }
 },
 "nbformat": 4,
 "nbformat_minor": 2
}

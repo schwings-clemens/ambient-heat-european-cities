{
 "cells": [
  {
   "cell_type": "code",
   "execution_count": 1,
   "id": "tribal-butler",
   "metadata": {},
   "outputs": [],
   "source": [
    "import os\n",
    "import sys\n",
    "import time as t_util\n",
    "import numpy as np\n",
    "import pandas as pd\n",
    "import yaml\n",
    "import cftime\n",
    "import xarray as xr\n"
   ]
  },
  {
   "cell_type": "code",
   "execution_count": 2,
   "id": "mathematical-barrier",
   "metadata": {},
   "outputs": [],
   "source": [
    "#Read main paths\n",
    "with open('../path_main.txt', 'r') as file:   path_main = file.read()\n",
    "with open('../path_CMIP6.txt', 'r') as file:  path_cmip6 = file.read()\n",
    "    \n",
    "dir_CMIP6   = path_cmip6 \n",
    "dir_scripts = f'{path_main}Scripts/'\n",
    "dir_names   = f'{path_main}Scripts/Model_lists/'\n",
    "dir_Yearmax = f'{path_main}Data/CMIP6/Yearmax/'\n",
    "if not os.path.exists(dir_Yearmax):  os.mkdir(dir_Yearmax)\n"
   ]
  },
  {
   "cell_type": "markdown",
   "id": "corporate-spirituality",
   "metadata": {},
   "source": [
    "## Prepare variables and parameters"
   ]
  },
  {
   "cell_type": "code",
   "execution_count": 8,
   "id": "comparative-secondary",
   "metadata": {},
   "outputs": [],
   "source": [
    "#Define models and SSPs which should be used\n",
    "all_models = dict()\n",
    "all_models['ssp585'] = []\n",
    "with open(dir_names + 'Models_CMIP6_SSP585.txt', 'r') as filehandle:\n",
    "    for line in filehandle:\n",
    "        all_models['ssp585'].append(line[:-1])\n",
    "\n",
    "#Define time periods\n",
    "time_periods = [[1981, 2010], [2070, 2099]]\n",
    "\n",
    "scenarios = ['historical', 'ssp585']\n",
    "\n",
    "variables = ['tasmax', 'tasmin']\n",
    "vars_out = dict()\n",
    "vars_out['tasmax'] = 'TXx'\n",
    "vars_out['tasmin'] = 'TNx'\n"
   ]
  },
  {
   "cell_type": "markdown",
   "id": "confidential-background",
   "metadata": {},
   "source": [
    "## Calculation"
   ]
  },
  {
   "cell_type": "code",
   "execution_count": 9,
   "id": "hybrid-reporter",
   "metadata": {
    "scrolled": true
   },
   "outputs": [
    {
     "name": "stdout",
     "output_type": "stream",
     "text": [
      "KACE-1-0-G: tasmin, "
     ]
    }
   ],
   "source": [
    "#Loop over models\n",
    "for model in all_models['ssp585']:\n",
    "\n",
    "    print(model, end=': ')\n",
    "    \n",
    "    #Select ensemble member\n",
    "    if model in ['CNRM-CM6-1', 'CNRM-ESM2-1', 'CNRM-CM6-1-HR', 'UKESM1-0-LL', 'MIROC-ES2L']:\n",
    "        member = \"r1i1p1f2\"\n",
    "    elif model in ['HadGEM3-GC31-LL', 'HadGEM3-GC31-MM']:\n",
    "        member = \"r1i1p1f3\"\n",
    "    else:\n",
    "        member = \"r1i1p1f1\"            \n",
    "\n",
    "    #Loop over variables\n",
    "    for variab in variables:\n",
    "\n",
    "        print(variab, end=', ')\n",
    "        \n",
    "        #Creat output directory\n",
    "        dir_Ymax_out = dir_Yearmax + vars_out[variab] + '/'\n",
    "        if not os.path.exists(dir_Ymax_out):  os.mkdir(dir_Ymax_out)          \n",
    "        \n",
    "        #Get file names\n",
    "        fnames_merge = []\n",
    "        for scen in scenarios:\n",
    "        \n",
    "            dir_data = dir_CMIP6 + scen + '/' + variab + '/'\n",
    "            fnames = [dir_data + file for file in os.listdir(dir_data) if model + '_' in file and member in file and variab in file and scen in file and '_day_' in file]\n",
    "            if len(fnames)!=1: sys.exit('Filename not uniquely defined')\n",
    "\n",
    "            #Add to list for all files for merging\n",
    "            fnames_merge = fnames_merge + fnames\n",
    "\n",
    "        #Read and merge data\n",
    "        data = xr.concat((xr.open_dataset(fname) for fname in fnames_merge), dim='time')\n",
    "        data = data.rename({variab: vars_out[variab]})\n",
    "        \n",
    "        #Loop over time periods\n",
    "        for time_per in time_periods:\n",
    "\n",
    "            #Select time\n",
    "            time_sel = slice(str(time_per[0]), str(time_per[1]))\n",
    "            data_sel = data.sel(time=time_sel)\n",
    "\n",
    "            #Calculate yearly maximum\n",
    "            data_Yearmax  = data_sel.resample(time='1Y').max()\n",
    "\n",
    "            #Create output file names\n",
    "            output_str = \"_\" + model + '_' + \"-\".join(scenarios) +  \"_\" + time_sel.start + \"-\" + time_sel.stop + \".nc\"\n",
    "            fname_Yearmax = dir_Ymax_out + vars_out[variab] + \"_Yearmax\" + output_str\n",
    "\n",
    "            #Save in file\n",
    "            if os.path.exists(fname_Yearmax): os.remove(fname_Yearmax)\n",
    "            data_Yearmax.to_netcdf(fname_Yearmax)\n"
   ]
  },
  {
   "cell_type": "code",
   "execution_count": null,
   "id": "atmospheric-setting",
   "metadata": {},
   "outputs": [],
   "source": []
  }
 ],
 "metadata": {
  "kernelspec": {
   "display_name": "Python 3 (ipykernel)",
   "language": "python",
   "name": "python3"
  },
  "language_info": {
   "codemirror_mode": {
    "name": "ipython",
    "version": 3
   },
   "file_extension": ".py",
   "mimetype": "text/x-python",
   "name": "python",
   "nbconvert_exporter": "python",
   "pygments_lexer": "ipython3",
   "version": "3.8.8"
  }
 },
 "nbformat": 4,
 "nbformat_minor": 5
}

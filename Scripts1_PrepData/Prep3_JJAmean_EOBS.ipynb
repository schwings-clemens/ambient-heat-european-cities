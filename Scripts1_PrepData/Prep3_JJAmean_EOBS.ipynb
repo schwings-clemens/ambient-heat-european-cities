{
 "cells": [
  {
   "cell_type": "code",
   "execution_count": null,
   "metadata": {},
   "outputs": [],
   "source": [
    "import os\n",
    "import sys\n",
    "import time as t_util\n",
    "import numpy as np\n",
    "import cftime\n",
    "import yaml\n",
    "import xarray as xr\n",
    "\n",
    "#My functions\n",
    "sys.path.insert(0,'../functions/')\n",
    "import functions_HeatWavesCities as fun_HWC\n"
   ]
  },
  {
   "cell_type": "code",
   "execution_count": null,
   "metadata": {},
   "outputs": [],
   "source": [
    "#Read main paths\n",
    "with open('../path_main.txt', 'r') as file:   path_main = file.read()\n",
    "with open('../path_EOBS.txt', 'r') as file:   path_eobs = file.read()\n",
    "    \n",
    "dir_EOBS    = dir_EOBS\n",
    "dir_JJA     = f'{path_main}Data/EOBS/JJA/'\n",
    "dir_Yearmax = f'{path_main}Data/EOBS/Yearmax/'\n",
    "if not os.path.exists(dir_JJA):      os.mkdir(dir_JJA)\n",
    "if not os.path.exists(dir_Yearmax):  os.mkdir(dir_Yearmax)\n",
    "    "
   ]
  },
  {
   "cell_type": "markdown",
   "metadata": {},
   "source": [
    "## Calculation"
   ]
  },
  {
   "cell_type": "code",
   "execution_count": null,
   "metadata": {
    "scrolled": true
   },
   "outputs": [],
   "source": [
    "#Define scenarios and variables\n",
    "variables = ['tx', 'tn']\n",
    "\n",
    "time_sel = slice('1981', '2010')\n",
    "\n",
    "#Loop over variables\n",
    "for variab in variables:\n",
    "\n",
    "    print(\" -\" + variab, end='')\n",
    "\n",
    "    #Get file names\n",
    "    fname = dir_EOBS + variab + '_ens_mean_0.1deg_reg_v22.0e.nc'\n",
    "    data = xr.open_dataset(fname)\n",
    "\n",
    "    #Select time\n",
    "    data = data.sel(time=time_sel)\n",
    "    \n",
    "    #Read calendar\n",
    "    with xr.open_dataset(fname, decode_times=False) as ds:\n",
    "        calendar = ds.time.attrs['calendar']\n",
    "        ds.close()            \n",
    "\n",
    "    #Drop unnecessary variables\n",
    "    vars_drop = set(data.data_vars).difference([variab])\n",
    "    for var in vars_drop:  data = data.drop(var) \n",
    "\n",
    "    #Select summer\n",
    "    sel_JJA  = (data.time.dt.month>=6) & (data.time.dt.month<=8)\n",
    "    data_JJA = data.isel(time=sel_JJA)\n",
    "\n",
    "    #Get climatology for summer months\n",
    "    month_sta = 6\n",
    "    month_end = 8\n",
    "    win_half  = 15\n",
    "    climatology = fun_HWC.get_clim_or_quant('climatology', data, calendar, [variab], month_sta, month_end, win_half)\n",
    "\n",
    "    #Select original data in JJA and adjust time (for matching DOY)\n",
    "    data_JJA = fun_HWC.replace_time(data_JJA, calendar, month_sta, month_end)\n",
    "    \n",
    "    #Calculate JJA anomalies\n",
    "    JJA_anom = data_JJA.groupby(\"time.dayofyear\") - climatology.groupby(\"time.dayofyear\").mean()\n",
    "\n",
    "    #Calculate summer mean, median, Q90, Q99\n",
    "    data_JJA_mean = data_JJA.mean('time')\n",
    "    data_JJA_Q50  = data_JJA.quantile(0.50, 'time')\n",
    "    data_JJA_Q90  = data_JJA.quantile(0.90, 'time')\n",
    "    data_JJA_Q99  = data_JJA.quantile(0.99, 'time')\n",
    "\n",
    "    #Calculate summer variability\n",
    "    JJA_anom_Q25 = JJA_anom.quantile(0.25, 'time')\n",
    "    JJA_anom_Q75 = JJA_anom.quantile(0.75, 'time')\n",
    "    JJA_anom_IQR = JJA_anom_Q75 - JJA_anom_Q25\n",
    "\n",
    "    #Calculate summer average, yearly maximum, and summer variability\n",
    "    data_Yearmax = data.resample(time='1Y').max()            \n",
    "\n",
    "    #Creat output directory\n",
    "    dir_JJA_out  =  dir_JJA + variab + '/'\n",
    "    dir_Ymax_out =  dir_Yearmax + variab + '/'\n",
    "    if not os.path.exists(dir_JJA_out):   os.mkdir(dir_JJA_out)\n",
    "    if not os.path.exists(dir_Ymax_out):  os.mkdir(dir_Ymax_out)\n",
    "\n",
    "    #Create output file names\n",
    "    output_str =  \"_EOBS_day_\" + time_sel.start + \"-\" + time_sel.stop + \".nc\"\n",
    "    fname_JJA_mean = dir_JJA_out + variab + \"_JJA-mean\" + output_str\n",
    "    fname_JJA_Q50  = dir_JJA_out + variab + \"_JJA-Q50\" + output_str\n",
    "    fname_JJA_Q90  = dir_JJA_out + variab + \"_JJA-Q90\" + output_str\n",
    "    fname_JJA_Q99  = dir_JJA_out + variab + \"_JJA-Q99\" + output_str\n",
    "    fname_JJQ_IQR  = dir_JJA_out + variab + \"-anom_JJA-IQR\" + output_str\n",
    "    fname_Yearmax  = dir_Ymax_out + variab + \"_Yearmax\" +  output_str\n",
    "\n",
    "    #Save in file\n",
    "    data_JJA_mean.to_netcdf(fname_JJA_mean)\n",
    "    data_JJA_Q50.to_netcdf(fname_JJA_Q50)\n",
    "    data_JJA_Q90.to_netcdf(fname_JJA_Q90)\n",
    "    data_JJA_Q99.to_netcdf(fname_JJA_Q99)\n",
    "    JJA_anom_IQR.to_netcdf(fname_JJQ_IQR)\n",
    "    data_Yearmax.to_netcdf(fname_Yearmax)\n"
   ]
  },
  {
   "cell_type": "code",
   "execution_count": null,
   "metadata": {},
   "outputs": [],
   "source": []
  }
 ],
 "metadata": {
  "kernelspec": {
   "display_name": "Python 3 (ipykernel)",
   "language": "python",
   "name": "python3"
  },
  "language_info": {
   "codemirror_mode": {
    "name": "ipython",
    "version": 3
   },
   "file_extension": ".py",
   "mimetype": "text/x-python",
   "name": "python",
   "nbconvert_exporter": "python",
   "pygments_lexer": "ipython3",
   "version": "3.8.8"
  }
 },
 "nbformat": 4,
 "nbformat_minor": 2
}

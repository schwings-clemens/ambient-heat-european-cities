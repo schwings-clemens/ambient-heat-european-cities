{
 "cells": [
  {
   "cell_type": "code",
   "execution_count": null,
   "metadata": {},
   "outputs": [],
   "source": [
    "import os\n",
    "import sys\n",
    "import time as t_util\n",
    "import numpy as np\n",
    "import pandas as pd\n",
    "import yaml\n",
    "import cftime\n",
    "import xarray as xr\n"
   ]
  },
  {
   "cell_type": "code",
   "execution_count": null,
   "metadata": {},
   "outputs": [],
   "source": [
    "#Read main path\n",
    "with open('../path_main.txt', 'r') as file:   path_main = file.read()\n",
    "    \n",
    "dir_scripts   = f'{path_main}Scripts/'\n",
    "dir_variables = f'{path_main}Data/Stations/'\n",
    "dir_JJA       = f'{path_main}Data/Stations/JJA/'\n",
    "if not os.path.exists(dir_JJA):      os.mkdir(dir_JJA)\n",
    "    "
   ]
  },
  {
   "cell_type": "markdown",
   "metadata": {},
   "source": [
    "## Prepare variables and parameters"
   ]
  },
  {
   "cell_type": "code",
   "execution_count": null,
   "metadata": {},
   "outputs": [],
   "source": [
    "#Define cities\n",
    "cities = ['Istanbul', 'Moscow', 'London', 'SaintPetersburg', 'Berlin', 'Madrid', 'Kyiv', 'Rome', 'Paris',\n",
    "          'Bucharest', 'Minsk', 'Vienna', 'Hamburg', 'Warsaw', 'Budapest', 'Barcelona', 'Munich', 'Kharkiv',\n",
    "          'Milan', 'Belgrade', 'Prague', 'NizhnyNovgorod', 'Kazan', 'Sofia', 'Brussels', 'Stockholm', 'Oslo',\n",
    "          'Dublin', 'Lisbon', 'Vilnius', 'Copenhagen', 'Helsinki', 'Athens', 'Amsterdam', 'Riga', 'Zagreb']\n",
    "\n",
    "#Define variables\n",
    "variables = ['TN', 'TX']\n",
    "\n",
    "#Load city coordinates\n",
    "fname_coords = dir_scripts + 'City_coordinates.yml'\n",
    "with open(fname_coords, 'r') as file:\n",
    "    city_coords = yaml.safe_load(file)\n",
    "\n",
    "N_all = dict()\n"
   ]
  },
  {
   "cell_type": "markdown",
   "metadata": {},
   "source": [
    "## Calculate JJA average"
   ]
  },
  {
   "cell_type": "code",
   "execution_count": null,
   "metadata": {
    "scrolled": true
   },
   "outputs": [],
   "source": [
    "time_sel = slice('1981', '2010')\n",
    "\n",
    "#Initialize array for counting NaNs\n",
    "check_NaN = dict()\n",
    "\n",
    "#Loop over variables\n",
    "for variab in variables:\n",
    "\n",
    "    print(\" -\" + variab, end=': ')\n",
    "\n",
    "    #Initialize array for counting NaNs\n",
    "    check_NaN[variab] = []\n",
    "    \n",
    "   \n",
    "    for city in cities:\n",
    "\n",
    "        print(city, end=', ')\n",
    "        \n",
    "        #Get file names\n",
    "        dir_files = dir_variables + variab + '/' + city + '/'\n",
    "        fnames = [dir_files + file for file in os.listdir(dir_files) if variab in file]\n",
    "        fnames = sorted(fnames)    \n",
    "\n",
    "        create = 1\n",
    "        n = 0\n",
    "        for fname in fnames:\n",
    "\n",
    "            #Open data set \n",
    "            data = xr.open_dataset(fname)#, use_cftime=True)\n",
    "\n",
    "            #Select data in reference period\n",
    "            data = data.sel(time=time_sel)\n",
    "  \n",
    "            #Select summer\n",
    "            sel_JJA  = (data.time.dt.month>=6) & (data.time.dt.month<=8)\n",
    "            data_JJA = data.isel(time=sel_JJA)\n",
    "\n",
    "            #Calculate sum of NaNs\n",
    "            NaN_sum = np.sum(np.isnan(data_JJA[variab])).values\n",
    "            check_NaN[variab].append(NaN_sum)\n",
    "            \n",
    "            #Skip station if too many NaNs or no data in time period\n",
    "            if (NaN_sum<10*92) or ((len(data_JJA.time)/92>=20) & (len(data_JJA.time)/92<25)):\n",
    "                flag = 2\n",
    "                n = n + 1     \n",
    "            if NaN_sum<5*92:\n",
    "                flag = 1\n",
    "                n = n + 1\n",
    "            if (NaN_sum>=10*92) or (len(data_JJA.time)/92<20):\n",
    "                continue        \n",
    "            \n",
    "            #Calculate summer mean, median, Q90, Q99\n",
    "            data_JJA_mean = data_JJA.mean('time')\n",
    "\n",
    "            #Calculate average and convert to data frame\n",
    "            data_pd = data_JJA_mean.to_dataframe()\n",
    "            data_pd['flag'] = flag\n",
    "            \n",
    "            #Save in one big array\n",
    "            if create==1:\n",
    "                data_all = data_pd.copy(deep=True)\n",
    "                create = 0\n",
    "            else:\n",
    "                data_all = pd.concat((data_all, data_pd), axis=0)\n",
    "                \n",
    "        #Save to file\n",
    "        if n>0:\n",
    "            fname_out = dir_JJA + variab + '_Stations_' + city + \".csv\"\n",
    "            data_all.to_csv(fname_out)\n",
    "        else:\n",
    "            print(' NO DATA!!!')\n",
    "        \n",
    "        \n",
    "        N_all[time_sel.start + '-' + time_sel.stop + '_' + city + '_' + variab] = n\n",
    "\n",
    "        \n",
    "    print('')\n",
    "    "
   ]
  },
  {
   "cell_type": "code",
   "execution_count": null,
   "metadata": {},
   "outputs": [],
   "source": [
    "len(data_JJA.time)/92<25"
   ]
  },
  {
   "cell_type": "code",
   "execution_count": null,
   "metadata": {
    "scrolled": true
   },
   "outputs": [],
   "source": [
    "#Loop over variables\n",
    "for variab in variables:\n",
    "\n",
    "    for city in cities:\n",
    "        \n",
    "        print(city, end=', ')\n",
    "        \n",
    "        N1 = N_all['1981-2010' + '_' + city + '_' + variab]\n",
    "        N2 = N_all['1981-2005' + '_' + city + '_' + variab]\n",
    "        \n",
    "        print(N2, end=', ')\n",
    "        print(N1, end=',                         ')\n",
    "        print(N2 - N1, end=',                      ')\n",
    "        if N2!=0:\n",
    "            print(N1/N2, end=', ')\n",
    "        \n",
    "        print('')\n",
    "        "
   ]
  },
  {
   "cell_type": "code",
   "execution_count": null,
   "metadata": {},
   "outputs": [],
   "source": []
  }
 ],
 "metadata": {
  "kernelspec": {
   "display_name": "Python 3 (ipykernel)",
   "language": "python",
   "name": "python3"
  },
  "language_info": {
   "codemirror_mode": {
    "name": "ipython",
    "version": 3
   },
   "file_extension": ".py",
   "mimetype": "text/x-python",
   "name": "python",
   "nbconvert_exporter": "python",
   "pygments_lexer": "ipython3",
   "version": "3.8.8"
  }
 },
 "nbformat": 4,
 "nbformat_minor": 2
}

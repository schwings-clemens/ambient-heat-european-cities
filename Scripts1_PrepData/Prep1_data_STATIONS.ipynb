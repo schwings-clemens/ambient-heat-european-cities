{
 "cells": [
  {
   "cell_type": "code",
   "execution_count": 1,
   "metadata": {},
   "outputs": [],
   "source": [
    "import os\n",
    "import sys\n",
    "import time as t_util\n",
    "import numpy as np\n",
    "import pandas as pd\n",
    "import yaml\n",
    "import xarray as xr\n"
   ]
  },
  {
   "cell_type": "markdown",
   "metadata": {},
   "source": [
    "## Define folders"
   ]
  },
  {
   "cell_type": "code",
   "execution_count": 2,
   "metadata": {},
   "outputs": [],
   "source": [
    "#Read main paths\n",
    "with open('../path_main.txt', 'r') as file:   path_main  = file.read()\n",
    "\n",
    "dir_stations = f'{path_main}Data/Europe_station_data/'\n",
    "dir_scripts  = f'{path_main}Scripts/PROJECT_HeatWavesCities/'\n",
    "dir_STA_out  = f'{path_main}Data/Stations/'\n",
    "if not os.path.exists(dir_STA_out): os.mkdir(dir_STA_out)\n"
   ]
  },
  {
   "cell_type": "markdown",
   "metadata": {},
   "source": [
    "## Select cities"
   ]
  },
  {
   "cell_type": "code",
   "execution_count": 3,
   "metadata": {},
   "outputs": [],
   "source": [
    "#Define cities\n",
    "cities = ['Istanbul', 'Moscow', 'London', 'SaintPetersburg', 'Berlin', 'Madrid', 'Kyiv', 'Rome', 'Paris',\n",
    "          'Bucharest', 'Minsk', 'Vienna', 'Hamburg', 'Warsaw', 'Budapest', 'Barcelona', 'Munich', 'Kharkiv',\n",
    "          'Milan', 'Belgrade', 'Prague', 'NizhnyNovgorod', 'Kazan', 'Sofia', 'Brussels', 'Stockholm', 'Oslo',\n",
    "          'Dublin', 'Lisbon', 'Vilnius', 'Copenhagen', 'Helsinki', 'Athens', 'Amsterdam', 'Riga', 'Zagreb']\n",
    "\n",
    "# Load city coordinates\n",
    "fname_coords = dir_scripts + 'City_coordinates.yml'\n",
    "with open(fname_coords, 'r') as file:\n",
    "    city_coords = yaml.safe_load(file)\n"
   ]
  },
  {
   "cell_type": "markdown",
   "metadata": {},
   "source": [
    "## Get station information"
   ]
  },
  {
   "cell_type": "code",
   "execution_count": 4,
   "metadata": {},
   "outputs": [],
   "source": [
    "#Define variables\n",
    "variables = ['TN']#'TG', 'TX', 'HU', 'PP']\n",
    "\n",
    "#Initialize dictionaries\n",
    "all_stations  = dict()\n",
    "\n",
    "#Loop over variables\n",
    "for variab in variables:\n",
    "\n",
    "    #Read file with information about all weather stations\n",
    "    fname = dir_stations + 'stations_' + variab + '.txt'\n",
    "    f = open(fname, 'r')\n",
    "    lines = f.readlines()[21:]\n",
    "    f.close()\n",
    "\n",
    "    #Split station information\n",
    "    stations = [line.split(',') for line in lines]\n",
    "\n",
    "    #Loop over all stations\n",
    "    stations_new = []\n",
    "    for station in stations:\n",
    "\n",
    "        #Get ID, name, lat, lon, and height of station\n",
    "        staID     = int(station[0])\n",
    "        staNAME   = station[1].replace(\" \", \"\")\n",
    "        staLAT    = station[3]\n",
    "        staLON    = station[4]\n",
    "        staHEIGHT = int(station[5])\n",
    "\n",
    "        #Convert lat and lon from DMS to decimal degrees\n",
    "        lat_deg = float(staLAT.split(':')[0])\n",
    "        lon_deg = float(staLON.split(':')[0])\n",
    "        lat_min = float(staLAT.split(':')[1])\n",
    "        lon_min = float(staLON.split(':')[1])\n",
    "        lat_sec = float(staLAT.split(':')[2])    \n",
    "        lon_sec = float(staLON.split(':')[2])\n",
    "        sig_lon = float(staLON[0] + '1')\n",
    "        sig_lat = float(staLAT[0] + '1') \n",
    "        lat = sig_lat * (np.abs(lat_deg) + lat_min / 60 + lat_sec / 3600)\n",
    "        lon = sig_lon * (np.abs(lon_deg) + lon_min / 60 + lon_sec / 3600)\n",
    "\n",
    "        #Save selected information in new station list\n",
    "        stations_new.append([staID, staNAME, lat, lon, staHEIGHT])\n",
    "        \n",
    "    #Save in dict\n",
    "    all_stations[variab] = stations_new\n",
    "    "
   ]
  },
  {
   "cell_type": "markdown",
   "metadata": {},
   "source": [
    "## Convert to pandas"
   ]
  },
  {
   "cell_type": "code",
   "execution_count": 6,
   "metadata": {
    "scrolled": true
   },
   "outputs": [
    {
     "name": "stdout",
     "output_type": "stream",
     "text": [
      " - Istanbul: ISTANBUL, SCUTARI, \n",
      " - Moscow: MOSKVAVDNX, MOSCOWAGROACAD., \n",
      " - London: GOUDHURST, CAMBRIDGE(B.GDNS), ROTHAMSTED, WRITTLE, HAMPSTEAD, HEATHROW, BOGNORREGIS, EASTBOURNE, HASTINGS, WALLINGFORD, ALICEHOLTLODGE, HUNTINGTON, WETHERSFIELD, MONKSWOOD, WISLEY, WOBURN, \n",
      " - SaintPetersburg: SANKT-PETERBURG, BELOGORKA, \n",
      " - Berlin: BERLIN-DAHLEM, POTSDAM, LINDENBERG, NEURUPPIN, BERLIN-TEMPELHOF, ANGERMUNDE, BERLIN-TEGEL, DOBERLUG-KIRCHHAIN, EBERSWALDE, FELDBERG, GRUNOW, JESSEN/ELSTER, JUTERBOG, KLEINMACHNOW, LANGENLIPSDORF, BARUTH, LUBBEN-BLUMENFELDE, MUNCHEBERG, MENZ, NEUSTRELITZ, PETKUS, BERLIN-BUCH, BERLIN-DAHLEM(LFAG), BERLIN-KANISWALL, BERLIN-LICHTENRADE, BERLIN-LICHTERFELDE(SUD), BERLIN-MARZAHN, BERLIN-MITTE, BERLIN-RUDOW, BERLIN-SCHONEFELD, BERLIN-SPANDAU, BERLIN-TEGELERFLIESSTAL, BERLIN-TREPTOW, BERLIN-ZEHLENDORF, WITTENBERG, WOLDEGK, WUSTRAU-ZIETHENHORST, ZEHDENICK, BERGE, MELCHOW-SCHONHOLZ, BRANDENBURG-GORDEN, FELDBERG/MECKLENBURG, HECKELBERG, BERLIN-ADLERSHOF, BERLIN-FRIEDRICHSHAGEN, BERLIN-FROHNAU, BERLIN-INVALIDENSTRASSE, BERLIN-OSTKREUZ, LUEBBEN, NEUGLOBSOW(HM), \n",
      " - Madrid: MADRID-RETIRO, NAVACERRADA, MADRID/TORREJON, GUADALAJARA, GUADALAJARA(INSTITUTO), COLMENARVIEJO/FAMET, MADRID/BARAJAS, MADRID/CUATROVIENTOS, MADRID/GETAFE, SEGOVIA, SEGOVIA(MARIANOQUINTANILLA), TOLEDO, TOLEDOLORENZANA, \n",
      " - Kyiv: KIEV, TETEREV, CERNOBYL, FASTOV, BORISPOL, BELAYA_CERKOV, IMENI_STARCENKO, \n",
      " - Rome: ROMACIAMPINO, VIGNADIVALLE, \n",
      " - Paris: ORLY, \n",
      " - Bucharest: BUCURESTI-BANEASA, \n",
      " - Minsk: MINSK, \n",
      " - Vienna: WIEN, \n",
      " - Hamburg: HAMBURGBERGEDORF, HAMBURGFUHLSBUETTEL, KIEL-HOLTENAU, LEUCHTTURMKIEL, EUTIN, FREIBURG/ELBE, GLUCKSTADT, GRAMBEK, HAMBURG-BOTANISCHERGARTEN, HAMBURG-KIRCHWERDER, HAMBURG-NEUWIEDENTHAL, HAMBURG-REITBROOK, HAMBURG-SANKTPAULI, HAMBURG-WANDSBEK, HASELDORF, HOHN, ITZEHOE, JORK, KIEL-KRONSHAGEN, KLEINRONNAU, KONIGSMOOR, KUKELS, LUBECK, LUBECK-BLANKENSEE, LUBECK-WERFT, LUNEBURG, MOLLN, BEHRENSDORF, NEULAND, NEUMUNSTER, PLON(SEE), QUICKBORN(KURZERKAMP), QUICKBORN, RENDSBURG, ROTENBURG(WUMME), RUHWINKEL, SCHMALENBECK, BADSEGEBERG, SOLTAU, MITTELNKIRCHEN-HOHENFELDE, TRAVEMUNDE, UELZEN, UNTERLUSS, WITTENBORN, AHRENSBURG-WULFSDORF, BOIZENBURG, BOKEL, WENDISCHEVERN, OSTENFELD(RENDSBURG), DORNICK, BRANDE-HORNERKIRCHEN, BREMERVORDE(A), BREMERVORDE, BREMERVORDE-NIEDEROCHTENHAUSEN, PADENSTEDT(PONY-PARK), BUCHHOLZINDERNORDHEIDE, CELLE(STADT), CELLE, SANKTMICHAELISDONN, HAMBURG(DEUTSCHESEEWARTE), \n",
      " - Warsaw: WARSZAWA-OKECIE, \n",
      " - Budapest: BUDAPEST, HURBANOVO, \n",
      " - Barcelona: BARCELONA-FABRAOBSERVATORY, BARCELONA/AEROPUERTO, GIRONA-NOUINSTITUT, GIRONA(ANTICINSTITUT), GIRONA/COSTABRAVA, ANGLES, BANYOLES, BARCELONA-ELRAVAL, BARCELONA-ZONAUNIVERSITARIA, CABRILS, CALDESDEMONTBUI, CASTELLBISBAL, CASTELLDARO, CASTELLNOUDEBAGES, CERVERA, CUNIT, ELPRATDELLOBREGAT, ELSHOSTALETSDEPIEROLA, ELVENDRELL, FONT-RUBI, GIRONA, GUARDIOLADEBERGUEDA, LAPANADELLA, LAQUAR, MALGRATDEMAR, MONTSERRAT-SANTDIMES, MUNTANYOLA, NURIA, ODENA, OLOT-PLADEBAIX, ORIS, PARETSDELVALLES, PUIGSESOLLES, SABADELL-PARCAGRARI, SANTCUGATDELVALLES-CAR, SANTPAUDESEGURIES, SANTSALVADORDEGUARDIOLA, SANTUARIDEQUERALT, SOLSONA, TORREDEMBARRA, VALLIRANA, VILADRAU, VILA-RODONA, OLOT, MASSOTERES, PUJALT, \n",
      " - Munich: INNSBRUCK, HOHENPEISSENBERG, MUENCHEN, ZUGSPITZE, AUGSBURG, MUENCHEN-FLUGHAFEN, WENDELSTEIN, EBERSBERG-HALBING, EICHSTATT-LANDERSHOFEN, LANDSHUT-REITHOF, ALTOMUNSTER-MAISBRUNN, AMERANG-PFAFFING, GARMISCH-PARTENKIRCHEN, GELBELSEE, FELDKIRCHEN-WESTERHAM-LENZMUHLE, ATTENKAM, AUI.D.HALLERTAU-GUNZENHAUSEN, HOLZKIRCHEN, AUGSBURG(SANKTSTEPHAN), HUELL, MITTBACH, KARLSHULD, KAUFERING, KONIGSMOOS-UNTERMAXFELD, KOSCHING, BADKOHLGRUB(ROSSHOF), KUMHAUSEN, LANDSBERG/LECH, LANDSHUT, LEINAU, MAISACH-GERNLINDEN, MALLERSDORF/NIEDERBAYERN, MITTENWALD-BUCKELWIESEN, MUHLDORF, MUNCHEN-BOGENHAUSEN, MUNCHEN-BOTANISCHERGARTEN, MUNCHEN-NYMPHENBURG, MUNCHEN-PERLACH, MUNCHEN-RIEM, KIEFERSFELDEN-GACH, OBERSCHLEISSHEIM, OBERTAUFKIRCHEN, PRIEN-STOCK, PUCH, RAISTING, ROSENHEIM, SCHWAIGERMOOS, TROSTBERG, WASSERBURG, WEIHENSTEPHAN-DURNAST, WIELENBACH(DEMOLLSTR.), BOHMING, BADKOHLGRUB(A), MAINBURG, MALLERSDORF-PFAFFENBERG, DOLLNSTEIN-BREITENFURT, MAISACH-GALGEN, ELSENDORF-HORNECK, OBERHACHING-LAUFZORN, GROSSMEHRING-THEISSING, \n",
      " - Kharkiv: GOTNYA, HAR-KOV, KHARKIV, BOGODUHOV, KRASNOGRAD, \n",
      " - Milan: MILAN, LUGANO, BOBBIO, SANLAZZAROALBERONI, CABANNE, DIGADELBRUGNETO, FIORENZUOLAD'ARDA, MIGNANODIGA, MOLATODIGA, SARMATO, ROVEGNO, ALPE_DI_GORRETO, ARCELLO, BARBAGELATA, BARDI, BETTOLA, BORGONOVO_VAL_TIDONE, BOSCHI_DAVETO_DIGA, CAMPELLI_DI_VIGOLO, CASSIMORENO, CASTELLAZZO_VILLANOVA_DARDA, FRASSINETO, GARIGA, GROPPARELLO, MONTICELLI_ARPA, PASSO_PENICE, PIACENZA_S._DAMIANO, PIACENZA_URBANA, PIANELLO_VAL_TIDONE, RUSTEGHINI, SALSOMINORE, SAN_MICHELE, SAN_NICOLO, SANTO_STEFANO_DAVETO, SELVA_FERRIERE, TERUZZI, TORRIGLIA, TREBBIA_VALSIGIARA, VALSIGIARA, VICOBARONE, VILLANOVA_SULLARDA, \n",
      " - Belgrade: BELGRADE(OBSERVATORY), NOVISAD, \n",
      " - Prague: PRAHA-KLEMENTINUM, MILESOVKA, HERRNHUT, BERTSDORF-HORNITZ, LICHTENHAIN-MITTELNDORF, ZINNWALD-GEORGENFELD, SOHLAND/SPREE, GEISINGBERG, BADGOTTLEUBA, HINTERHERMSDORF, OLBERSDORF, \n",
      " - NizhnyNovgorod: GORKIJ, NIZHNIJNOVGOROD, \n",
      " - Kazan: KAZAN', \n",
      " - Sofia: \n",
      " - Brussels: UCCLE, WESTSOUBURG, VLISSINGEN, WILHELMINADORP, GILZE-RIJEN, WOENSDRECHT, WESTDORPE, \n",
      " - Stockholm: STOCKHOLM, UPPSALA, HARSFJARDEN, LANDSORT, TULLINGEA, STOCKHOLM-BROMMA, FILMSKYRKBYA, GUSTAF_DALEN_A, LANDSORT_A, TROSA, UTO, STABBO, RIKSTEN, SODERTALJE, STORMYRA, AKERS_STYCKEBRUK, MARIEFRED, SANDHAMN, STAVSNAS_A, NYCKLEBY, GUSTAVSBERG, STOCKHOLM_A, VARTAN, ADELSO_A, BECKOMBERGA, LYCKAS, BARKARBY, ROSKAR, HUSARO, ASKE, STOCKHOLM-ARLANDA, ARLANDA, KARSTA, NORRTALJE, ULTUNA, SVANBERGA_A, NORRTALJE-VASBY, UPPSALA_AUT, UPPSALA_FLYGPLATS, RISINGE, DANNEMORA, FILMS_KYRKBY, NYNASHAMN, WIAD, BERGA, FARSTA, SVARTSJO, VADDO, VANGSO, \n",
      " - Oslo: NORDODAL, FAERDERFYR, OSLOBLINDERN, GARDERMOEN, RADE-TOMB, SARPSBORG, ASKER, BJORNHOLT, TRYVASSHOGDA, KISEPAHEDMARK, OSTRETOTEN-APELSVOLL, SOKNAII, AS-RUSTADSKOGEN, HAMARII, HAMAR-STAVSBERG, OSLO-BLINDERNPLU, ASKIMII, MELSOM, TORP, SKEDSMO-HELLERUD, ILSENG, SANDE-GALLEBERG, OSAKER, AS, LIER, RAMNES-KILEVESTRE, RYGGE-HUGGENES, HONEFOSS-HVERVEN, GRAN, ARNES, RAKKESTAD, HOKKSUND, OSLO-HAUGENSTUA, HVALER-BREKKE, DRAMMEN-BERSKOG, HORTENII, DRAMMEN-BANGELOEKKA, NOETTEROEY-VESTSKOGEN, MINNESUNDJERNBANESTASJON, TOENSBERG-TARANROED, TJOEME, KONNERUD, OSLO-LAMBERTSETER, TOENSBERG-KILEN, SVELVIK-KNEM, OSLO-BESSERUD, STROEMTANGENFYR, VESTFOSSEN, KJELLER, ASGARDSTRAND, HORTEN-NYKIRKE, HAKADALJERNBANESTASJON, OSLO-DISEN, OSLO-BYGDOEY, OSLO-SOFIENBERG, HOENEFOSS-HOEYBY, TOFTE-RULLETO, NOETTEROEY-BORGHEIM, NOETTEROEY-FOEYNLAND, GULLHOLMEN, OSLO-LJABRUVEIEN, NOETTEROEY-KNARRBERG, HORTEN-SKOPPUM, AURSKOGII, ASKIM-KYKKELSRUD, OSLO-HOVIN, NOETTEROEY-TENVIK, NOETTEROEY-TOROED, SKOTSELV, SVELVIK-BOKEROEYA, SANDE-LAUVKOLLMYR, OSLO-LILLEAKER, GEITHUS, DRAMMEN-SLETTA, MJOENDALEN-ORKIDEHOEGDA, ROEYKEN-SKOGSBORG, GARDERMOENPLU, MJOENDALEN-ASEN, TRYVASSHOEGDAII, HVAM-TOLVHUS, BASTAD, HOELAND-LOEKEN, HAKADAL-BLIKSRUDHAGAN, ALNA, EIDSBERG-JOHNSRUD, HOKKSUND-LOE, DOENSKI, KJELLERII, HOELAND-KOLLERUD, STAURFORSOEKSGARD, ROEDIRADE, DRAMMEN-MARIENLYST, SLAGENTANGENII, JELOEY, BYGDOEY, HVAM, BUSKERUD, HURUM, ROLVSOEY-ELVENESVEIEN, EGNERFJELL, HOF-EIKENES, EIDSBERGII, KALNES, HOELAND-FOSSER, MAKEROEY, STOKKE, VORMSUND, SANDE-VALLE, OSLO-OBSERVATORIET(HYTTE), OESTFOLDTOPPEN, SLAGENTANGEN, FORNEBU, EGGEMOEN, DYSTERUD, JARLSBERGFLYPLASS, STANGE-FOKHOL, EIDSBERG, ASKERBRANNSTASJON, KROKSTADELVA-LANGELOEKKA, SOLBERGELVA-OLLEVEIEN, ITASMOBAWS1, TOENSBERG-VALLOE, TOENSBERG-VEAR, TOENSBERG-EIK, TOENSBERG-BERKAKER, TOENSBERGGJESTEHAVN, GARDERMOEN-SOEROEST, \n",
      " - Dublin: DUBLINPHOENIXPARK, CARRICKMACROSS(DUNOGE), CASEMENTAERODROME, DERRYGREENAGH, DUBLIN(GLASNEVIN), DUBLIN(MERRIONSQUARE), DUBLINAIRPORT, DUNDALK(ANNASKEAGHW.W.), KELLS(HEADFORT), LULLYMORE(BORDNAMONA), WARRENSTOWN, DUNSANYGRANGE, OAKPARK, \n",
      " - Lisbon: LISBOAGEOFISICA, \n",
      " - Vilnius: VILNIUS, LIDA, UTENA, UKMARGE, VARENA, \n",
      " - Copenhagen: KOEBENHAVN:LANDBOHOJSKOLEN-1, KOEBENHAVN:LANDBOHOJSKOLEN, LUND, BARKAKRA, FALSTERBO, MALMOA, SMYGEHUK, FALSTERBO_A, MAGLARP, JORDBERGA, RYNGE_V, HOKOPINGE, STURUP, MALMO, OSKARSGRUNDET_NO, MALMO_2, ALNARP, LUND_LTH, ORTOFTA, TROLLENAS, ORJA, VEN, STEHAG, SVALOV, HELSINGBORG_A, HELSINGBORG, LJUNGBYHED, HASSLARP, MUNKA-LJUNGBY, NYHAMNSLAGE, KULLEN, HUNNESTORP_V, HALLANDS_VADERO_A, HALLANDS_VADERO, TRELLEBORG, ALNARPFRUKTAVDELNING, KOLLEBERGA, \n",
      " - Helsinki: HELSINKIKAISANIEMI, LOHJAPORLA, PORVOOJERNBOLE, VANTAAHELSINKI-VANTAANLENTOASEMA, INKOOBAGASKAR, HELSINKIKATAJALUOTO, ESPOOOTANIEMI, HELSINKIILMALA, HELSINGINMLKTAMMISTO, VIHTIMAASOJA, ESPOONUPURI, HELSINKIHARMAJA, KIRKKONUMMIMAKILUOTO, KIRKKONUMMI, HELSINKIKAISANIEMIAWS, HELSINKIHELSINGINMAJAKKA, HELSINKIKUMPULA, ESPOOSEPANKYLA, HELSINKIRAUTATIENTORI, HELSINKI-MALMINLENTOASEMA, VALLISAARI, HELSINKIVIIKINKOETILA, VANTAATIKKURILA, TUUSULARUOTSINKYLA, TUUSULAHYRYLA, JARVENPAA, HELSINKIMARJANIEMI, PORVOOKALBADAGRUND, PORVOOEMASALO, HELSINKIISOSAARI, HELSINKIHERTTONIEMI, PORVOOLEHTIMAKI, PORVOOHARABACKA, HAMEENLINNAKAURIALA, HYVINKAAHYVINKAANKYLA, NURMIJARVIGEOFYSIIKANOBSERVATORIO, HAMEENLINNAKATINEN, HAMEENLINNALAMMIPAPPILA, KOSKIHLHYRKKALA, HOLLOLAALA-OKEROINEN, MANTSALAPUROLA, TALLINN, \n",
      " - Athens: HELLINIKON, TANAGRA, \n",
      " - Amsterdam: DENHELDER, DEKOOY, DEBILT, WIJKAANZEE, CABAUW, BERKHOUT, HERWIJNEN, SCHIPHOL, SOESTERBERG, STAVOREN, LELYSTAD, ROTTERDAM, GILZE-RIJEN, VLIELAND, HOEKVANHOLLAND, VALKENBURG, HOORN-A, ROTTERDAM-GEULHAVEN, WAGENINGEN-HAARWEG, WAGENINGEN-VEENKAMPEN, VOORSCHOTEN, \n",
      " - Riga: AJNAZI, SKULTE, DOBELE, YELGAVA, BAUSKA, BIRZAI, \n",
      " - Zagreb: ZAGREB-GRIC, CRNOMELJ-DOBLICE, NOVOMESTO, LETALISCEEDVARDARUSJANAMARIBOR, CELJE-MEDLOG, LISCA, MURSKASOBOTA-RAKICAN, VARAZDIN, OGULIN, MARIBOR-VRBANSKIPLATO, \n"
     ]
    }
   ],
   "source": [
    "#Loop over variables\n",
    "for ii, variab in enumerate(variables):\n",
    "        \n",
    "    #Loop over cities\n",
    "    for city in cities:\n",
    "        \n",
    "        print(\" - \" + city , end=': ')\n",
    "        \n",
    "        #Define folders\n",
    "        dir_variab = dir_STA_out + variab + '/'\n",
    "        dir_city   = dir_variab + city + '/'\n",
    "        if not os.path.exists(dir_variab):  os.mkdir(dir_variab)\n",
    "        if not os.path.exists(dir_city):    os.mkdir(dir_city)\n",
    "        \n",
    "        #Get lat and lon of city\n",
    "        lat_sel, lon_sel = city_coords[city]\n",
    "\n",
    "        #Calculate euclidean distance to all stations\n",
    "        dist_max = 1 # unit: degrees\n",
    "        dist = [np.sqrt((station[2] - lat_sel)**2 + (station[3] - lon_sel)**2) for station in all_stations[variab]]\n",
    "\n",
    "        #Get index and station ID of station within a certain distance to city coordinates\n",
    "        indizes = np.where(dist<=dist_max)[0]\n",
    "        \n",
    "        #Loop over selected stations\n",
    "        for ind in indizes:\n",
    "\n",
    "            station_info = all_stations[variab][ind]\n",
    "            STA_id = station_info[0]\n",
    "\n",
    "            #Print name of selected station\n",
    "            print(station_info[1], end=', ')    \n",
    "\n",
    "            #Open data file of selected station\n",
    "            fname = dir_stations + variab + '/' + variab + '_STAID' + str(STA_id).zfill(6) + '.txt'\n",
    "            f = open(fname, 'r')\n",
    "            lines = f.readlines()[21:]\n",
    "            f.close()\n",
    "\n",
    "            #Read dates, values and value quality flag\n",
    "            dates  = [line.split(',')[2] for line in lines]\n",
    "            val    = [float(line.split(',')[3]) for line in lines]\n",
    "            val_QF = [float(line.split(',')[4]) for line in lines]\n",
    "            val    = np.array(val)\n",
    "            val_QF = np.array(val_QF)\n",
    "\n",
    "            #Convert temperature from 0.1 deg C to deg C\n",
    "            if variab in ['TX', 'TG', 'TN']:  val = val / 10\n",
    "\n",
    "            #Convert pressure from 0.1 hPa to Pa\n",
    "            if variab=='PP':  val = val * 10\n",
    "\n",
    "            #Mask temperature according to quality flag\n",
    "            val[val_QF!=0] = np.NaN\n",
    "            val = val.astype(float)\n",
    "            \n",
    "            #Convert dates\n",
    "            dates  = [np.datetime64(date[0:4] + '-' + date[4:6] + '-' + date[6::]) for date in dates]\n",
    "            dates  = pd.to_datetime(dates)\n",
    "            \n",
    "            #Create empty array\n",
    "            data_out = xr.Dataset(coords={'time': ('time', dates),\n",
    "                                           'lat':  ('lat', [station_info[2]]),\n",
    "                                           'lon':  ('lon', [station_info[3]])})\n",
    "\n",
    "            #Add variable to array\n",
    "            data_out[variab] = (('time'), val)\n",
    "            data_out.attrs['station_name'] = station_info[1]\n",
    "            \n",
    "            #Save in NetCDF file\n",
    "            time_str  = str(dates[0].year) + '-' + str(dates[-1].year)\n",
    "            fname_out = dir_city + variab + '_' + str(STA_id) + '_' + time_str + '.nc'\n",
    "            \n",
    "            #Save in NetCDF file\n",
    "            if os.path.exists(fname_out): os.remove(fname_out)\n",
    "            data_out.to_netcdf(fname_out)\n",
    "            \n",
    "        print('')\n",
    "        "
   ]
  },
  {
   "cell_type": "code",
   "execution_count": null,
   "metadata": {},
   "outputs": [],
   "source": []
  }
 ],
 "metadata": {
  "kernelspec": {
   "display_name": "Python 3 (ipykernel)",
   "language": "python",
   "name": "python3"
  },
  "language_info": {
   "codemirror_mode": {
    "name": "ipython",
    "version": 3
   },
   "file_extension": ".py",
   "mimetype": "text/x-python",
   "name": "python",
   "nbconvert_exporter": "python",
   "pygments_lexer": "ipython3",
   "version": "3.8.8"
  }
 },
 "nbformat": 4,
 "nbformat_minor": 2
}

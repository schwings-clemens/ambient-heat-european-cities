{
 "cells": [
  {
   "cell_type": "code",
   "execution_count": null,
   "metadata": {},
   "outputs": [],
   "source": [
    "import matplotlib.pyplot as plt\n",
    "import cartopy.crs as ccrs\n",
    "import cartopy.feature as cfeature\n",
    "import numpy as np\n",
    "import xarray as xr\n",
    "import mplotutils as mpu\n",
    "import yaml\n"
   ]
  },
  {
   "cell_type": "code",
   "execution_count": null,
   "metadata": {},
   "outputs": [],
   "source": [
    "#Read main path\n",
    "with open('../path_main.txt', 'r') as file:    path_main  = file.read()\n",
    "    \n",
    "dir_scripts   = f'{path_main}Scripts/'\n",
    "dir_data_Ymax = f'{path_main}Data/EURO-CORDEX/Yearmax/'\n",
    "dir_fig       = f'{path_main}Figures/Paper_v2/'\n"
   ]
  },
  {
   "cell_type": "markdown",
   "metadata": {},
   "source": [
    "## Prepare variables and parameters"
   ]
  },
  {
   "cell_type": "code",
   "execution_count": null,
   "metadata": {},
   "outputs": [],
   "source": [
    "# Load city coordinates\n",
    "fname_coords = dir_scripts + 'City_coordinates.yml'\n",
    "with open(fname_coords, 'r') as file:\n",
    "    city_coords = yaml.safe_load(file)\n",
    "\n",
    "#List of cities\n",
    "cities = ['Lisbon', 'Madrid', 'Barcelona', 'Rome', 'Athens', 'Istanbul', 'Sofia', 'Bucharest', 'Belgrade',\n",
    "          'Zagreb', 'Milan', 'Budapest', 'Munich', 'Vienna', 'Prague', 'Paris', 'Brussels', 'Amsterdam',\n",
    "          'London', 'Dublin', 'Hamburg', 'Copenhagen', 'Berlin', 'Warsaw', 'Kharkiv', 'Kyiv', 'Minsk','Vilnius', \n",
    "          'Riga', 'Moscow', 'NizhnyNovgorod', 'Kazan', 'SaintPetersburg', 'Helsinki', 'Stockholm', 'Oslo']\n",
    "\n",
    "# Load short city names\n",
    "fname_city_short = dir_scripts + 'City_names_short.yml'\n",
    "with open(fname_city_short, 'r') as file:\n",
    "    city_names_short = yaml.safe_load(file)\n",
    "\n",
    "cities_short = [city_names_short[city] for city in cities]"
   ]
  },
  {
   "cell_type": "markdown",
   "metadata": {},
   "source": [
    "## Plot"
   ]
  },
  {
   "cell_type": "code",
   "execution_count": null,
   "metadata": {
    "scrolled": false
   },
   "outputs": [],
   "source": [
    "#Define variable\n",
    "variab = 'TXx'\n",
    "\n",
    "#Read data\n",
    "data = xr.open_dataset(dir_data_Ymax + variab + '_all_models_yearmax.nc')\n",
    "\n",
    "#Create figure\n",
    "fig, ax = plt.subplots(1, 1, figsize=(10, 10), subplot_kw=dict(projection=ccrs.RotatedPole(pole_latitude=39.25, pole_longitude=-162)))\n",
    "\n",
    "#Add coastlines and set extent\n",
    "ax.coastlines(resolution='50m', linewidth=0.75, color='k')\n",
    "ax.add_feature(cfeature.BORDERS, linewidth=0.5, edgecolor='#bdbdbd')\n",
    "ax.set_extent([-8, 39, 33, 65], crs=ccrs.PlateCarree())\n",
    "\n",
    "#Select data\n",
    "val = data.median('model')[variab]\n",
    "\n",
    "#Plot\n",
    "h1 = ax.pcolormesh(data.lon, data.lat, val, transform=ccrs.PlateCarree(), vmin=0, vmax=5, cmap='Reds')\n",
    "\n",
    "#Colorbar\n",
    "cbar = mpu.colorbar(h1, ax, orientation='horizontal', extend='max', size=0.06, shrink=0.10, pad=0.06)\n",
    "cbar.ax.tick_params(labelsize=22)\n",
    "cbar.set_label('$\\Delta$' + variab + ' [°C]', fontsize=26, labelpad=15)\\\n",
    "\n",
    "#Loop over cities\n",
    "for i0, city in enumerate(cities):\n",
    "    \n",
    "    #Get coordinates\n",
    "    coord = city_coords[city]\n",
    "    \n",
    "    #Write number\n",
    "    ax.text(coord[1], coord[0], str(i0+1), transform=ccrs.PlateCarree(),\n",
    "            color='k', fontweight='bold', fontsize=12, ha='center', va='center',\n",
    "            bbox=dict(facecolor='#efedf5', edgecolor='none', alpha=0.8, boxstyle=\"round,pad=0.4, rounding_size=0.5\"))\n",
    "\n",
    "#Add axis and position it\n",
    "pos = ax.get_position()\n",
    "x0  = pos.x0 + pos.x1 - 0.08\n",
    "xd  = 0.35\n",
    "ax2 = fig.add_axes([x0, pos.y0 - 0.05, xd, pos.y1 - 0.1])\n",
    "\n",
    "#Loop over cities\n",
    "for i0, (city_long, city_short) in enumerate(zip(cities, cities_short)):\n",
    "    \n",
    "    if city_long=='NizhnyNovgorod':     city_out = 'Nizhny Novgorod'\n",
    "    elif city_long=='SaintPetersburg':  city_out = 'Saint Petersburg'\n",
    "    else:                          city_out = city_long\n",
    "        \n",
    "        \n",
    "    if len(city_long)>4:\n",
    "        add_short = ' (' + city_short + ')'\n",
    "    else:\n",
    "        add_short = ''\n",
    "        \n",
    "    #Write city names\n",
    "    if i0<18:  x_txt = 0\n",
    "    else:      x_txt = 4.3\n",
    "    ax2.text(x_txt, len(cities)/2-np.mod(i0, 18), str(i0+1) + ': ' + city_out + add_short, fontsize=18)\n",
    "    \n",
    "#Set limits and disable frame\n",
    "ax2.set_ylim([-2, len(cities)/2 + 3])\n",
    "ax2.set_xlim([0, 5])\n",
    "ax2.axis('off')\n",
    "\n",
    "#Save in file\n",
    "fig.savefig(dir_fig + 'Fig1_Cities_Europe.png', dpi=200, bbox_inches='tight')\n"
   ]
  },
  {
   "cell_type": "markdown",
   "metadata": {},
   "source": [
    "## Additional plot"
   ]
  },
  {
   "cell_type": "code",
   "execution_count": null,
   "metadata": {},
   "outputs": [],
   "source": [
    "#Create figures\n",
    "fig, ax = plt.subplots(1, 1, figsize=(10, 10), subplot_kw=dict(projection=ccrs.Robinson()))\n",
    "\n",
    "#Add coastlines and borders\n",
    "ax.coastlines(resolution='50m', linewidth=0.75, color='#737373', zorder=0)\n",
    "ax.add_feature(cfeature.BORDERS, linewidth=0.5, edgecolor='#bdbdbd', zorder=0)\n",
    "\n",
    "#Loop over cities\n",
    "for i0, city in enumerate(cities):\n",
    "    \n",
    "    #Get coordinates\n",
    "    coord = city_coords[city]\n",
    "    \n",
    "    #Write number\n",
    "    ax.text(coord[1], coord[0], str(i0+1), transform=ccrs.PlateCarree(),\n",
    "            color='#4a1486', fontweight='bold', fontsize=12, ha='center', va='center',\n",
    "            bbox=dict(facecolor='#efedf5', edgecolor='none', alpha=0.8, boxstyle=\"round,pad=0.4, rounding_size=0.5\"))\n",
    "    \n",
    "#Set extent of map\n",
    "ax.set_extent([-10.5, 46, 33, 70])    \n",
    "# ax.set_extent([-10, 35, 30, 70])    \n",
    "\n",
    "#Add axis and position it\n",
    "pos = ax.get_position()\n",
    "x0  = pos.x0 + pos.x1 - 0.08\n",
    "xd  = 0.35\n",
    "ax2 = fig.add_axes([x0, pos.y0 , xd, pos.y1 - 0.2])\n",
    "\n",
    "#Loop over cities\n",
    "for i0, city in enumerate(cities):\n",
    "    \n",
    "    if city=='NizhnyNovgorod':     city_out = 'Nizhny Novgorod'\n",
    "    elif city=='SaintPetersburg':  city_out = 'Saint Petersburg'\n",
    "    else:                          city_out = city\n",
    "    \n",
    "    #Write city names\n",
    "    if i0<18:  x_txt = 0\n",
    "    else:      x_txt = 3\n",
    "    ax2.text(x_txt, len(cities)/2-np.mod(i0, 18), str(i0+1) + ': ' + city_out, fontsize=15)\n",
    "    \n",
    "#Set limits and disable frame\n",
    "ax2.set_ylim([-2, len(cities)/2 + 3])\n",
    "ax2.set_xlim([0, 5])\n",
    "ax2.axis('off')\n",
    "\n",
    "# #Save in file\n",
    "# fig.savefig(dir_fig + 'FigS_Cities_Europe.png', dpi=200, bbox_inches='tight')\n"
   ]
  }
 ],
 "metadata": {
  "kernelspec": {
   "display_name": "Python 3 (ipykernel)",
   "language": "python",
   "name": "python3"
  },
  "language_info": {
   "codemirror_mode": {
    "name": "ipython",
    "version": 3
   },
   "file_extension": ".py",
   "mimetype": "text/x-python",
   "name": "python",
   "nbconvert_exporter": "python",
   "pygments_lexer": "ipython3",
   "version": "3.8.8"
  }
 },
 "nbformat": 4,
 "nbformat_minor": 2
}

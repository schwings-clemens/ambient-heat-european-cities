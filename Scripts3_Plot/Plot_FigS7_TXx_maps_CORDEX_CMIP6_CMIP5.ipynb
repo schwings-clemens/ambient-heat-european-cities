{
 "cells": [
  {
   "cell_type": "code",
   "execution_count": null,
   "metadata": {},
   "outputs": [],
   "source": [
    "import os\n",
    "import sys\n",
    "import time as t_util\n",
    "import numpy as np\n",
    "import cftime\n",
    "import xarray as xr\n",
    "import matplotlib.pyplot as plt\n",
    "import matplotlib\n",
    "import mplotutils as mpu\n",
    "import cartopy.crs as ccrs\n",
    "import cartopy.feature as cfeature\n"
   ]
  },
  {
   "cell_type": "code",
   "execution_count": null,
   "metadata": {},
   "outputs": [],
   "source": [
    "#Read main path\n",
    "with open('../path_main.txt', 'r') as file:    path_main = file.read()\n",
    "\n",
    "dir_data = f'{path_main}Data/'\n",
    "dir_fig  = f'{path_main}Figures/Paper_v2/'\n",
    "dir_repo = f'{path_main}Data/RepositoryPublication/'\n",
    "if not os.path.exists(dir_fig): os.mkdir(dir_fig)\n",
    "    "
   ]
  },
  {
   "cell_type": "markdown",
   "metadata": {},
   "source": [
    "## Plot (4 ensembles)"
   ]
  },
  {
   "cell_type": "code",
   "execution_count": null,
   "metadata": {
    "scrolled": true
   },
   "outputs": [],
   "source": [
    "#Define variable\n",
    "variab = 'TXx'\n",
    "\n",
    "#Define model sets\n",
    "model_sets = ['EURO-CORDEX', 'CMIP5-CORDEX', 'CMIP5', 'CMIP6']\n",
    "\n",
    "#Create figure\n",
    "fig, axes = plt.subplots(2, 2, figsize=(11, 10.5), subplot_kw=dict(projection=ccrs.RotatedPole(pole_latitude=39.25, pole_longitude=-162)))\n",
    "axes = axes.flatten()\n",
    "plt.subplots_adjust(wspace=0.075)\n",
    "plt.subplots_adjust(hspace=0.15)\n",
    "\n",
    "#Define limits\n",
    "limits = [0, 6]\n",
    "\n",
    "#Loop over model sets\n",
    "collect_data = dict()\n",
    "for i1, model_set in enumerate(model_sets):\n",
    "    \n",
    "    ax = axes[i1]\n",
    "    \n",
    "    #Skip TNx for CMIP5 since data are not available for all models\n",
    "    if model_set=='CMIP5' and variab=='TNx':\n",
    "        continue    \n",
    "\n",
    "    #Read data\n",
    "    if model_set=='CMIP5-CORDEX':\n",
    "        dir_files = dir_data + 'CMIP5/Yearmax/'\n",
    "        fname     = dir_files + variab + '_CMIP5-CORDEX-ensemble_all_models_yearmax.nc'\n",
    "        title = 'EURO-CORDEX GCM ensemble'\n",
    "    else:\n",
    "        dir_files = dir_data + model_set + '/Yearmax/'\n",
    "        fname     = dir_files + variab + '_all_models_yearmax.nc'\n",
    "        title = model_set\n",
    "    data  = xr.open_dataset(fname)\n",
    "    \n",
    "    #Add coastlines and set extent\n",
    "    ax.coastlines(resolution='50m', linewidth=0.75, color='k')\n",
    "    ax.set_extent([-7.5, 39, 33, 65], crs=ccrs.PlateCarree())\n",
    "    \n",
    "    #Select data\n",
    "    val = data[variab].median('model')\n",
    "\n",
    "    #Plot\n",
    "    h1 = ax.pcolormesh(data.lon, data.lat, val, transform=ccrs.PlateCarree(), vmin=limits[0], vmax=limits[1], cmap='Reds')\n",
    "\n",
    "    #Set title\n",
    "    ax.set_title(title, fontsize=16, pad=10)\n",
    "\n",
    "    #Collect data to save as NetCDF\n",
    "    collect_data[model_set] = val\n",
    "    \n",
    "#Colorbar\n",
    "cbar = mpu.colorbar(h1, axes[-2], axes[-1], orientation='horizontal', extend='max', size=0.08, shrink=1/3, pad=0.08)\n",
    "cbar.ax.tick_params(labelsize=12)\n",
    "cbar.set_label('$\\Delta$' + variab + ' [°C]', fontsize=16, labelpad=10)\n",
    "\n",
    "#Save in file\n",
    "fig.savefig(dir_fig + 'FigS7_TX-changes_CORDEX_CMIP6_CMIP5.png', dpi=300, bbox_inches='tight')\n"
   ]
  },
  {
   "cell_type": "markdown",
   "metadata": {},
   "source": [
    "## Export data to excel NetCDF"
   ]
  },
  {
   "cell_type": "code",
   "execution_count": null,
   "metadata": {},
   "outputs": [],
   "source": [
    "#Define compression for output NetCDF file\n",
    "comp = dict(zlib=True, complevel=3)\n",
    "\n",
    "#Define scenarios\n",
    "scenarios = dict()\n",
    "scenarios['EURO-CORDEX'] = 'RCP85'\n",
    "scenarios['CMIP5-CORDEX'] = 'RCP85'\n",
    "scenarios['CMIP5'] = 'RCP85'\n",
    "scenarios['CMIP6'] = 'SSP585'\n",
    "\n",
    "#Define figure number\n",
    "figs_out = dict()\n",
    "figs_out['EURO-CORDEX'] = 'Fig1'\n",
    "figs_out['CMIP5-CORDEX'] = 'FigS7'\n",
    "figs_out['CMIP5'] = 'FigS7'\n",
    "figs_out['CMIP6'] = 'FigS7'\n",
    "\n",
    "#Loop over model sets\n",
    "for model_set in model_sets:\n",
    "    \n",
    "    #Select data and convert to dataset\n",
    "    data = collect_data[model_set]\n",
    "    data = data.to_dataset(name=variab)\n",
    "    \n",
    "    #Add attributes for TXx\n",
    "    data['TXx'].attrs['standard_name'] = 'Delta-TXx'\n",
    "    data['TXx'].attrs['long_name']     = 'Change in annual maximum of daily maximum temperature'\n",
    "    data['TXx'].attrs['units']         = 'K'\n",
    "\n",
    "    #Get Figure number and scenario\n",
    "    fig_out = figs_out[model_set]\n",
    "    scen    = scenarios[model_set]\n",
    "    \n",
    "    #Define output file name\n",
    "    fname_out = dir_repo + 'Data_' + fig_out + '_DeltaTXx_' + model_set + '_1981-2010_to_3K-European-warming_' + scen + '.nc'\n",
    "    if os.path.exists(fname_out):  os.remove(fname_out)\n",
    "\n",
    "    #Save data as NetCDF\n",
    "    data.to_netcdf(fname_out, encoding={var: comp for var in data.data_vars})\n",
    "    "
   ]
  },
  {
   "cell_type": "code",
   "execution_count": null,
   "metadata": {},
   "outputs": [],
   "source": []
  }
 ],
 "metadata": {
  "kernelspec": {
   "display_name": "Python 3 (ipykernel)",
   "language": "python",
   "name": "python3"
  },
  "language_info": {
   "codemirror_mode": {
    "name": "ipython",
    "version": 3
   },
   "file_extension": ".py",
   "mimetype": "text/x-python",
   "name": "python",
   "nbconvert_exporter": "python",
   "pygments_lexer": "ipython3",
   "version": "3.8.8"
  }
 },
 "nbformat": 4,
 "nbformat_minor": 2
}

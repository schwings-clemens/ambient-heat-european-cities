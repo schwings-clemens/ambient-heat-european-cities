{
 "cells": [
  {
   "cell_type": "code",
   "execution_count": 1,
   "metadata": {},
   "outputs": [],
   "source": [
    "import os\n",
    "import sys\n",
    "import xarray as xr\n",
    "import cftime\n",
    "import numpy as np\n",
    "import datetime\n",
    "import pandas as pd\n",
    "import time as t_util\n"
   ]
  },
  {
   "cell_type": "markdown",
   "metadata": {},
   "source": [
    "## Define folders"
   ]
  },
  {
   "cell_type": "code",
   "execution_count": 2,
   "metadata": {},
   "outputs": [],
   "source": [
    "dir_SLAND  = '/work/mj0060/m300896/Trendy/Data/SLAND_Trendy-v10_S2_LatLon/'\n",
    "dir_forest = '/work/mj0060/m300896/GCB2021_commentary/Data/forest_masks/'\n",
    "dir_ELUC   = '/work/mj0060/m300896/GCB2021_commentary/Data/ELUC_countries/'\n",
    "dir_peat   = '/work/mj0060/m300896/GCB2021/Data/Peat_data/'\n",
    "dir_LSM    = '/work/mj0060/m300896/Trendy/Data/LSMs_Trendy-v10/'\n",
    "dir_area   = '/work/mj0060/m300896/Trendy/Data/gridarea/'\n",
    "dir_out    = '/work/mj0060/m300896/GCB2021_commentary/Data/repository_data/'\n"
   ]
  },
  {
   "cell_type": "markdown",
   "metadata": {},
   "source": [
    "## Read forest map"
   ]
  },
  {
   "cell_type": "code",
   "execution_count": 3,
   "metadata": {},
   "outputs": [],
   "source": [
    "#Select year for forest mask\n",
    "year = '2013'\n",
    "\n",
    "#Read forest mask\n",
    "fname_mask = dir_forest +  'Hansen2010_IFL_' + year + '.nc'\n",
    "for_mask = xr.open_dataset(fname_mask)\n",
    "\n",
    "#Read forest fraction\n",
    "fname_Hansen = dir_forest + 'ForestFraction_0.5deg_2013_regrid360x720-ForestMask.nc'\n",
    "data_Hansen = xr.open_dataset(fname_Hansen)\n",
    "\n",
    "#Read weight factors for forest (forest fraction in Hansen 2013 divided by pre-industrial forest fraction from S2 simulations)\n",
    "fname_weight = dir_forest + 'Weights_ForestFraction_DGVMs-S2-S3_regrid360x720-ForestMask.nc'\n",
    "for_weight = xr.open_dataset(fname_weight)\n",
    "\n",
    "#Re-index data\n",
    "check_lat = np.max(np.abs(data_Hansen['lat'].values - for_mask.lat.values))\n",
    "check_lon = np.max(np.abs(data_Hansen['lon'].values - for_mask.lon.values))\n",
    "if check_lat>0.01 or check_lon>0.01:  sys.exit('Latitudes do not agree')\n",
    "data_Hansen = data_Hansen.reindex({'lat': for_mask['lat'], 'lon': for_mask['lon']}, method='nearest')\n",
    "\n",
    "#Get intact and non-intact forest mask\n",
    "for_nonintact = data_Hansen.forest_fraction.where(for_mask.Band1!=2)\n",
    "for_nonintact = for_nonintact > 0.0\n",
    "for_nonintact = for_nonintact.where(for_nonintact)\n",
    "for_intact = data_Hansen.forest_fraction.where(for_mask.Band1==2)\n",
    "for_intact = for_intact > 0.0\n",
    "for_intact = for_intact.where(for_intact)\n"
   ]
  },
  {
   "cell_type": "markdown",
   "metadata": {},
   "source": [
    "## Read SLAND data"
   ]
  },
  {
   "cell_type": "code",
   "execution_count": 4,
   "metadata": {},
   "outputs": [],
   "source": [
    "time_sta = '2001'\n",
    "time_end = '2015'\n",
    "\n",
    "for_limit = 0.20\n",
    "\n",
    "#Select grid size\n",
    "# gridsize = '360x720'\n",
    "gridsize = '360x720-ForestMask'\n",
    "\n",
    "#Read SLAND data\n",
    "fname_SLAND = dir_SLAND + \"SLAND-weighted_ForestFraction_DGVMs-S2-S3_all-models_\" + time_sta + \"-\" + time_end + \"-mean_regrid\" + gridsize + \".nc\"\n",
    "data_SLAND  = xr.open_dataset(fname_SLAND)\n",
    "\n",
    "#Read land-sea mak\n",
    "fname_LSM = dir_LSM + 'LandSeaMask_' + gridsize + '.nc'\n",
    "data_LSM  = xr.open_dataset(fname_LSM)\n",
    "\n",
    "#Calculate multi-model median\n",
    "data_SLAND_map = data_SLAND.median(dim='model')\n",
    "\n",
    "#Apply land-sea mask\n",
    "data_SLAND_map = data_SLAND_map.where(data_LSM.sftlf>=0.5)\n",
    "\n",
    "#Set correct sign vor SLAND\n",
    "data_SLAND_map = -data_SLAND_map\n",
    "\n",
    "#Convert unit from t C / ha / year to t CO2 / ha / year\n",
    "data_SLAND_map = 44/12 * data_SLAND_map\n"
   ]
  },
  {
   "cell_type": "markdown",
   "metadata": {},
   "source": [
    "## Read ELUC data"
   ]
  },
  {
   "cell_type": "code",
   "execution_count": 6,
   "metadata": {},
   "outputs": [],
   "source": [
    "version = ''\n",
    "\n",
    "time_sta = '2001'\n",
    "time_end = '2015'\n",
    "\n",
    "#Read data\n",
    "fname_BLUE_sinks    = dir_ELUC + 'ELUC_BLUE_GCB2021_ELUC-sinks-density_2000-2020.nc'\n",
    "fname_BLUE_sources  = dir_ELUC + 'ELUC_BLUE_GCB2021_ELUC-sources-density_2000-2020.nc'\n",
    "fname_HN21_sinks    = dir_ELUC + 'ELUC_H&N_GCB2021_ELUC-sinks-density_2000-2020' + version + '.nc'\n",
    "fname_HN21_sources  = dir_ELUC + 'ELUC_H&N_GCB2021_ELUC-sources-density_2000-2020' + version + '.nc'\n",
    "fname_OSCAR_sinks   = dir_ELUC + 'ELUC_OSCAR_GCB2021_ELUC-sinks-density_2000-2020' + version + '.nc'\n",
    "fname_OSCAR_sources = dir_ELUC + 'ELUC_OSCAR_GCB2021_ELUC-sources-density_2000-2020' + version + '.nc'\n",
    "data_BLUE_snk  = xr.open_dataset(fname_BLUE_sinks)\n",
    "data_BLUE_src  = xr.open_dataset(fname_BLUE_sources)\n",
    "data_HN21_snk  = xr.open_dataset(fname_HN21_sinks)\n",
    "data_HN21_src  = xr.open_dataset(fname_HN21_sources)\n",
    "data_OSCAR_snk = xr.open_dataset(fname_OSCAR_sinks)\n",
    "data_OSCAR_src = xr.open_dataset(fname_OSCAR_sources)\n",
    "\n",
    "#Read peat data\n",
    "fname_peat = dir_peat + 'Peat_emissions_2000-2020.nc'\n",
    "data_peat  = xr.open_dataset(fname_peat)\n",
    "data_peat  = data_peat.rename({'E_peat': 'ELUC'})\n",
    "data_peat  = data_peat / 100 # Convert g C/m2 to t C/ha\n",
    "\n",
    "#Calculate ELUC net\n",
    "data_BLUE_net  = data_BLUE_snk + data_BLUE_src\n",
    "data_HN21_net  = data_HN21_snk + data_HN21_src\n",
    "data_OSCAR_net = data_OSCAR_snk + data_OSCAR_src\n",
    "\n",
    "#Calculate average over 2001-2015\n",
    "data_BLUE_net = data_BLUE_net.sel(time=slice(time_sta, time_end)).mean('time')\n",
    "if version!='_vMean':\n",
    "    data_HN21_net  = data_HN21_net.sel(time=slice(time_sta, time_end)).mean('time')\n",
    "    data_OSCAR_net = data_OSCAR_net.sel(time=slice(time_sta, time_end)).mean('time')\n",
    "data_peat      = data_peat.sel(time=slice(time_sta, time_end)).mean('time')\n",
    "\n",
    "#Concatenate models and calculate average over models\n",
    "data_ELUC_map = data_BLUE_net.expand_dims('model')\n",
    "data_ELUC_map = xr.concat((data_ELUC_map, data_HN21_net, data_OSCAR_net), dim='model')\n",
    "data_ELUC_map = data_ELUC_map.mean('model')\n",
    "\n",
    "#Add peat to ELUC\n",
    "data_ELUC_map = data_ELUC_map + data_peat\n",
    "\n",
    "#Read land-sea mak\n",
    "fname_LSM = dir_LSM + 'LandSeaMask_720x1440.nc'\n",
    "data_LSM  = xr.open_dataset(fname_LSM)\n",
    "\n",
    "#Apply land-sea mask\n",
    "data_ELUC_map = data_ELUC_map.where(data_LSM.sftlf>=0.05)\n",
    "\n",
    "#Convert unit from t C/ha to t CO2/ha\n",
    "data_ELUC_map = 44/12 * data_ELUC_map\n"
   ]
  },
  {
   "cell_type": "markdown",
   "metadata": {},
   "source": [
    "## Save data as NetCDF files"
   ]
  },
  {
   "cell_type": "code",
   "execution_count": 7,
   "metadata": {},
   "outputs": [],
   "source": [
    "#Define compression for output NetCDF file\n",
    "comp = dict(zlib=True, complevel=3)\n",
    "\n",
    "#Add attributes for SLAND\n",
    "data_SLAND_map['SLAND'].attrs['standard_name'] = 'SLAND'\n",
    "data_SLAND_map['SLAND'].attrs['long_name']     = 'Natural CO2 fluxes on land'\n",
    "data_SLAND_map['SLAND'].attrs['units']         = 't CO2/ha'\n",
    "\n",
    "#Add attributes for ELUC\n",
    "data_ELUC_map['ELUC'].attrs['standard_name'] = 'ELUC'\n",
    "data_ELUC_map['ELUC'].attrs['long_name']     = 'Anthropogenic CO2 fluxes from LULUCF'\n",
    "data_ELUC_map['ELUC'].attrs['units']         = 't CO2/ha'\n",
    "\n",
    "#Define output file names\n",
    "fname_out_SLAND = dir_out + 'Fig1_Data_gridded_natural-land-flux_DGVMs_' + time_sta + '-' + time_end + '.nc'\n",
    "fname_out_ELUC  = dir_out + 'Fig1_Data_gridded_anthropogenic-LULUCF-flux_BM-models_' + time_sta + '-' + time_end + '.nc'\n",
    "if os.path.exists(fname_out_SLAND):  os.remove(fname_out_SLAND)\n",
    "if os.path.exists(fname_out_ELUC):   os.remove(fname_out_ELUC)\n",
    "\n",
    "#Save data as NetCDF\n",
    "data_SLAND_map.to_netcdf(fname_out_SLAND, encoding={var: comp for var in data_SLAND_map.data_vars})\n",
    "data_ELUC_map.to_netcdf(fname_out_ELUC, encoding={var: comp for var in data_ELUC_map.data_vars})\n"
   ]
  },
  {
   "cell_type": "code",
   "execution_count": null,
   "metadata": {},
   "outputs": [],
   "source": []
  }
 ],
 "metadata": {
  "kernelspec": {
   "display_name": "Python 3 (ipykernel)",
   "language": "python",
   "name": "python3"
  },
  "language_info": {
   "codemirror_mode": {
    "name": "ipython",
    "version": 3
   },
   "file_extension": ".py",
   "mimetype": "text/x-python",
   "name": "python",
   "nbconvert_exporter": "python",
   "pygments_lexer": "ipython3",
   "version": "3.8.8"
  }
 },
 "nbformat": 4,
 "nbformat_minor": 4
}
